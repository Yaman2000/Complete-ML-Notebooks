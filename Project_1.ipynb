{
  "cells": [
    {
      "cell_type": "markdown",
      "metadata": {
        "id": "view-in-github",
        "colab_type": "text"
      },
      "source": [
        "<a href=\"https://colab.research.google.com/github/Yaman2000/Complete-ML-Notebooks/blob/main/Project_1.ipynb\" target=\"_parent\"><img src=\"https://colab.research.google.com/assets/colab-badge.svg\" alt=\"Open In Colab\"/></a>"
      ]
    },
    {
      "cell_type": "code",
      "execution_count": null,
      "id": "a25a810d",
      "metadata": {
        "id": "a25a810d"
      },
      "outputs": [],
      "source": [
        "import pandas as pd"
      ]
    },
    {
      "cell_type": "code",
      "execution_count": null,
      "id": "6cbbff5d",
      "metadata": {
        "id": "6cbbff5d"
      },
      "outputs": [],
      "source": [
        "dataset = pd.read_csv('Attrition.csv')"
      ]
    },
    {
      "cell_type": "code",
      "execution_count": null,
      "id": "5944c63c",
      "metadata": {
        "scrolled": true,
        "id": "5944c63c",
        "outputId": "c847465f-0b83-47f0-e1c8-221439a9168c"
      },
      "outputs": [
        {
          "data": {
            "text/html": [
              "<div>\n",
              "<style scoped>\n",
              "    .dataframe tbody tr th:only-of-type {\n",
              "        vertical-align: middle;\n",
              "    }\n",
              "\n",
              "    .dataframe tbody tr th {\n",
              "        vertical-align: top;\n",
              "    }\n",
              "\n",
              "    .dataframe thead th {\n",
              "        text-align: right;\n",
              "    }\n",
              "</style>\n",
              "<table border=\"1\" class=\"dataframe\">\n",
              "  <thead>\n",
              "    <tr style=\"text-align: right;\">\n",
              "      <th></th>\n",
              "      <th>Age</th>\n",
              "      <th>Attrition</th>\n",
              "      <th>BusinessTravel</th>\n",
              "      <th>Department</th>\n",
              "      <th>DistanceFromHome</th>\n",
              "      <th>Education</th>\n",
              "      <th>EducationField</th>\n",
              "      <th>EmployeeCount</th>\n",
              "      <th>EmployeeID</th>\n",
              "      <th>Gender</th>\n",
              "      <th>...</th>\n",
              "      <th>NumCompaniesWorked</th>\n",
              "      <th>Over18</th>\n",
              "      <th>PercentSalaryHike</th>\n",
              "      <th>StandardHours</th>\n",
              "      <th>StockOptionLevel</th>\n",
              "      <th>TotalWorkingYears</th>\n",
              "      <th>TrainingTimesLastYear</th>\n",
              "      <th>YearsAtCompany</th>\n",
              "      <th>YearsSinceLastPromotion</th>\n",
              "      <th>YearsWithCurrManager</th>\n",
              "    </tr>\n",
              "  </thead>\n",
              "  <tbody>\n",
              "    <tr>\n",
              "      <th>0</th>\n",
              "      <td>51</td>\n",
              "      <td>No</td>\n",
              "      <td>Travel_Rarely</td>\n",
              "      <td>Sales</td>\n",
              "      <td>6</td>\n",
              "      <td>2</td>\n",
              "      <td>Life Sciences</td>\n",
              "      <td>1</td>\n",
              "      <td>1</td>\n",
              "      <td>Female</td>\n",
              "      <td>...</td>\n",
              "      <td>1.0</td>\n",
              "      <td>Y</td>\n",
              "      <td>11</td>\n",
              "      <td>8</td>\n",
              "      <td>0</td>\n",
              "      <td>1.0</td>\n",
              "      <td>6</td>\n",
              "      <td>1</td>\n",
              "      <td>0</td>\n",
              "      <td>0</td>\n",
              "    </tr>\n",
              "    <tr>\n",
              "      <th>1</th>\n",
              "      <td>31</td>\n",
              "      <td>Yes</td>\n",
              "      <td>Travel_Frequently</td>\n",
              "      <td>Research &amp; Development</td>\n",
              "      <td>10</td>\n",
              "      <td>1</td>\n",
              "      <td>Life Sciences</td>\n",
              "      <td>1</td>\n",
              "      <td>2</td>\n",
              "      <td>Female</td>\n",
              "      <td>...</td>\n",
              "      <td>0.0</td>\n",
              "      <td>Y</td>\n",
              "      <td>23</td>\n",
              "      <td>8</td>\n",
              "      <td>1</td>\n",
              "      <td>6.0</td>\n",
              "      <td>3</td>\n",
              "      <td>5</td>\n",
              "      <td>1</td>\n",
              "      <td>4</td>\n",
              "    </tr>\n",
              "    <tr>\n",
              "      <th>2</th>\n",
              "      <td>32</td>\n",
              "      <td>No</td>\n",
              "      <td>Travel_Frequently</td>\n",
              "      <td>Research &amp; Development</td>\n",
              "      <td>17</td>\n",
              "      <td>4</td>\n",
              "      <td>Other</td>\n",
              "      <td>1</td>\n",
              "      <td>3</td>\n",
              "      <td>Male</td>\n",
              "      <td>...</td>\n",
              "      <td>1.0</td>\n",
              "      <td>Y</td>\n",
              "      <td>15</td>\n",
              "      <td>8</td>\n",
              "      <td>3</td>\n",
              "      <td>5.0</td>\n",
              "      <td>2</td>\n",
              "      <td>5</td>\n",
              "      <td>0</td>\n",
              "      <td>3</td>\n",
              "    </tr>\n",
              "    <tr>\n",
              "      <th>3</th>\n",
              "      <td>38</td>\n",
              "      <td>No</td>\n",
              "      <td>Non-Travel</td>\n",
              "      <td>Research &amp; Development</td>\n",
              "      <td>2</td>\n",
              "      <td>5</td>\n",
              "      <td>Life Sciences</td>\n",
              "      <td>1</td>\n",
              "      <td>4</td>\n",
              "      <td>Male</td>\n",
              "      <td>...</td>\n",
              "      <td>3.0</td>\n",
              "      <td>Y</td>\n",
              "      <td>11</td>\n",
              "      <td>8</td>\n",
              "      <td>3</td>\n",
              "      <td>13.0</td>\n",
              "      <td>5</td>\n",
              "      <td>8</td>\n",
              "      <td>7</td>\n",
              "      <td>5</td>\n",
              "    </tr>\n",
              "    <tr>\n",
              "      <th>4</th>\n",
              "      <td>32</td>\n",
              "      <td>No</td>\n",
              "      <td>Travel_Rarely</td>\n",
              "      <td>Research &amp; Development</td>\n",
              "      <td>10</td>\n",
              "      <td>1</td>\n",
              "      <td>Medical</td>\n",
              "      <td>1</td>\n",
              "      <td>5</td>\n",
              "      <td>Male</td>\n",
              "      <td>...</td>\n",
              "      <td>4.0</td>\n",
              "      <td>Y</td>\n",
              "      <td>12</td>\n",
              "      <td>8</td>\n",
              "      <td>2</td>\n",
              "      <td>9.0</td>\n",
              "      <td>2</td>\n",
              "      <td>6</td>\n",
              "      <td>0</td>\n",
              "      <td>4</td>\n",
              "    </tr>\n",
              "    <tr>\n",
              "      <th>...</th>\n",
              "      <td>...</td>\n",
              "      <td>...</td>\n",
              "      <td>...</td>\n",
              "      <td>...</td>\n",
              "      <td>...</td>\n",
              "      <td>...</td>\n",
              "      <td>...</td>\n",
              "      <td>...</td>\n",
              "      <td>...</td>\n",
              "      <td>...</td>\n",
              "      <td>...</td>\n",
              "      <td>...</td>\n",
              "      <td>...</td>\n",
              "      <td>...</td>\n",
              "      <td>...</td>\n",
              "      <td>...</td>\n",
              "      <td>...</td>\n",
              "      <td>...</td>\n",
              "      <td>...</td>\n",
              "      <td>...</td>\n",
              "      <td>...</td>\n",
              "    </tr>\n",
              "    <tr>\n",
              "      <th>4405</th>\n",
              "      <td>42</td>\n",
              "      <td>No</td>\n",
              "      <td>Travel_Rarely</td>\n",
              "      <td>Research &amp; Development</td>\n",
              "      <td>5</td>\n",
              "      <td>4</td>\n",
              "      <td>Medical</td>\n",
              "      <td>1</td>\n",
              "      <td>4406</td>\n",
              "      <td>Female</td>\n",
              "      <td>...</td>\n",
              "      <td>3.0</td>\n",
              "      <td>Y</td>\n",
              "      <td>17</td>\n",
              "      <td>8</td>\n",
              "      <td>1</td>\n",
              "      <td>10.0</td>\n",
              "      <td>5</td>\n",
              "      <td>3</td>\n",
              "      <td>0</td>\n",
              "      <td>2</td>\n",
              "    </tr>\n",
              "    <tr>\n",
              "      <th>4406</th>\n",
              "      <td>29</td>\n",
              "      <td>No</td>\n",
              "      <td>Travel_Rarely</td>\n",
              "      <td>Research &amp; Development</td>\n",
              "      <td>2</td>\n",
              "      <td>4</td>\n",
              "      <td>Medical</td>\n",
              "      <td>1</td>\n",
              "      <td>4407</td>\n",
              "      <td>Male</td>\n",
              "      <td>...</td>\n",
              "      <td>2.0</td>\n",
              "      <td>Y</td>\n",
              "      <td>15</td>\n",
              "      <td>8</td>\n",
              "      <td>0</td>\n",
              "      <td>10.0</td>\n",
              "      <td>2</td>\n",
              "      <td>3</td>\n",
              "      <td>0</td>\n",
              "      <td>2</td>\n",
              "    </tr>\n",
              "    <tr>\n",
              "      <th>4407</th>\n",
              "      <td>25</td>\n",
              "      <td>No</td>\n",
              "      <td>Travel_Rarely</td>\n",
              "      <td>Research &amp; Development</td>\n",
              "      <td>25</td>\n",
              "      <td>2</td>\n",
              "      <td>Life Sciences</td>\n",
              "      <td>1</td>\n",
              "      <td>4408</td>\n",
              "      <td>Male</td>\n",
              "      <td>...</td>\n",
              "      <td>0.0</td>\n",
              "      <td>Y</td>\n",
              "      <td>20</td>\n",
              "      <td>8</td>\n",
              "      <td>0</td>\n",
              "      <td>5.0</td>\n",
              "      <td>4</td>\n",
              "      <td>4</td>\n",
              "      <td>1</td>\n",
              "      <td>2</td>\n",
              "    </tr>\n",
              "    <tr>\n",
              "      <th>4408</th>\n",
              "      <td>42</td>\n",
              "      <td>No</td>\n",
              "      <td>Travel_Rarely</td>\n",
              "      <td>Sales</td>\n",
              "      <td>18</td>\n",
              "      <td>2</td>\n",
              "      <td>Medical</td>\n",
              "      <td>1</td>\n",
              "      <td>4409</td>\n",
              "      <td>Male</td>\n",
              "      <td>...</td>\n",
              "      <td>0.0</td>\n",
              "      <td>Y</td>\n",
              "      <td>14</td>\n",
              "      <td>8</td>\n",
              "      <td>1</td>\n",
              "      <td>10.0</td>\n",
              "      <td>2</td>\n",
              "      <td>9</td>\n",
              "      <td>7</td>\n",
              "      <td>8</td>\n",
              "    </tr>\n",
              "    <tr>\n",
              "      <th>4409</th>\n",
              "      <td>40</td>\n",
              "      <td>No</td>\n",
              "      <td>Travel_Rarely</td>\n",
              "      <td>Research &amp; Development</td>\n",
              "      <td>28</td>\n",
              "      <td>3</td>\n",
              "      <td>Medical</td>\n",
              "      <td>1</td>\n",
              "      <td>4410</td>\n",
              "      <td>Male</td>\n",
              "      <td>...</td>\n",
              "      <td>0.0</td>\n",
              "      <td>Y</td>\n",
              "      <td>12</td>\n",
              "      <td>8</td>\n",
              "      <td>0</td>\n",
              "      <td>NaN</td>\n",
              "      <td>6</td>\n",
              "      <td>21</td>\n",
              "      <td>3</td>\n",
              "      <td>9</td>\n",
              "    </tr>\n",
              "  </tbody>\n",
              "</table>\n",
              "<p>4410 rows × 24 columns</p>\n",
              "</div>"
            ],
            "text/plain": [
              "      Age Attrition     BusinessTravel              Department  \\\n",
              "0      51        No      Travel_Rarely                   Sales   \n",
              "1      31       Yes  Travel_Frequently  Research & Development   \n",
              "2      32        No  Travel_Frequently  Research & Development   \n",
              "3      38        No         Non-Travel  Research & Development   \n",
              "4      32        No      Travel_Rarely  Research & Development   \n",
              "...   ...       ...                ...                     ...   \n",
              "4405   42        No      Travel_Rarely  Research & Development   \n",
              "4406   29        No      Travel_Rarely  Research & Development   \n",
              "4407   25        No      Travel_Rarely  Research & Development   \n",
              "4408   42        No      Travel_Rarely                   Sales   \n",
              "4409   40        No      Travel_Rarely  Research & Development   \n",
              "\n",
              "      DistanceFromHome  Education EducationField  EmployeeCount  EmployeeID  \\\n",
              "0                    6          2  Life Sciences              1           1   \n",
              "1                   10          1  Life Sciences              1           2   \n",
              "2                   17          4          Other              1           3   \n",
              "3                    2          5  Life Sciences              1           4   \n",
              "4                   10          1        Medical              1           5   \n",
              "...                ...        ...            ...            ...         ...   \n",
              "4405                 5          4        Medical              1        4406   \n",
              "4406                 2          4        Medical              1        4407   \n",
              "4407                25          2  Life Sciences              1        4408   \n",
              "4408                18          2        Medical              1        4409   \n",
              "4409                28          3        Medical              1        4410   \n",
              "\n",
              "      Gender  ...  NumCompaniesWorked Over18 PercentSalaryHike  StandardHours  \\\n",
              "0     Female  ...                 1.0      Y                11              8   \n",
              "1     Female  ...                 0.0      Y                23              8   \n",
              "2       Male  ...                 1.0      Y                15              8   \n",
              "3       Male  ...                 3.0      Y                11              8   \n",
              "4       Male  ...                 4.0      Y                12              8   \n",
              "...      ...  ...                 ...    ...               ...            ...   \n",
              "4405  Female  ...                 3.0      Y                17              8   \n",
              "4406    Male  ...                 2.0      Y                15              8   \n",
              "4407    Male  ...                 0.0      Y                20              8   \n",
              "4408    Male  ...                 0.0      Y                14              8   \n",
              "4409    Male  ...                 0.0      Y                12              8   \n",
              "\n",
              "      StockOptionLevel TotalWorkingYears  TrainingTimesLastYear  \\\n",
              "0                    0               1.0                      6   \n",
              "1                    1               6.0                      3   \n",
              "2                    3               5.0                      2   \n",
              "3                    3              13.0                      5   \n",
              "4                    2               9.0                      2   \n",
              "...                ...               ...                    ...   \n",
              "4405                 1              10.0                      5   \n",
              "4406                 0              10.0                      2   \n",
              "4407                 0               5.0                      4   \n",
              "4408                 1              10.0                      2   \n",
              "4409                 0               NaN                      6   \n",
              "\n",
              "      YearsAtCompany  YearsSinceLastPromotion  YearsWithCurrManager  \n",
              "0                  1                        0                     0  \n",
              "1                  5                        1                     4  \n",
              "2                  5                        0                     3  \n",
              "3                  8                        7                     5  \n",
              "4                  6                        0                     4  \n",
              "...              ...                      ...                   ...  \n",
              "4405               3                        0                     2  \n",
              "4406               3                        0                     2  \n",
              "4407               4                        1                     2  \n",
              "4408               9                        7                     8  \n",
              "4409              21                        3                     9  \n",
              "\n",
              "[4410 rows x 24 columns]"
            ]
          },
          "execution_count": 651,
          "metadata": {},
          "output_type": "execute_result"
        }
      ],
      "source": [
        "dataset"
      ]
    },
    {
      "cell_type": "code",
      "execution_count": null,
      "id": "5df29419",
      "metadata": {
        "id": "5df29419",
        "outputId": "35705fec-7db2-42c6-8c1c-58ea317629dc"
      },
      "outputs": [
        {
          "data": {
            "text/plain": [
              "Index(['Age', 'Attrition', 'BusinessTravel', 'Department', 'DistanceFromHome',\n",
              "       'Education', 'EducationField', 'EmployeeCount', 'EmployeeID', 'Gender',\n",
              "       'JobLevel', 'JobRole', 'MaritalStatus', 'MonthlyIncome',\n",
              "       'NumCompaniesWorked', 'Over18', 'PercentSalaryHike', 'StandardHours',\n",
              "       'StockOptionLevel', 'TotalWorkingYears', 'TrainingTimesLastYear',\n",
              "       'YearsAtCompany', 'YearsSinceLastPromotion', 'YearsWithCurrManager'],\n",
              "      dtype='object')"
            ]
          },
          "execution_count": 652,
          "metadata": {},
          "output_type": "execute_result"
        }
      ],
      "source": [
        "dataset.columns"
      ]
    },
    {
      "cell_type": "code",
      "execution_count": null,
      "id": "433f28c1",
      "metadata": {
        "id": "433f28c1"
      },
      "outputs": [],
      "source": [
        "dataset1 = dataset.drop(['EmployeeCount', 'EmployeeID', 'Over18'], axis=1)"
      ]
    },
    {
      "cell_type": "code",
      "execution_count": null,
      "id": "1ad5b9c7",
      "metadata": {
        "id": "1ad5b9c7"
      },
      "outputs": [],
      "source": [
        "#drop null values, duplicates\n",
        "dataset2 = dataset1.dropna()\n",
        "dataset3 = dataset2.drop_duplicates()\n"
      ]
    },
    {
      "cell_type": "code",
      "execution_count": null,
      "id": "df56b06e",
      "metadata": {
        "id": "df56b06e",
        "outputId": "4533999a-4a61-4f85-a956-3508f0577d5f"
      },
      "outputs": [
        {
          "data": {
            "text/html": [
              "<div>\n",
              "<style scoped>\n",
              "    .dataframe tbody tr th:only-of-type {\n",
              "        vertical-align: middle;\n",
              "    }\n",
              "\n",
              "    .dataframe tbody tr th {\n",
              "        vertical-align: top;\n",
              "    }\n",
              "\n",
              "    .dataframe thead th {\n",
              "        text-align: right;\n",
              "    }\n",
              "</style>\n",
              "<table border=\"1\" class=\"dataframe\">\n",
              "  <thead>\n",
              "    <tr style=\"text-align: right;\">\n",
              "      <th></th>\n",
              "      <th>Age</th>\n",
              "      <th>Attrition</th>\n",
              "      <th>BusinessTravel</th>\n",
              "      <th>Department</th>\n",
              "      <th>DistanceFromHome</th>\n",
              "      <th>Education</th>\n",
              "      <th>EducationField</th>\n",
              "      <th>Gender</th>\n",
              "      <th>JobLevel</th>\n",
              "      <th>JobRole</th>\n",
              "      <th>...</th>\n",
              "      <th>MonthlyIncome</th>\n",
              "      <th>NumCompaniesWorked</th>\n",
              "      <th>PercentSalaryHike</th>\n",
              "      <th>StandardHours</th>\n",
              "      <th>StockOptionLevel</th>\n",
              "      <th>TotalWorkingYears</th>\n",
              "      <th>TrainingTimesLastYear</th>\n",
              "      <th>YearsAtCompany</th>\n",
              "      <th>YearsSinceLastPromotion</th>\n",
              "      <th>YearsWithCurrManager</th>\n",
              "    </tr>\n",
              "  </thead>\n",
              "  <tbody>\n",
              "    <tr>\n",
              "      <th>0</th>\n",
              "      <td>51</td>\n",
              "      <td>No</td>\n",
              "      <td>Travel_Rarely</td>\n",
              "      <td>Sales</td>\n",
              "      <td>6</td>\n",
              "      <td>2</td>\n",
              "      <td>Life Sciences</td>\n",
              "      <td>Female</td>\n",
              "      <td>1</td>\n",
              "      <td>Healthcare Representative</td>\n",
              "      <td>...</td>\n",
              "      <td>131160</td>\n",
              "      <td>1.0</td>\n",
              "      <td>11</td>\n",
              "      <td>8</td>\n",
              "      <td>0</td>\n",
              "      <td>1.0</td>\n",
              "      <td>6</td>\n",
              "      <td>1</td>\n",
              "      <td>0</td>\n",
              "      <td>0</td>\n",
              "    </tr>\n",
              "    <tr>\n",
              "      <th>1</th>\n",
              "      <td>31</td>\n",
              "      <td>Yes</td>\n",
              "      <td>Travel_Frequently</td>\n",
              "      <td>Research &amp; Development</td>\n",
              "      <td>10</td>\n",
              "      <td>1</td>\n",
              "      <td>Life Sciences</td>\n",
              "      <td>Female</td>\n",
              "      <td>1</td>\n",
              "      <td>Research Scientist</td>\n",
              "      <td>...</td>\n",
              "      <td>41890</td>\n",
              "      <td>0.0</td>\n",
              "      <td>23</td>\n",
              "      <td>8</td>\n",
              "      <td>1</td>\n",
              "      <td>6.0</td>\n",
              "      <td>3</td>\n",
              "      <td>5</td>\n",
              "      <td>1</td>\n",
              "      <td>4</td>\n",
              "    </tr>\n",
              "    <tr>\n",
              "      <th>2</th>\n",
              "      <td>32</td>\n",
              "      <td>No</td>\n",
              "      <td>Travel_Frequently</td>\n",
              "      <td>Research &amp; Development</td>\n",
              "      <td>17</td>\n",
              "      <td>4</td>\n",
              "      <td>Other</td>\n",
              "      <td>Male</td>\n",
              "      <td>4</td>\n",
              "      <td>Sales Executive</td>\n",
              "      <td>...</td>\n",
              "      <td>193280</td>\n",
              "      <td>1.0</td>\n",
              "      <td>15</td>\n",
              "      <td>8</td>\n",
              "      <td>3</td>\n",
              "      <td>5.0</td>\n",
              "      <td>2</td>\n",
              "      <td>5</td>\n",
              "      <td>0</td>\n",
              "      <td>3</td>\n",
              "    </tr>\n",
              "    <tr>\n",
              "      <th>3</th>\n",
              "      <td>38</td>\n",
              "      <td>No</td>\n",
              "      <td>Non-Travel</td>\n",
              "      <td>Research &amp; Development</td>\n",
              "      <td>2</td>\n",
              "      <td>5</td>\n",
              "      <td>Life Sciences</td>\n",
              "      <td>Male</td>\n",
              "      <td>3</td>\n",
              "      <td>Human Resources</td>\n",
              "      <td>...</td>\n",
              "      <td>83210</td>\n",
              "      <td>3.0</td>\n",
              "      <td>11</td>\n",
              "      <td>8</td>\n",
              "      <td>3</td>\n",
              "      <td>13.0</td>\n",
              "      <td>5</td>\n",
              "      <td>8</td>\n",
              "      <td>7</td>\n",
              "      <td>5</td>\n",
              "    </tr>\n",
              "    <tr>\n",
              "      <th>4</th>\n",
              "      <td>32</td>\n",
              "      <td>No</td>\n",
              "      <td>Travel_Rarely</td>\n",
              "      <td>Research &amp; Development</td>\n",
              "      <td>10</td>\n",
              "      <td>1</td>\n",
              "      <td>Medical</td>\n",
              "      <td>Male</td>\n",
              "      <td>1</td>\n",
              "      <td>Sales Executive</td>\n",
              "      <td>...</td>\n",
              "      <td>23420</td>\n",
              "      <td>4.0</td>\n",
              "      <td>12</td>\n",
              "      <td>8</td>\n",
              "      <td>2</td>\n",
              "      <td>9.0</td>\n",
              "      <td>2</td>\n",
              "      <td>6</td>\n",
              "      <td>0</td>\n",
              "      <td>4</td>\n",
              "    </tr>\n",
              "    <tr>\n",
              "      <th>...</th>\n",
              "      <td>...</td>\n",
              "      <td>...</td>\n",
              "      <td>...</td>\n",
              "      <td>...</td>\n",
              "      <td>...</td>\n",
              "      <td>...</td>\n",
              "      <td>...</td>\n",
              "      <td>...</td>\n",
              "      <td>...</td>\n",
              "      <td>...</td>\n",
              "      <td>...</td>\n",
              "      <td>...</td>\n",
              "      <td>...</td>\n",
              "      <td>...</td>\n",
              "      <td>...</td>\n",
              "      <td>...</td>\n",
              "      <td>...</td>\n",
              "      <td>...</td>\n",
              "      <td>...</td>\n",
              "      <td>...</td>\n",
              "      <td>...</td>\n",
              "    </tr>\n",
              "    <tr>\n",
              "      <th>4405</th>\n",
              "      <td>42</td>\n",
              "      <td>No</td>\n",
              "      <td>Travel_Rarely</td>\n",
              "      <td>Research &amp; Development</td>\n",
              "      <td>5</td>\n",
              "      <td>4</td>\n",
              "      <td>Medical</td>\n",
              "      <td>Female</td>\n",
              "      <td>1</td>\n",
              "      <td>Research Scientist</td>\n",
              "      <td>...</td>\n",
              "      <td>60290</td>\n",
              "      <td>3.0</td>\n",
              "      <td>17</td>\n",
              "      <td>8</td>\n",
              "      <td>1</td>\n",
              "      <td>10.0</td>\n",
              "      <td>5</td>\n",
              "      <td>3</td>\n",
              "      <td>0</td>\n",
              "      <td>2</td>\n",
              "    </tr>\n",
              "    <tr>\n",
              "      <th>4406</th>\n",
              "      <td>29</td>\n",
              "      <td>No</td>\n",
              "      <td>Travel_Rarely</td>\n",
              "      <td>Research &amp; Development</td>\n",
              "      <td>2</td>\n",
              "      <td>4</td>\n",
              "      <td>Medical</td>\n",
              "      <td>Male</td>\n",
              "      <td>1</td>\n",
              "      <td>Laboratory Technician</td>\n",
              "      <td>...</td>\n",
              "      <td>26790</td>\n",
              "      <td>2.0</td>\n",
              "      <td>15</td>\n",
              "      <td>8</td>\n",
              "      <td>0</td>\n",
              "      <td>10.0</td>\n",
              "      <td>2</td>\n",
              "      <td>3</td>\n",
              "      <td>0</td>\n",
              "      <td>2</td>\n",
              "    </tr>\n",
              "    <tr>\n",
              "      <th>4407</th>\n",
              "      <td>25</td>\n",
              "      <td>No</td>\n",
              "      <td>Travel_Rarely</td>\n",
              "      <td>Research &amp; Development</td>\n",
              "      <td>25</td>\n",
              "      <td>2</td>\n",
              "      <td>Life Sciences</td>\n",
              "      <td>Male</td>\n",
              "      <td>2</td>\n",
              "      <td>Sales Executive</td>\n",
              "      <td>...</td>\n",
              "      <td>37020</td>\n",
              "      <td>0.0</td>\n",
              "      <td>20</td>\n",
              "      <td>8</td>\n",
              "      <td>0</td>\n",
              "      <td>5.0</td>\n",
              "      <td>4</td>\n",
              "      <td>4</td>\n",
              "      <td>1</td>\n",
              "      <td>2</td>\n",
              "    </tr>\n",
              "    <tr>\n",
              "      <th>4408</th>\n",
              "      <td>42</td>\n",
              "      <td>No</td>\n",
              "      <td>Travel_Rarely</td>\n",
              "      <td>Sales</td>\n",
              "      <td>18</td>\n",
              "      <td>2</td>\n",
              "      <td>Medical</td>\n",
              "      <td>Male</td>\n",
              "      <td>1</td>\n",
              "      <td>Laboratory Technician</td>\n",
              "      <td>...</td>\n",
              "      <td>23980</td>\n",
              "      <td>0.0</td>\n",
              "      <td>14</td>\n",
              "      <td>8</td>\n",
              "      <td>1</td>\n",
              "      <td>10.0</td>\n",
              "      <td>2</td>\n",
              "      <td>9</td>\n",
              "      <td>7</td>\n",
              "      <td>8</td>\n",
              "    </tr>\n",
              "    <tr>\n",
              "      <th>4409</th>\n",
              "      <td>40</td>\n",
              "      <td>No</td>\n",
              "      <td>Travel_Rarely</td>\n",
              "      <td>Research &amp; Development</td>\n",
              "      <td>28</td>\n",
              "      <td>3</td>\n",
              "      <td>Medical</td>\n",
              "      <td>Male</td>\n",
              "      <td>2</td>\n",
              "      <td>Laboratory Technician</td>\n",
              "      <td>...</td>\n",
              "      <td>54680</td>\n",
              "      <td>0.0</td>\n",
              "      <td>12</td>\n",
              "      <td>8</td>\n",
              "      <td>0</td>\n",
              "      <td>NaN</td>\n",
              "      <td>6</td>\n",
              "      <td>21</td>\n",
              "      <td>3</td>\n",
              "      <td>9</td>\n",
              "    </tr>\n",
              "  </tbody>\n",
              "</table>\n",
              "<p>4410 rows × 21 columns</p>\n",
              "</div>"
            ],
            "text/plain": [
              "      Age Attrition     BusinessTravel              Department  \\\n",
              "0      51        No      Travel_Rarely                   Sales   \n",
              "1      31       Yes  Travel_Frequently  Research & Development   \n",
              "2      32        No  Travel_Frequently  Research & Development   \n",
              "3      38        No         Non-Travel  Research & Development   \n",
              "4      32        No      Travel_Rarely  Research & Development   \n",
              "...   ...       ...                ...                     ...   \n",
              "4405   42        No      Travel_Rarely  Research & Development   \n",
              "4406   29        No      Travel_Rarely  Research & Development   \n",
              "4407   25        No      Travel_Rarely  Research & Development   \n",
              "4408   42        No      Travel_Rarely                   Sales   \n",
              "4409   40        No      Travel_Rarely  Research & Development   \n",
              "\n",
              "      DistanceFromHome  Education EducationField  Gender  JobLevel  \\\n",
              "0                    6          2  Life Sciences  Female         1   \n",
              "1                   10          1  Life Sciences  Female         1   \n",
              "2                   17          4          Other    Male         4   \n",
              "3                    2          5  Life Sciences    Male         3   \n",
              "4                   10          1        Medical    Male         1   \n",
              "...                ...        ...            ...     ...       ...   \n",
              "4405                 5          4        Medical  Female         1   \n",
              "4406                 2          4        Medical    Male         1   \n",
              "4407                25          2  Life Sciences    Male         2   \n",
              "4408                18          2        Medical    Male         1   \n",
              "4409                28          3        Medical    Male         2   \n",
              "\n",
              "                        JobRole  ... MonthlyIncome  NumCompaniesWorked  \\\n",
              "0     Healthcare Representative  ...        131160                 1.0   \n",
              "1            Research Scientist  ...         41890                 0.0   \n",
              "2               Sales Executive  ...        193280                 1.0   \n",
              "3               Human Resources  ...         83210                 3.0   \n",
              "4               Sales Executive  ...         23420                 4.0   \n",
              "...                         ...  ...           ...                 ...   \n",
              "4405         Research Scientist  ...         60290                 3.0   \n",
              "4406      Laboratory Technician  ...         26790                 2.0   \n",
              "4407            Sales Executive  ...         37020                 0.0   \n",
              "4408      Laboratory Technician  ...         23980                 0.0   \n",
              "4409      Laboratory Technician  ...         54680                 0.0   \n",
              "\n",
              "      PercentSalaryHike  StandardHours  StockOptionLevel  TotalWorkingYears  \\\n",
              "0                    11              8                 0                1.0   \n",
              "1                    23              8                 1                6.0   \n",
              "2                    15              8                 3                5.0   \n",
              "3                    11              8                 3               13.0   \n",
              "4                    12              8                 2                9.0   \n",
              "...                 ...            ...               ...                ...   \n",
              "4405                 17              8                 1               10.0   \n",
              "4406                 15              8                 0               10.0   \n",
              "4407                 20              8                 0                5.0   \n",
              "4408                 14              8                 1               10.0   \n",
              "4409                 12              8                 0                NaN   \n",
              "\n",
              "      TrainingTimesLastYear  YearsAtCompany  YearsSinceLastPromotion  \\\n",
              "0                         6               1                        0   \n",
              "1                         3               5                        1   \n",
              "2                         2               5                        0   \n",
              "3                         5               8                        7   \n",
              "4                         2               6                        0   \n",
              "...                     ...             ...                      ...   \n",
              "4405                      5               3                        0   \n",
              "4406                      2               3                        0   \n",
              "4407                      4               4                        1   \n",
              "4408                      2               9                        7   \n",
              "4409                      6              21                        3   \n",
              "\n",
              "      YearsWithCurrManager  \n",
              "0                        0  \n",
              "1                        4  \n",
              "2                        3  \n",
              "3                        5  \n",
              "4                        4  \n",
              "...                    ...  \n",
              "4405                     2  \n",
              "4406                     2  \n",
              "4407                     2  \n",
              "4408                     8  \n",
              "4409                     9  \n",
              "\n",
              "[4410 rows x 21 columns]"
            ]
          },
          "execution_count": 655,
          "metadata": {},
          "output_type": "execute_result"
        }
      ],
      "source": [
        "dataset1"
      ]
    },
    {
      "cell_type": "code",
      "execution_count": null,
      "id": "8020eb4f",
      "metadata": {
        "id": "8020eb4f"
      },
      "outputs": [],
      "source": [
        "from sklearn import preprocessing"
      ]
    },
    {
      "cell_type": "code",
      "execution_count": null,
      "id": "1dbaeb46",
      "metadata": {
        "id": "1dbaeb46"
      },
      "outputs": [],
      "source": [
        "le = preprocessing.LabelEncoder()"
      ]
    },
    {
      "cell_type": "code",
      "execution_count": null,
      "id": "5c432fc0",
      "metadata": {
        "id": "5c432fc0",
        "outputId": "f101f550-10f8-467b-c974-d35d8e444d21"
      },
      "outputs": [
        {
          "name": "stderr",
          "output_type": "stream",
          "text": [
            "C:\\Users\\Dell\\AppData\\Local\\Temp\\ipykernel_35864\\1587624394.py:1: SettingWithCopyWarning: \n",
            "A value is trying to be set on a copy of a slice from a DataFrame.\n",
            "Try using .loc[row_indexer,col_indexer] = value instead\n",
            "\n",
            "See the caveats in the documentation: https://pandas.pydata.org/pandas-docs/stable/user_guide/indexing.html#returning-a-view-versus-a-copy\n",
            "  dataset3[\"Gender\"]=le.fit_transform(dataset3[\"Gender\"])\n"
          ]
        }
      ],
      "source": [
        "dataset3[\"Gender\"]=le.fit_transform(dataset3[\"Gender\"])"
      ]
    },
    {
      "cell_type": "code",
      "execution_count": null,
      "id": "6ce56e2d",
      "metadata": {
        "id": "6ce56e2d",
        "outputId": "19797925-bf01-42e5-8f84-33f5365894c2"
      },
      "outputs": [
        {
          "name": "stderr",
          "output_type": "stream",
          "text": [
            "C:\\Users\\Dell\\AppData\\Local\\Temp\\ipykernel_35864\\3664521434.py:1: SettingWithCopyWarning: \n",
            "A value is trying to be set on a copy of a slice from a DataFrame.\n",
            "Try using .loc[row_indexer,col_indexer] = value instead\n",
            "\n",
            "See the caveats in the documentation: https://pandas.pydata.org/pandas-docs/stable/user_guide/indexing.html#returning-a-view-versus-a-copy\n",
            "  dataset3[\"Attrition\"]=le.fit_transform(dataset3[\"Attrition\"])\n"
          ]
        }
      ],
      "source": [
        "dataset3[\"Attrition\"]=le.fit_transform(dataset3[\"Attrition\"])"
      ]
    },
    {
      "cell_type": "code",
      "execution_count": null,
      "id": "d90405ff",
      "metadata": {
        "id": "d90405ff",
        "outputId": "35bc4f9a-47ad-4f47-ae0d-9fbac8ddec42"
      },
      "outputs": [
        {
          "name": "stderr",
          "output_type": "stream",
          "text": [
            "C:\\Users\\Dell\\AppData\\Local\\Temp\\ipykernel_35864\\401898807.py:1: SettingWithCopyWarning: \n",
            "A value is trying to be set on a copy of a slice from a DataFrame.\n",
            "Try using .loc[row_indexer,col_indexer] = value instead\n",
            "\n",
            "See the caveats in the documentation: https://pandas.pydata.org/pandas-docs/stable/user_guide/indexing.html#returning-a-view-versus-a-copy\n",
            "  dataset3[\"MaritalStatus\"]=le.fit_transform(dataset3[\"MaritalStatus\"])\n"
          ]
        }
      ],
      "source": [
        "dataset3[\"MaritalStatus\"]=le.fit_transform(dataset3[\"MaritalStatus\"])"
      ]
    },
    {
      "cell_type": "code",
      "execution_count": null,
      "id": "2b80f640",
      "metadata": {
        "id": "2b80f640",
        "outputId": "7954f7cc-51d4-45ae-abbf-c725253aa284"
      },
      "outputs": [
        {
          "data": {
            "text/html": [
              "<div>\n",
              "<style scoped>\n",
              "    .dataframe tbody tr th:only-of-type {\n",
              "        vertical-align: middle;\n",
              "    }\n",
              "\n",
              "    .dataframe tbody tr th {\n",
              "        vertical-align: top;\n",
              "    }\n",
              "\n",
              "    .dataframe thead th {\n",
              "        text-align: right;\n",
              "    }\n",
              "</style>\n",
              "<table border=\"1\" class=\"dataframe\">\n",
              "  <thead>\n",
              "    <tr style=\"text-align: right;\">\n",
              "      <th></th>\n",
              "      <th>Age</th>\n",
              "      <th>Attrition</th>\n",
              "      <th>BusinessTravel</th>\n",
              "      <th>Department</th>\n",
              "      <th>DistanceFromHome</th>\n",
              "      <th>Education</th>\n",
              "      <th>EducationField</th>\n",
              "      <th>Gender</th>\n",
              "      <th>JobLevel</th>\n",
              "      <th>JobRole</th>\n",
              "      <th>...</th>\n",
              "      <th>MonthlyIncome</th>\n",
              "      <th>NumCompaniesWorked</th>\n",
              "      <th>PercentSalaryHike</th>\n",
              "      <th>StandardHours</th>\n",
              "      <th>StockOptionLevel</th>\n",
              "      <th>TotalWorkingYears</th>\n",
              "      <th>TrainingTimesLastYear</th>\n",
              "      <th>YearsAtCompany</th>\n",
              "      <th>YearsSinceLastPromotion</th>\n",
              "      <th>YearsWithCurrManager</th>\n",
              "    </tr>\n",
              "  </thead>\n",
              "  <tbody>\n",
              "    <tr>\n",
              "      <th>0</th>\n",
              "      <td>51</td>\n",
              "      <td>0</td>\n",
              "      <td>Travel_Rarely</td>\n",
              "      <td>Sales</td>\n",
              "      <td>6</td>\n",
              "      <td>2</td>\n",
              "      <td>Life Sciences</td>\n",
              "      <td>0</td>\n",
              "      <td>1</td>\n",
              "      <td>Healthcare Representative</td>\n",
              "      <td>...</td>\n",
              "      <td>131160</td>\n",
              "      <td>1.0</td>\n",
              "      <td>11</td>\n",
              "      <td>8</td>\n",
              "      <td>0</td>\n",
              "      <td>1.0</td>\n",
              "      <td>6</td>\n",
              "      <td>1</td>\n",
              "      <td>0</td>\n",
              "      <td>0</td>\n",
              "    </tr>\n",
              "    <tr>\n",
              "      <th>1</th>\n",
              "      <td>31</td>\n",
              "      <td>1</td>\n",
              "      <td>Travel_Frequently</td>\n",
              "      <td>Research &amp; Development</td>\n",
              "      <td>10</td>\n",
              "      <td>1</td>\n",
              "      <td>Life Sciences</td>\n",
              "      <td>0</td>\n",
              "      <td>1</td>\n",
              "      <td>Research Scientist</td>\n",
              "      <td>...</td>\n",
              "      <td>41890</td>\n",
              "      <td>0.0</td>\n",
              "      <td>23</td>\n",
              "      <td>8</td>\n",
              "      <td>1</td>\n",
              "      <td>6.0</td>\n",
              "      <td>3</td>\n",
              "      <td>5</td>\n",
              "      <td>1</td>\n",
              "      <td>4</td>\n",
              "    </tr>\n",
              "    <tr>\n",
              "      <th>2</th>\n",
              "      <td>32</td>\n",
              "      <td>0</td>\n",
              "      <td>Travel_Frequently</td>\n",
              "      <td>Research &amp; Development</td>\n",
              "      <td>17</td>\n",
              "      <td>4</td>\n",
              "      <td>Other</td>\n",
              "      <td>1</td>\n",
              "      <td>4</td>\n",
              "      <td>Sales Executive</td>\n",
              "      <td>...</td>\n",
              "      <td>193280</td>\n",
              "      <td>1.0</td>\n",
              "      <td>15</td>\n",
              "      <td>8</td>\n",
              "      <td>3</td>\n",
              "      <td>5.0</td>\n",
              "      <td>2</td>\n",
              "      <td>5</td>\n",
              "      <td>0</td>\n",
              "      <td>3</td>\n",
              "    </tr>\n",
              "    <tr>\n",
              "      <th>3</th>\n",
              "      <td>38</td>\n",
              "      <td>0</td>\n",
              "      <td>Non-Travel</td>\n",
              "      <td>Research &amp; Development</td>\n",
              "      <td>2</td>\n",
              "      <td>5</td>\n",
              "      <td>Life Sciences</td>\n",
              "      <td>1</td>\n",
              "      <td>3</td>\n",
              "      <td>Human Resources</td>\n",
              "      <td>...</td>\n",
              "      <td>83210</td>\n",
              "      <td>3.0</td>\n",
              "      <td>11</td>\n",
              "      <td>8</td>\n",
              "      <td>3</td>\n",
              "      <td>13.0</td>\n",
              "      <td>5</td>\n",
              "      <td>8</td>\n",
              "      <td>7</td>\n",
              "      <td>5</td>\n",
              "    </tr>\n",
              "    <tr>\n",
              "      <th>4</th>\n",
              "      <td>32</td>\n",
              "      <td>0</td>\n",
              "      <td>Travel_Rarely</td>\n",
              "      <td>Research &amp; Development</td>\n",
              "      <td>10</td>\n",
              "      <td>1</td>\n",
              "      <td>Medical</td>\n",
              "      <td>1</td>\n",
              "      <td>1</td>\n",
              "      <td>Sales Executive</td>\n",
              "      <td>...</td>\n",
              "      <td>23420</td>\n",
              "      <td>4.0</td>\n",
              "      <td>12</td>\n",
              "      <td>8</td>\n",
              "      <td>2</td>\n",
              "      <td>9.0</td>\n",
              "      <td>2</td>\n",
              "      <td>6</td>\n",
              "      <td>0</td>\n",
              "      <td>4</td>\n",
              "    </tr>\n",
              "    <tr>\n",
              "      <th>...</th>\n",
              "      <td>...</td>\n",
              "      <td>...</td>\n",
              "      <td>...</td>\n",
              "      <td>...</td>\n",
              "      <td>...</td>\n",
              "      <td>...</td>\n",
              "      <td>...</td>\n",
              "      <td>...</td>\n",
              "      <td>...</td>\n",
              "      <td>...</td>\n",
              "      <td>...</td>\n",
              "      <td>...</td>\n",
              "      <td>...</td>\n",
              "      <td>...</td>\n",
              "      <td>...</td>\n",
              "      <td>...</td>\n",
              "      <td>...</td>\n",
              "      <td>...</td>\n",
              "      <td>...</td>\n",
              "      <td>...</td>\n",
              "      <td>...</td>\n",
              "    </tr>\n",
              "    <tr>\n",
              "      <th>2117</th>\n",
              "      <td>29</td>\n",
              "      <td>0</td>\n",
              "      <td>Travel_Rarely</td>\n",
              "      <td>Research &amp; Development</td>\n",
              "      <td>3</td>\n",
              "      <td>3</td>\n",
              "      <td>Technical Degree</td>\n",
              "      <td>0</td>\n",
              "      <td>2</td>\n",
              "      <td>Healthcare Representative</td>\n",
              "      <td>...</td>\n",
              "      <td>48050</td>\n",
              "      <td>3.0</td>\n",
              "      <td>16</td>\n",
              "      <td>8</td>\n",
              "      <td>1</td>\n",
              "      <td>9.0</td>\n",
              "      <td>2</td>\n",
              "      <td>7</td>\n",
              "      <td>1</td>\n",
              "      <td>7</td>\n",
              "    </tr>\n",
              "    <tr>\n",
              "      <th>2269</th>\n",
              "      <td>29</td>\n",
              "      <td>1</td>\n",
              "      <td>Travel_Frequently</td>\n",
              "      <td>Research &amp; Development</td>\n",
              "      <td>28</td>\n",
              "      <td>3</td>\n",
              "      <td>Medical</td>\n",
              "      <td>0</td>\n",
              "      <td>5</td>\n",
              "      <td>Research Scientist</td>\n",
              "      <td>...</td>\n",
              "      <td>44340</td>\n",
              "      <td>5.0</td>\n",
              "      <td>17</td>\n",
              "      <td>8</td>\n",
              "      <td>3</td>\n",
              "      <td>7.0</td>\n",
              "      <td>1</td>\n",
              "      <td>5</td>\n",
              "      <td>0</td>\n",
              "      <td>0</td>\n",
              "    </tr>\n",
              "    <tr>\n",
              "      <th>2402</th>\n",
              "      <td>32</td>\n",
              "      <td>0</td>\n",
              "      <td>Travel_Rarely</td>\n",
              "      <td>Research &amp; Development</td>\n",
              "      <td>5</td>\n",
              "      <td>4</td>\n",
              "      <td>Technical Degree</td>\n",
              "      <td>1</td>\n",
              "      <td>5</td>\n",
              "      <td>Research Scientist</td>\n",
              "      <td>...</td>\n",
              "      <td>50030</td>\n",
              "      <td>0.0</td>\n",
              "      <td>13</td>\n",
              "      <td>8</td>\n",
              "      <td>0</td>\n",
              "      <td>10.0</td>\n",
              "      <td>5</td>\n",
              "      <td>9</td>\n",
              "      <td>1</td>\n",
              "      <td>6</td>\n",
              "    </tr>\n",
              "    <tr>\n",
              "      <th>2573</th>\n",
              "      <td>26</td>\n",
              "      <td>0</td>\n",
              "      <td>Travel_Frequently</td>\n",
              "      <td>Sales</td>\n",
              "      <td>16</td>\n",
              "      <td>2</td>\n",
              "      <td>Life Sciences</td>\n",
              "      <td>1</td>\n",
              "      <td>2</td>\n",
              "      <td>Healthcare Representative</td>\n",
              "      <td>...</td>\n",
              "      <td>83800</td>\n",
              "      <td>0.0</td>\n",
              "      <td>14</td>\n",
              "      <td>8</td>\n",
              "      <td>0</td>\n",
              "      <td>8.0</td>\n",
              "      <td>3</td>\n",
              "      <td>7</td>\n",
              "      <td>7</td>\n",
              "      <td>7</td>\n",
              "    </tr>\n",
              "    <tr>\n",
              "      <th>2782</th>\n",
              "      <td>37</td>\n",
              "      <td>1</td>\n",
              "      <td>Travel_Rarely</td>\n",
              "      <td>Human Resources</td>\n",
              "      <td>9</td>\n",
              "      <td>3</td>\n",
              "      <td>Human Resources</td>\n",
              "      <td>1</td>\n",
              "      <td>2</td>\n",
              "      <td>Healthcare Representative</td>\n",
              "      <td>...</td>\n",
              "      <td>54840</td>\n",
              "      <td>4.0</td>\n",
              "      <td>17</td>\n",
              "      <td>8</td>\n",
              "      <td>0</td>\n",
              "      <td>7.0</td>\n",
              "      <td>4</td>\n",
              "      <td>3</td>\n",
              "      <td>0</td>\n",
              "      <td>2</td>\n",
              "    </tr>\n",
              "  </tbody>\n",
              "</table>\n",
              "<p>1470 rows × 21 columns</p>\n",
              "</div>"
            ],
            "text/plain": [
              "      Age  Attrition     BusinessTravel              Department  \\\n",
              "0      51          0      Travel_Rarely                   Sales   \n",
              "1      31          1  Travel_Frequently  Research & Development   \n",
              "2      32          0  Travel_Frequently  Research & Development   \n",
              "3      38          0         Non-Travel  Research & Development   \n",
              "4      32          0      Travel_Rarely  Research & Development   \n",
              "...   ...        ...                ...                     ...   \n",
              "2117   29          0      Travel_Rarely  Research & Development   \n",
              "2269   29          1  Travel_Frequently  Research & Development   \n",
              "2402   32          0      Travel_Rarely  Research & Development   \n",
              "2573   26          0  Travel_Frequently                   Sales   \n",
              "2782   37          1      Travel_Rarely         Human Resources   \n",
              "\n",
              "      DistanceFromHome  Education    EducationField  Gender  JobLevel  \\\n",
              "0                    6          2     Life Sciences       0         1   \n",
              "1                   10          1     Life Sciences       0         1   \n",
              "2                   17          4             Other       1         4   \n",
              "3                    2          5     Life Sciences       1         3   \n",
              "4                   10          1           Medical       1         1   \n",
              "...                ...        ...               ...     ...       ...   \n",
              "2117                 3          3  Technical Degree       0         2   \n",
              "2269                28          3           Medical       0         5   \n",
              "2402                 5          4  Technical Degree       1         5   \n",
              "2573                16          2     Life Sciences       1         2   \n",
              "2782                 9          3   Human Resources       1         2   \n",
              "\n",
              "                        JobRole  ...  MonthlyIncome  NumCompaniesWorked  \\\n",
              "0     Healthcare Representative  ...         131160                 1.0   \n",
              "1            Research Scientist  ...          41890                 0.0   \n",
              "2               Sales Executive  ...         193280                 1.0   \n",
              "3               Human Resources  ...          83210                 3.0   \n",
              "4               Sales Executive  ...          23420                 4.0   \n",
              "...                         ...  ...            ...                 ...   \n",
              "2117  Healthcare Representative  ...          48050                 3.0   \n",
              "2269         Research Scientist  ...          44340                 5.0   \n",
              "2402         Research Scientist  ...          50030                 0.0   \n",
              "2573  Healthcare Representative  ...          83800                 0.0   \n",
              "2782  Healthcare Representative  ...          54840                 4.0   \n",
              "\n",
              "      PercentSalaryHike  StandardHours  StockOptionLevel  TotalWorkingYears  \\\n",
              "0                    11              8                 0                1.0   \n",
              "1                    23              8                 1                6.0   \n",
              "2                    15              8                 3                5.0   \n",
              "3                    11              8                 3               13.0   \n",
              "4                    12              8                 2                9.0   \n",
              "...                 ...            ...               ...                ...   \n",
              "2117                 16              8                 1                9.0   \n",
              "2269                 17              8                 3                7.0   \n",
              "2402                 13              8                 0               10.0   \n",
              "2573                 14              8                 0                8.0   \n",
              "2782                 17              8                 0                7.0   \n",
              "\n",
              "      TrainingTimesLastYear  YearsAtCompany  YearsSinceLastPromotion  \\\n",
              "0                         6               1                        0   \n",
              "1                         3               5                        1   \n",
              "2                         2               5                        0   \n",
              "3                         5               8                        7   \n",
              "4                         2               6                        0   \n",
              "...                     ...             ...                      ...   \n",
              "2117                      2               7                        1   \n",
              "2269                      1               5                        0   \n",
              "2402                      5               9                        1   \n",
              "2573                      3               7                        7   \n",
              "2782                      4               3                        0   \n",
              "\n",
              "      YearsWithCurrManager  \n",
              "0                        0  \n",
              "1                        4  \n",
              "2                        3  \n",
              "3                        5  \n",
              "4                        4  \n",
              "...                    ...  \n",
              "2117                     7  \n",
              "2269                     0  \n",
              "2402                     6  \n",
              "2573                     7  \n",
              "2782                     2  \n",
              "\n",
              "[1470 rows x 21 columns]"
            ]
          },
          "execution_count": 661,
          "metadata": {},
          "output_type": "execute_result"
        }
      ],
      "source": [
        "dataset3"
      ]
    },
    {
      "cell_type": "code",
      "execution_count": null,
      "id": "425ddad7",
      "metadata": {
        "id": "425ddad7",
        "outputId": "cc19e526-47d8-40b6-fa9f-dbfa6e98d51a"
      },
      "outputs": [
        {
          "data": {
            "text/plain": [
              "65029.31292517007"
            ]
          },
          "execution_count": 662,
          "metadata": {},
          "output_type": "execute_result"
        }
      ],
      "source": [
        "dataset3[\"MonthlyIncome\"].mean()"
      ]
    },
    {
      "cell_type": "code",
      "execution_count": null,
      "id": "c2e60685",
      "metadata": {
        "id": "c2e60685",
        "outputId": "a3e8eb72-9b06-408c-8693-ef963e21c125"
      },
      "outputs": [
        {
          "data": {
            "text/plain": [
              "36.923809523809524"
            ]
          },
          "execution_count": 663,
          "metadata": {},
          "output_type": "execute_result"
        }
      ],
      "source": [
        "dataset3[\"Age\"].mean()"
      ]
    },
    {
      "cell_type": "code",
      "execution_count": null,
      "id": "ee8c4292",
      "metadata": {
        "id": "ee8c4292",
        "outputId": "8020c05f-8dfd-43f7-820a-19d80bf5e704"
      },
      "outputs": [
        {
          "data": {
            "text/plain": [
              "9.19251700680272"
            ]
          },
          "execution_count": 664,
          "metadata": {},
          "output_type": "execute_result"
        }
      ],
      "source": [
        "dataset3[\"DistanceFromHome\"].mean()"
      ]
    },
    {
      "cell_type": "code",
      "execution_count": null,
      "id": "6d37ca9b",
      "metadata": {
        "id": "6d37ca9b",
        "outputId": "d012a699-efdb-45ba-a85b-417e41683ca5"
      },
      "outputs": [
        {
          "data": {
            "text/plain": [
              "0    0\n",
              "Name: Attrition, dtype: int32"
            ]
          },
          "execution_count": 665,
          "metadata": {},
          "output_type": "execute_result"
        }
      ],
      "source": [
        "dataset3[\"Attrition\"].mode()"
      ]
    },
    {
      "cell_type": "code",
      "execution_count": null,
      "id": "e6408bee",
      "metadata": {
        "id": "e6408bee",
        "outputId": "a81933fa-448a-45fa-bf47-731318ee926a"
      },
      "outputs": [
        {
          "data": {
            "text/plain": [
              "0    1\n",
              "Name: Gender, dtype: int32"
            ]
          },
          "execution_count": 666,
          "metadata": {},
          "output_type": "execute_result"
        }
      ],
      "source": [
        "#Which gender is most frequently occur\n",
        "dataset3[\"Gender\"].mode()"
      ]
    },
    {
      "cell_type": "code",
      "execution_count": null,
      "id": "8e74ea33",
      "metadata": {
        "id": "8e74ea33"
      },
      "outputs": [],
      "source": [
        "Summarisation = dataset3.describe()"
      ]
    },
    {
      "cell_type": "code",
      "execution_count": null,
      "id": "f0ae337e",
      "metadata": {
        "id": "f0ae337e",
        "outputId": "30f020b3-21f4-4697-ee4b-418b0f5713fb"
      },
      "outputs": [
        {
          "data": {
            "text/html": [
              "<div>\n",
              "<style scoped>\n",
              "    .dataframe tbody tr th:only-of-type {\n",
              "        vertical-align: middle;\n",
              "    }\n",
              "\n",
              "    .dataframe tbody tr th {\n",
              "        vertical-align: top;\n",
              "    }\n",
              "\n",
              "    .dataframe thead th {\n",
              "        text-align: right;\n",
              "    }\n",
              "</style>\n",
              "<table border=\"1\" class=\"dataframe\">\n",
              "  <thead>\n",
              "    <tr style=\"text-align: right;\">\n",
              "      <th></th>\n",
              "      <th>Age</th>\n",
              "      <th>Attrition</th>\n",
              "      <th>DistanceFromHome</th>\n",
              "      <th>Education</th>\n",
              "      <th>Gender</th>\n",
              "      <th>JobLevel</th>\n",
              "      <th>MaritalStatus</th>\n",
              "      <th>MonthlyIncome</th>\n",
              "      <th>NumCompaniesWorked</th>\n",
              "      <th>PercentSalaryHike</th>\n",
              "      <th>StandardHours</th>\n",
              "      <th>StockOptionLevel</th>\n",
              "      <th>TotalWorkingYears</th>\n",
              "      <th>TrainingTimesLastYear</th>\n",
              "      <th>YearsAtCompany</th>\n",
              "      <th>YearsSinceLastPromotion</th>\n",
              "      <th>YearsWithCurrManager</th>\n",
              "    </tr>\n",
              "  </thead>\n",
              "  <tbody>\n",
              "    <tr>\n",
              "      <th>count</th>\n",
              "      <td>1470.000000</td>\n",
              "      <td>1470.000000</td>\n",
              "      <td>1470.000000</td>\n",
              "      <td>1470.000000</td>\n",
              "      <td>1470.000000</td>\n",
              "      <td>1470.000000</td>\n",
              "      <td>1470.000000</td>\n",
              "      <td>1470.000000</td>\n",
              "      <td>1470.000000</td>\n",
              "      <td>1470.000000</td>\n",
              "      <td>1470.0</td>\n",
              "      <td>1470.000000</td>\n",
              "      <td>1470.000000</td>\n",
              "      <td>1470.000000</td>\n",
              "      <td>1470.000000</td>\n",
              "      <td>1470.000000</td>\n",
              "      <td>1470.000000</td>\n",
              "    </tr>\n",
              "    <tr>\n",
              "      <th>mean</th>\n",
              "      <td>36.923810</td>\n",
              "      <td>0.161224</td>\n",
              "      <td>9.192517</td>\n",
              "      <td>2.912925</td>\n",
              "      <td>0.600000</td>\n",
              "      <td>2.063946</td>\n",
              "      <td>1.097279</td>\n",
              "      <td>65029.312925</td>\n",
              "      <td>2.693197</td>\n",
              "      <td>15.209524</td>\n",
              "      <td>8.0</td>\n",
              "      <td>0.793878</td>\n",
              "      <td>11.279592</td>\n",
              "      <td>2.799320</td>\n",
              "      <td>7.008163</td>\n",
              "      <td>2.187755</td>\n",
              "      <td>4.123129</td>\n",
              "    </tr>\n",
              "    <tr>\n",
              "      <th>std</th>\n",
              "      <td>9.135373</td>\n",
              "      <td>0.367863</td>\n",
              "      <td>8.106864</td>\n",
              "      <td>1.024165</td>\n",
              "      <td>0.490065</td>\n",
              "      <td>1.106940</td>\n",
              "      <td>0.730121</td>\n",
              "      <td>47079.567831</td>\n",
              "      <td>2.498009</td>\n",
              "      <td>3.659938</td>\n",
              "      <td>0.0</td>\n",
              "      <td>0.852077</td>\n",
              "      <td>7.780782</td>\n",
              "      <td>1.289271</td>\n",
              "      <td>6.126525</td>\n",
              "      <td>3.222430</td>\n",
              "      <td>3.568136</td>\n",
              "    </tr>\n",
              "    <tr>\n",
              "      <th>min</th>\n",
              "      <td>18.000000</td>\n",
              "      <td>0.000000</td>\n",
              "      <td>1.000000</td>\n",
              "      <td>1.000000</td>\n",
              "      <td>0.000000</td>\n",
              "      <td>1.000000</td>\n",
              "      <td>0.000000</td>\n",
              "      <td>10090.000000</td>\n",
              "      <td>0.000000</td>\n",
              "      <td>11.000000</td>\n",
              "      <td>8.0</td>\n",
              "      <td>0.000000</td>\n",
              "      <td>0.000000</td>\n",
              "      <td>0.000000</td>\n",
              "      <td>0.000000</td>\n",
              "      <td>0.000000</td>\n",
              "      <td>0.000000</td>\n",
              "    </tr>\n",
              "    <tr>\n",
              "      <th>25%</th>\n",
              "      <td>30.000000</td>\n",
              "      <td>0.000000</td>\n",
              "      <td>2.000000</td>\n",
              "      <td>2.000000</td>\n",
              "      <td>0.000000</td>\n",
              "      <td>1.000000</td>\n",
              "      <td>1.000000</td>\n",
              "      <td>29110.000000</td>\n",
              "      <td>1.000000</td>\n",
              "      <td>12.000000</td>\n",
              "      <td>8.0</td>\n",
              "      <td>0.000000</td>\n",
              "      <td>6.000000</td>\n",
              "      <td>2.000000</td>\n",
              "      <td>3.000000</td>\n",
              "      <td>0.000000</td>\n",
              "      <td>2.000000</td>\n",
              "    </tr>\n",
              "    <tr>\n",
              "      <th>50%</th>\n",
              "      <td>36.000000</td>\n",
              "      <td>0.000000</td>\n",
              "      <td>7.000000</td>\n",
              "      <td>3.000000</td>\n",
              "      <td>1.000000</td>\n",
              "      <td>2.000000</td>\n",
              "      <td>1.000000</td>\n",
              "      <td>49190.000000</td>\n",
              "      <td>2.000000</td>\n",
              "      <td>14.000000</td>\n",
              "      <td>8.0</td>\n",
              "      <td>1.000000</td>\n",
              "      <td>10.000000</td>\n",
              "      <td>3.000000</td>\n",
              "      <td>5.000000</td>\n",
              "      <td>1.000000</td>\n",
              "      <td>3.000000</td>\n",
              "    </tr>\n",
              "    <tr>\n",
              "      <th>75%</th>\n",
              "      <td>43.000000</td>\n",
              "      <td>0.000000</td>\n",
              "      <td>14.000000</td>\n",
              "      <td>4.000000</td>\n",
              "      <td>1.000000</td>\n",
              "      <td>3.000000</td>\n",
              "      <td>2.000000</td>\n",
              "      <td>83790.000000</td>\n",
              "      <td>4.000000</td>\n",
              "      <td>18.000000</td>\n",
              "      <td>8.0</td>\n",
              "      <td>1.000000</td>\n",
              "      <td>15.000000</td>\n",
              "      <td>3.000000</td>\n",
              "      <td>9.000000</td>\n",
              "      <td>3.000000</td>\n",
              "      <td>7.000000</td>\n",
              "    </tr>\n",
              "    <tr>\n",
              "      <th>max</th>\n",
              "      <td>60.000000</td>\n",
              "      <td>1.000000</td>\n",
              "      <td>29.000000</td>\n",
              "      <td>5.000000</td>\n",
              "      <td>1.000000</td>\n",
              "      <td>5.000000</td>\n",
              "      <td>2.000000</td>\n",
              "      <td>199990.000000</td>\n",
              "      <td>9.000000</td>\n",
              "      <td>25.000000</td>\n",
              "      <td>8.0</td>\n",
              "      <td>3.000000</td>\n",
              "      <td>40.000000</td>\n",
              "      <td>6.000000</td>\n",
              "      <td>40.000000</td>\n",
              "      <td>15.000000</td>\n",
              "      <td>17.000000</td>\n",
              "    </tr>\n",
              "  </tbody>\n",
              "</table>\n",
              "</div>"
            ],
            "text/plain": [
              "               Age    Attrition  DistanceFromHome    Education       Gender  \\\n",
              "count  1470.000000  1470.000000       1470.000000  1470.000000  1470.000000   \n",
              "mean     36.923810     0.161224          9.192517     2.912925     0.600000   \n",
              "std       9.135373     0.367863          8.106864     1.024165     0.490065   \n",
              "min      18.000000     0.000000          1.000000     1.000000     0.000000   \n",
              "25%      30.000000     0.000000          2.000000     2.000000     0.000000   \n",
              "50%      36.000000     0.000000          7.000000     3.000000     1.000000   \n",
              "75%      43.000000     0.000000         14.000000     4.000000     1.000000   \n",
              "max      60.000000     1.000000         29.000000     5.000000     1.000000   \n",
              "\n",
              "          JobLevel  MaritalStatus  MonthlyIncome  NumCompaniesWorked  \\\n",
              "count  1470.000000    1470.000000    1470.000000         1470.000000   \n",
              "mean      2.063946       1.097279   65029.312925            2.693197   \n",
              "std       1.106940       0.730121   47079.567831            2.498009   \n",
              "min       1.000000       0.000000   10090.000000            0.000000   \n",
              "25%       1.000000       1.000000   29110.000000            1.000000   \n",
              "50%       2.000000       1.000000   49190.000000            2.000000   \n",
              "75%       3.000000       2.000000   83790.000000            4.000000   \n",
              "max       5.000000       2.000000  199990.000000            9.000000   \n",
              "\n",
              "       PercentSalaryHike  StandardHours  StockOptionLevel  TotalWorkingYears  \\\n",
              "count        1470.000000         1470.0       1470.000000        1470.000000   \n",
              "mean           15.209524            8.0          0.793878          11.279592   \n",
              "std             3.659938            0.0          0.852077           7.780782   \n",
              "min            11.000000            8.0          0.000000           0.000000   \n",
              "25%            12.000000            8.0          0.000000           6.000000   \n",
              "50%            14.000000            8.0          1.000000          10.000000   \n",
              "75%            18.000000            8.0          1.000000          15.000000   \n",
              "max            25.000000            8.0          3.000000          40.000000   \n",
              "\n",
              "       TrainingTimesLastYear  YearsAtCompany  YearsSinceLastPromotion  \\\n",
              "count            1470.000000     1470.000000              1470.000000   \n",
              "mean                2.799320        7.008163                 2.187755   \n",
              "std                 1.289271        6.126525                 3.222430   \n",
              "min                 0.000000        0.000000                 0.000000   \n",
              "25%                 2.000000        3.000000                 0.000000   \n",
              "50%                 3.000000        5.000000                 1.000000   \n",
              "75%                 3.000000        9.000000                 3.000000   \n",
              "max                 6.000000       40.000000                15.000000   \n",
              "\n",
              "       YearsWithCurrManager  \n",
              "count           1470.000000  \n",
              "mean               4.123129  \n",
              "std                3.568136  \n",
              "min                0.000000  \n",
              "25%                2.000000  \n",
              "50%                3.000000  \n",
              "75%                7.000000  \n",
              "max               17.000000  "
            ]
          },
          "execution_count": 668,
          "metadata": {},
          "output_type": "execute_result"
        }
      ],
      "source": [
        "Summarisation"
      ]
    },
    {
      "cell_type": "code",
      "execution_count": null,
      "id": "91d64607",
      "metadata": {
        "id": "91d64607",
        "outputId": "eff20cfb-01ca-4afb-94b8-cf220ff1ce4e"
      },
      "outputs": [
        {
          "data": {
            "text/html": [
              "<div>\n",
              "<style scoped>\n",
              "    .dataframe tbody tr th:only-of-type {\n",
              "        vertical-align: middle;\n",
              "    }\n",
              "\n",
              "    .dataframe tbody tr th {\n",
              "        vertical-align: top;\n",
              "    }\n",
              "\n",
              "    .dataframe thead th {\n",
              "        text-align: right;\n",
              "    }\n",
              "</style>\n",
              "<table border=\"1\" class=\"dataframe\">\n",
              "  <thead>\n",
              "    <tr style=\"text-align: right;\">\n",
              "      <th>Gender</th>\n",
              "      <th>0</th>\n",
              "      <th>1</th>\n",
              "    </tr>\n",
              "    <tr>\n",
              "      <th>Attrition</th>\n",
              "      <th></th>\n",
              "      <th></th>\n",
              "    </tr>\n",
              "  </thead>\n",
              "  <tbody>\n",
              "    <tr>\n",
              "      <th>0</th>\n",
              "      <td>498</td>\n",
              "      <td>735</td>\n",
              "    </tr>\n",
              "    <tr>\n",
              "      <th>1</th>\n",
              "      <td>90</td>\n",
              "      <td>147</td>\n",
              "    </tr>\n",
              "  </tbody>\n",
              "</table>\n",
              "</div>"
            ],
            "text/plain": [
              "Gender       0    1\n",
              "Attrition          \n",
              "0          498  735\n",
              "1           90  147"
            ]
          },
          "execution_count": 669,
          "metadata": {},
          "output_type": "execute_result"
        }
      ],
      "source": [
        "#Combine 2 columns\n",
        "pd.crosstab(dataset3.Attrition,dataset3.Gender)"
      ]
    },
    {
      "cell_type": "code",
      "execution_count": null,
      "id": "6002365b",
      "metadata": {
        "id": "6002365b",
        "outputId": "c0c60ab1-7b97-4287-a79d-0eae4d304764"
      },
      "outputs": [
        {
          "data": {
            "text/html": [
              "<div>\n",
              "<style scoped>\n",
              "    .dataframe tbody tr th:only-of-type {\n",
              "        vertical-align: middle;\n",
              "    }\n",
              "\n",
              "    .dataframe tbody tr th {\n",
              "        vertical-align: top;\n",
              "    }\n",
              "\n",
              "    .dataframe thead th {\n",
              "        text-align: right;\n",
              "    }\n",
              "</style>\n",
              "<table border=\"1\" class=\"dataframe\">\n",
              "  <thead>\n",
              "    <tr style=\"text-align: right;\">\n",
              "      <th>MaritalStatus</th>\n",
              "      <th>0</th>\n",
              "      <th>1</th>\n",
              "      <th>2</th>\n",
              "    </tr>\n",
              "    <tr>\n",
              "      <th>Attrition</th>\n",
              "      <th></th>\n",
              "      <th></th>\n",
              "      <th></th>\n",
              "    </tr>\n",
              "  </thead>\n",
              "  <tbody>\n",
              "    <tr>\n",
              "      <th>0</th>\n",
              "      <td>294</td>\n",
              "      <td>589</td>\n",
              "      <td>350</td>\n",
              "    </tr>\n",
              "    <tr>\n",
              "      <th>1</th>\n",
              "      <td>33</td>\n",
              "      <td>84</td>\n",
              "      <td>120</td>\n",
              "    </tr>\n",
              "  </tbody>\n",
              "</table>\n",
              "</div>"
            ],
            "text/plain": [
              "MaritalStatus    0    1    2\n",
              "Attrition                   \n",
              "0              294  589  350\n",
              "1               33   84  120"
            ]
          },
          "execution_count": 670,
          "metadata": {},
          "output_type": "execute_result"
        }
      ],
      "source": [
        " pd.crosstab(dataset3.Attrition,dataset3.MaritalStatus)"
      ]
    },
    {
      "cell_type": "code",
      "execution_count": null,
      "id": "78921c9f",
      "metadata": {
        "id": "78921c9f",
        "outputId": "4b29e385-75c3-4ac6-985f-bdfbabe1c9dd"
      },
      "outputs": [
        {
          "data": {
            "text/html": [
              "<div>\n",
              "<style scoped>\n",
              "    .dataframe tbody tr th:only-of-type {\n",
              "        vertical-align: middle;\n",
              "    }\n",
              "\n",
              "    .dataframe tbody tr th {\n",
              "        vertical-align: top;\n",
              "    }\n",
              "\n",
              "    .dataframe thead th {\n",
              "        text-align: right;\n",
              "    }\n",
              "</style>\n",
              "<table border=\"1\" class=\"dataframe\">\n",
              "  <thead>\n",
              "    <tr style=\"text-align: right;\">\n",
              "      <th>Department</th>\n",
              "      <th>Human Resources</th>\n",
              "      <th>Research &amp; Development</th>\n",
              "      <th>Sales</th>\n",
              "    </tr>\n",
              "    <tr>\n",
              "      <th>Attrition</th>\n",
              "      <th></th>\n",
              "      <th></th>\n",
              "      <th></th>\n",
              "    </tr>\n",
              "  </thead>\n",
              "  <tbody>\n",
              "    <tr>\n",
              "      <th>0</th>\n",
              "      <td>44</td>\n",
              "      <td>810</td>\n",
              "      <td>379</td>\n",
              "    </tr>\n",
              "    <tr>\n",
              "      <th>1</th>\n",
              "      <td>19</td>\n",
              "      <td>151</td>\n",
              "      <td>67</td>\n",
              "    </tr>\n",
              "  </tbody>\n",
              "</table>\n",
              "</div>"
            ],
            "text/plain": [
              "Department  Human Resources  Research & Development  Sales\n",
              "Attrition                                                 \n",
              "0                        44                     810    379\n",
              "1                        19                     151     67"
            ]
          },
          "execution_count": 671,
          "metadata": {},
          "output_type": "execute_result"
        }
      ],
      "source": [
        "#  cross tabulation\n",
        "pd.crosstab(dataset3.Attrition,dataset3.Department)"
      ]
    },
    {
      "cell_type": "code",
      "execution_count": null,
      "id": "d57adc11",
      "metadata": {
        "id": "d57adc11"
      },
      "outputs": [],
      "source": [
        "#check wheather the data we hve is distributed equally or we have something outliers\n",
        "\n",
        "import matplotlib.pyplot as plt"
      ]
    },
    {
      "cell_type": "code",
      "execution_count": null,
      "id": "3465f4cd",
      "metadata": {
        "scrolled": true,
        "id": "3465f4cd",
        "outputId": "6e61fed9-e0b7-4cfa-b232-7cde0e8f7e9f"
      },
      "outputs": [
        {
          "data": {
            "text/plain": [
              "(array([ 57., 105., 224., 265., 255., 217., 131.,  92.,  77.,  47.]),\n",
              " array([18. , 22.2, 26.4, 30.6, 34.8, 39. , 43.2, 47.4, 51.6, 55.8, 60. ]),\n",
              " <BarContainer object of 10 artists>)"
            ]
          },
          "execution_count": 673,
          "metadata": {},
          "output_type": "execute_result"
        },
        {
          "data": {
            "image/png": "[encoded data removed]",
            "text/plain": [
              "<Figure size 640x480 with 1 Axes>"
            ]
          },
          "metadata": {},
          "output_type": "display_data"
        }
      ],
      "source": [
        "plt.hist(dataset3.Age)\n",
        "#Bell shaped curved means normally distributed"
      ]
    },
    {
      "cell_type": "code",
      "execution_count": null,
      "id": "67a0167d",
      "metadata": {
        "id": "67a0167d",
        "outputId": "5a3bc162-a8a4-4f3d-ac98-d078a267d416"
      },
      "outputs": [
        {
          "data": {
            "text/plain": [
              "<AxesSubplot: ylabel='Density'>"
            ]
          },
          "execution_count": 674,
          "metadata": {},
          "output_type": "execute_result"
        },
        {
          "data": {
            "image/png": "[encoded data removed]",
            "text/plain": [
              "<Figure size 640x480 with 1 Axes>"
            ]
          },
          "metadata": {},
          "output_type": "display_data"
        }
      ],
      "source": [
        "dataset3.Age.plot(kind='kde')"
      ]
    },
    {
      "cell_type": "code",
      "execution_count": null,
      "id": "00216c3f",
      "metadata": {
        "id": "00216c3f",
        "outputId": "99a0b397-6756-4f0a-b1ad-8041156e5e05"
      },
      "outputs": [
        {
          "data": {
            "text/plain": [
              "{'whiskers': [<matplotlib.lines.Line2D at 0x1b3d1816500>,\n",
              "  <matplotlib.lines.Line2D at 0x1b3d18167a0>],\n",
              " 'caps': [<matplotlib.lines.Line2D at 0x1b3d1816a40>,\n",
              "  <matplotlib.lines.Line2D at 0x1b3d1816ce0>],\n",
              " 'boxes': [<matplotlib.lines.Line2D at 0x1b3d1816260>],\n",
              " 'medians': [<matplotlib.lines.Line2D at 0x1b3d1816f80>],\n",
              " 'fliers': [<matplotlib.lines.Line2D at 0x1b3d1817220>],\n",
              " 'means': []}"
            ]
          },
          "execution_count": 675,
          "metadata": {},
          "output_type": "execute_result"
        },
        {
          "data": {
            "image/png": "[encoded data removed]",
            "text/plain": [
              "<Figure size 640x480 with 1 Axes>"
            ]
          },
          "metadata": {},
          "output_type": "display_data"
        }
      ],
      "source": [
        "plt.boxplot(dataset3.Age)\n",
        "# boxplot usually used for finding the outliers\n",
        "#yellow line is at he middle clearly signifies data is normally dis"
      ]
    },
    {
      "cell_type": "code",
      "execution_count": null,
      "id": "c18ea13a",
      "metadata": {
        "id": "c18ea13a",
        "outputId": "8c6cac11-6e7f-4267-d77c-d0833b807913"
      },
      "outputs": [
        {
          "data": {
            "text/plain": [
              "(array([365., 349., 290., 109., 110.,  56.,  52.,  18.,  54.,  67.]),\n",
              " array([ 10090.,  29080.,  48070.,  67060.,  86050., 105040., 124030.,\n",
              "        143020., 162010., 181000., 199990.]),\n",
              " <BarContainer object of 10 artists>)"
            ]
          },
          "execution_count": 676,
          "metadata": {},
          "output_type": "execute_result"
        },
        {
          "data": {
            "image/png": "[encoded data removed]",
            "text/plain": [
              "<Figure size 640x480 with 1 Axes>"
            ]
          },
          "metadata": {},
          "output_type": "display_data"
        }
      ],
      "source": [
        "plt.hist(dataset3.MonthlyIncome)"
      ]
    },
    {
      "cell_type": "code",
      "execution_count": null,
      "id": "359af72a",
      "metadata": {
        "id": "359af72a",
        "outputId": "1d7506c1-9bfd-4f20-f7ac-6d8a9f670033"
      },
      "outputs": [
        {
          "data": {
            "text/plain": [
              "{'whiskers': [<matplotlib.lines.Line2D at 0x1b3cc4dbfd0>,\n",
              "  <matplotlib.lines.Line2D at 0x1b3cc57aa70>],\n",
              " 'caps': [<matplotlib.lines.Line2D at 0x1b3cdcfcd90>,\n",
              "  <matplotlib.lines.Line2D at 0x1b3d03be620>],\n",
              " 'boxes': [<matplotlib.lines.Line2D at 0x1b3cdcc4100>],\n",
              " 'medians': [<matplotlib.lines.Line2D at 0x1b3b0cf2e00>],\n",
              " 'fliers': [<matplotlib.lines.Line2D at 0x1b3cdcfe020>],\n",
              " 'means': []}"
            ]
          },
          "execution_count": 677,
          "metadata": {},
          "output_type": "execute_result"
        },
        {
          "data": {
            "image/png": "[encoded data removed]",
            "text/plain": [
              "<Figure size 640x480 with 1 Axes>"
            ]
          },
          "metadata": {},
          "output_type": "display_data"
        }
      ],
      "source": [
        "plt.boxplot(dataset3.MonthlyIncome)\n",
        "#median kine falls below the center line"
      ]
    },
    {
      "cell_type": "code",
      "execution_count": null,
      "id": "3216a85c",
      "metadata": {
        "id": "3216a85c"
      },
      "outputs": [],
      "source": [
        "# if attrition yes , what is the age\n",
        "# if attrition no,what is the age\n",
        "# data is normally distributed so we can apply ttest\n",
        "from scipy.stats import ttest_ind"
      ]
    },
    {
      "cell_type": "code",
      "execution_count": null,
      "id": "3f0c18d8",
      "metadata": {
        "id": "3f0c18d8"
      },
      "outputs": [],
      "source": [
        "Attrition_yes=dataset3[dataset3[\"Attrition\"]==1]"
      ]
    },
    {
      "cell_type": "code",
      "execution_count": null,
      "id": "9ebbc480",
      "metadata": {
        "id": "9ebbc480"
      },
      "outputs": [],
      "source": [
        "Attrition_No=dataset3[dataset3[\"Attrition\"]==0]"
      ]
    },
    {
      "cell_type": "code",
      "execution_count": null,
      "id": "6969daa7",
      "metadata": {
        "id": "6969daa7"
      },
      "outputs": [],
      "source": [
        "# apply ttest on age(coz normally distributed)\n",
        "stats, p=ttest_ind(Attrition_yes.Age,Attrition_No.Age )"
      ]
    },
    {
      "cell_type": "code",
      "execution_count": null,
      "id": "7a41f743",
      "metadata": {
        "id": "7a41f743",
        "outputId": "64a6ccad-4fb0-40c6-d475-909aa818aaa9"
      },
      "outputs": [
        {
          "name": "stdout",
          "output_type": "stream",
          "text": [
            "-6.178663835307217 8.356308021103587e-10\n"
          ]
        }
      ],
      "source": [
        "print(stats, p)  #there is a significance impact on age and attrition(alternate hypothesis is accepted)"
      ]
    },
    {
      "cell_type": "code",
      "execution_count": null,
      "id": "d679be62",
      "metadata": {
        "id": "d679be62"
      },
      "outputs": [],
      "source": [
        "#monthlyincome is not normally dis, use non param test\n",
        "from scipy.stats import mannwhitneyu"
      ]
    },
    {
      "cell_type": "code",
      "execution_count": null,
      "id": "e6444c21",
      "metadata": {
        "id": "e6444c21"
      },
      "outputs": [],
      "source": [
        "stats,p=mannwhitneyu(Attrition_yes.MonthlyIncome, Attrition_No.MonthlyIncome)"
      ]
    },
    {
      "cell_type": "code",
      "execution_count": null,
      "id": "3b47a085",
      "metadata": {
        "id": "3b47a085",
        "outputId": "1d8d0493-2217-4f3f-eae3-9dc8a35efb1d"
      },
      "outputs": [
        {
          "name": "stdout",
          "output_type": "stream",
          "text": [
            "140544.5 0.35242665988655764\n"
          ]
        }
      ],
      "source": [
        "print(stats, p) #there is significance impact between age and monthly incoe p>.05"
      ]
    },
    {
      "cell_type": "code",
      "execution_count": null,
      "id": "7b707746",
      "metadata": {
        "id": "7b707746"
      },
      "outputs": [],
      "source": [
        "# check the dependency of variables\n",
        "# use chisqare test\n",
        "from scipy.stats import chi2_contingency\n"
      ]
    },
    {
      "cell_type": "code",
      "execution_count": null,
      "id": "05f419e7",
      "metadata": {
        "id": "05f419e7"
      },
      "outputs": [],
      "source": [
        "chitable = pd.crosstab(dataset3.Attrition, dataset3.Gender)"
      ]
    },
    {
      "cell_type": "code",
      "execution_count": null,
      "id": "ae3941af",
      "metadata": {
        "id": "ae3941af",
        "outputId": "e159b31d-fb2e-4178-d513-b9091c063bb9"
      },
      "outputs": [
        {
          "data": {
            "text/html": [
              "<div>\n",
              "<style scoped>\n",
              "    .dataframe tbody tr th:only-of-type {\n",
              "        vertical-align: middle;\n",
              "    }\n",
              "\n",
              "    .dataframe tbody tr th {\n",
              "        vertical-align: top;\n",
              "    }\n",
              "\n",
              "    .dataframe thead th {\n",
              "        text-align: right;\n",
              "    }\n",
              "</style>\n",
              "<table border=\"1\" class=\"dataframe\">\n",
              "  <thead>\n",
              "    <tr style=\"text-align: right;\">\n",
              "      <th>Gender</th>\n",
              "      <th>0</th>\n",
              "      <th>1</th>\n",
              "    </tr>\n",
              "    <tr>\n",
              "      <th>Attrition</th>\n",
              "      <th></th>\n",
              "      <th></th>\n",
              "    </tr>\n",
              "  </thead>\n",
              "  <tbody>\n",
              "    <tr>\n",
              "      <th>0</th>\n",
              "      <td>498</td>\n",
              "      <td>735</td>\n",
              "    </tr>\n",
              "    <tr>\n",
              "      <th>1</th>\n",
              "      <td>90</td>\n",
              "      <td>147</td>\n",
              "    </tr>\n",
              "  </tbody>\n",
              "</table>\n",
              "</div>"
            ],
            "text/plain": [
              "Gender       0    1\n",
              "Attrition          \n",
              "0          498  735\n",
              "1           90  147"
            ]
          },
          "execution_count": 688,
          "metadata": {},
          "output_type": "execute_result"
        }
      ],
      "source": [
        "chitable"
      ]
    },
    {
      "cell_type": "code",
      "execution_count": null,
      "id": "51d7e61f",
      "metadata": {
        "id": "51d7e61f"
      },
      "outputs": [],
      "source": [
        "stats,p,dof,expected=chi2_contingency(chitable)"
      ]
    },
    {
      "cell_type": "code",
      "execution_count": null,
      "id": "3ebbdb90",
      "metadata": {
        "id": "3ebbdb90",
        "outputId": "f8e65509-95fb-403b-fc50-4f7960ebc834"
      },
      "outputs": [
        {
          "name": "stdout",
          "output_type": "stream",
          "text": [
            "0.3875534270295429 0.5335882358793274\n"
          ]
        }
      ],
      "source": [
        "print(stats, p)  #accept alternate hypothesis"
      ]
    },
    {
      "cell_type": "code",
      "execution_count": null,
      "id": "a4ccaf6d",
      "metadata": {
        "id": "a4ccaf6d"
      },
      "outputs": [],
      "source": [
        "# comapare attrition and education\n",
        "from scipy.stats import chi2_contingency"
      ]
    },
    {
      "cell_type": "code",
      "execution_count": null,
      "id": "8d3d0453",
      "metadata": {
        "id": "8d3d0453"
      },
      "outputs": [],
      "source": [
        " chitable = pd.crosstab(dataset3.Attrition, dataset3.Education)"
      ]
    },
    {
      "cell_type": "code",
      "execution_count": null,
      "id": "2a210a4f",
      "metadata": {
        "id": "2a210a4f",
        "outputId": "850328f9-d974-4b7d-dcdc-fd700c14ee1e"
      },
      "outputs": [
        {
          "data": {
            "text/html": [
              "<div>\n",
              "<style scoped>\n",
              "    .dataframe tbody tr th:only-of-type {\n",
              "        vertical-align: middle;\n",
              "    }\n",
              "\n",
              "    .dataframe tbody tr th {\n",
              "        vertical-align: top;\n",
              "    }\n",
              "\n",
              "    .dataframe thead th {\n",
              "        text-align: right;\n",
              "    }\n",
              "</style>\n",
              "<table border=\"1\" class=\"dataframe\">\n",
              "  <thead>\n",
              "    <tr style=\"text-align: right;\">\n",
              "      <th>Education</th>\n",
              "      <th>1</th>\n",
              "      <th>2</th>\n",
              "      <th>3</th>\n",
              "      <th>4</th>\n",
              "      <th>5</th>\n",
              "    </tr>\n",
              "    <tr>\n",
              "      <th>Attrition</th>\n",
              "      <th></th>\n",
              "      <th></th>\n",
              "      <th></th>\n",
              "      <th></th>\n",
              "      <th></th>\n",
              "    </tr>\n",
              "  </thead>\n",
              "  <tbody>\n",
              "    <tr>\n",
              "      <th>0</th>\n",
              "      <td>144</td>\n",
              "      <td>229</td>\n",
              "      <td>483</td>\n",
              "      <td>336</td>\n",
              "      <td>41</td>\n",
              "    </tr>\n",
              "    <tr>\n",
              "      <th>1</th>\n",
              "      <td>26</td>\n",
              "      <td>53</td>\n",
              "      <td>89</td>\n",
              "      <td>62</td>\n",
              "      <td>7</td>\n",
              "    </tr>\n",
              "  </tbody>\n",
              "</table>\n",
              "</div>"
            ],
            "text/plain": [
              "Education    1    2    3    4   5\n",
              "Attrition                        \n",
              "0          144  229  483  336  41\n",
              "1           26   53   89   62   7"
            ]
          },
          "execution_count": 693,
          "metadata": {},
          "output_type": "execute_result"
        }
      ],
      "source": [
        "chitable"
      ]
    },
    {
      "cell_type": "code",
      "execution_count": null,
      "id": "8f702b0d",
      "metadata": {
        "id": "8f702b0d"
      },
      "outputs": [],
      "source": [
        "stats, p, dof,expected=chi2_contingency(chitable)"
      ]
    },
    {
      "cell_type": "code",
      "execution_count": null,
      "id": "3b757c58",
      "metadata": {
        "id": "3b757c58",
        "outputId": "f214864e-0d16-4f71-df6b-76e856a620d7"
      },
      "outputs": [
        {
          "name": "stdout",
          "output_type": "stream",
          "text": [
            "1.880382559749732 0.7577477640783867\n"
          ]
        }
      ],
      "source": [
        "print(stats, p)"
      ]
    },
    {
      "cell_type": "code",
      "execution_count": null,
      "id": "00f2738b",
      "metadata": {
        "id": "00f2738b"
      },
      "outputs": [],
      "source": [
        " chitable = pd.crosstab(dataset3.Attrition, dataset3.MaritalStatus)"
      ]
    },
    {
      "cell_type": "code",
      "execution_count": null,
      "id": "34bc5c81",
      "metadata": {
        "id": "34bc5c81",
        "outputId": "d0e470f6-9f97-4290-925b-6b24786da7f2"
      },
      "outputs": [
        {
          "data": {
            "text/html": [
              "<div>\n",
              "<style scoped>\n",
              "    .dataframe tbody tr th:only-of-type {\n",
              "        vertical-align: middle;\n",
              "    }\n",
              "\n",
              "    .dataframe tbody tr th {\n",
              "        vertical-align: top;\n",
              "    }\n",
              "\n",
              "    .dataframe thead th {\n",
              "        text-align: right;\n",
              "    }\n",
              "</style>\n",
              "<table border=\"1\" class=\"dataframe\">\n",
              "  <thead>\n",
              "    <tr style=\"text-align: right;\">\n",
              "      <th>MaritalStatus</th>\n",
              "      <th>0</th>\n",
              "      <th>1</th>\n",
              "      <th>2</th>\n",
              "    </tr>\n",
              "    <tr>\n",
              "      <th>Attrition</th>\n",
              "      <th></th>\n",
              "      <th></th>\n",
              "      <th></th>\n",
              "    </tr>\n",
              "  </thead>\n",
              "  <tbody>\n",
              "    <tr>\n",
              "      <th>0</th>\n",
              "      <td>294</td>\n",
              "      <td>589</td>\n",
              "      <td>350</td>\n",
              "    </tr>\n",
              "    <tr>\n",
              "      <th>1</th>\n",
              "      <td>33</td>\n",
              "      <td>84</td>\n",
              "      <td>120</td>\n",
              "    </tr>\n",
              "  </tbody>\n",
              "</table>\n",
              "</div>"
            ],
            "text/plain": [
              "MaritalStatus    0    1    2\n",
              "Attrition                   \n",
              "0              294  589  350\n",
              "1               33   84  120"
            ]
          },
          "execution_count": 697,
          "metadata": {},
          "output_type": "execute_result"
        }
      ],
      "source": [
        "chitable"
      ]
    },
    {
      "cell_type": "code",
      "execution_count": null,
      "id": "31451c4c",
      "metadata": {
        "id": "31451c4c"
      },
      "outputs": [],
      "source": [
        "stats, p, dof,expected=chi2_contingency(chitable)"
      ]
    },
    {
      "cell_type": "code",
      "execution_count": null,
      "id": "a68fd8b2",
      "metadata": {
        "id": "a68fd8b2",
        "outputId": "c1c5d816-4c8d-4240-e3da-0ebd1554fece"
      },
      "outputs": [
        {
          "name": "stdout",
          "output_type": "stream",
          "text": [
            "46.163676540848705 9.455511060340833e-11\n"
          ]
        }
      ],
      "source": [
        "print(stats,p)  #p<.05"
      ]
    },
    {
      "cell_type": "code",
      "execution_count": null,
      "id": "8bbf2b1b",
      "metadata": {
        "id": "8bbf2b1b"
      },
      "outputs": [],
      "source": [
        "# TO FIND THE CORRELATION\n",
        "from scipy.stats import pearsonr\n",
        "stats,p=pearsonr(dataset3.Attrition, dataset3.MonthlyIncome)"
      ]
    },
    {
      "cell_type": "code",
      "execution_count": null,
      "id": "78242f09",
      "metadata": {
        "id": "78242f09",
        "outputId": "8b0ea236-4930-44e7-8efe-a395f4999f83"
      },
      "outputs": [
        {
          "name": "stdout",
          "output_type": "stream",
          "text": [
            "-0.031176281698114938 0.2322471639813743\n"
          ]
        }
      ],
      "source": [
        "print(stats, p)\n",
        "# negatiove correlation\n",
        "# p- shows significant values"
      ]
    },
    {
      "cell_type": "code",
      "execution_count": null,
      "id": "85eeb170",
      "metadata": {
        "id": "85eeb170"
      },
      "outputs": [],
      "source": [
        "stats,p=pearsonr(dataset3.Attrition, dataset3.MaritalStatus)"
      ]
    },
    {
      "cell_type": "code",
      "execution_count": null,
      "id": "09015df1",
      "metadata": {
        "id": "09015df1",
        "outputId": "40c51505-aaa1-4ce0-9b7e-b126f56b4546"
      },
      "outputs": [
        {
          "name": "stdout",
          "output_type": "stream",
          "text": [
            "0.1620702346570145 4.106014940872919e-10\n"
          ]
        }
      ],
      "source": [
        "print(stats, p)"
      ]
    },
    {
      "cell_type": "code",
      "execution_count": null,
      "id": "dd820b59",
      "metadata": {
        "id": "dd820b59"
      },
      "outputs": [],
      "source": [
        "stats,p=pearsonr(dataset3.Attrition, dataset3.Gender)"
      ]
    },
    {
      "cell_type": "code",
      "execution_count": null,
      "id": "ab27ee3a",
      "metadata": {
        "id": "ab27ee3a",
        "outputId": "a44cdae3-14e3-4c85-e6f0-530646d46593"
      },
      "outputs": [
        {
          "name": "stdout",
          "output_type": "stream",
          "text": [
            "0.0181250788770102 0.4874364701157284\n"
          ]
        }
      ],
      "source": [
        "print(stats, p)  #positivel correlated"
      ]
    },
    {
      "cell_type": "code",
      "execution_count": null,
      "id": "54b18fa5",
      "metadata": {
        "id": "54b18fa5",
        "outputId": "c0ea3624-edd3-4039-9023-acfd3e4289fc"
      },
      "outputs": [
        {
          "name": "stderr",
          "output_type": "stream",
          "text": [
            "C:\\Users\\Dell\\AppData\\Local\\Temp\\ipykernel_35864\\3891061485.py:2: FutureWarning: The default value of numeric_only in DataFrame.corr is deprecated. In a future version, it will default to False. Select only valid columns or specify the value of numeric_only to silence this warning.\n",
            "  Correlation_matrix = dataset3.corr()\n"
          ]
        }
      ],
      "source": [
        "# drw correlationmatrix also\n",
        "Correlation_matrix = dataset3.corr()"
      ]
    },
    {
      "cell_type": "code",
      "execution_count": null,
      "id": "e089051f",
      "metadata": {
        "id": "e089051f",
        "outputId": "9b22e77a-cef0-4091-955b-a855a628ff8f"
      },
      "outputs": [
        {
          "name": "stdout",
          "output_type": "stream",
          "text": [
            "                              Age  Attrition  DistanceFromHome  Education  \\\n",
            "Age                      1.000000  -0.159205          0.006963  -0.035706   \n",
            "Attrition               -0.159205   1.000000         -0.009730  -0.015111   \n",
            "DistanceFromHome         0.006963  -0.009730          1.000000  -0.008638   \n",
            "Education               -0.035706  -0.015111         -0.008638   1.000000   \n",
            "Gender                  -0.039352   0.018125         -0.044173  -0.016547   \n",
            "JobLevel                -0.002884  -0.010290         -0.037329   0.045746   \n",
            "MaritalStatus           -0.095029   0.162070         -0.027893   0.024991   \n",
            "MonthlyIncome           -0.044314  -0.031176         -0.021607   0.006410   \n",
            "NumCompaniesWorked       0.299635   0.043494         -0.013822  -0.016569   \n",
            "PercentSalaryHike       -0.033137   0.032533          0.038125  -0.040531   \n",
            "StandardHours                 NaN        NaN               NaN        NaN   \n",
            "StockOptionLevel        -0.031753  -0.006839          0.011169   0.001261   \n",
            "TotalWorkingYears        0.680381  -0.171063          0.010111  -0.010440   \n",
            "TrainingTimesLastYear   -0.027308  -0.049431         -0.009001   0.010472   \n",
            "YearsAtCompany           0.311309  -0.134392          0.031684   0.006080   \n",
            "YearsSinceLastPromotion  0.216513  -0.033019          0.002290   0.022490   \n",
            "YearsWithCurrManager     0.202089  -0.156199          0.021584   0.005358   \n",
            "\n",
            "                           Gender  JobLevel  MaritalStatus  MonthlyIncome  \\\n",
            "Age                     -0.039352 -0.002884      -0.095029      -0.044314   \n",
            "Attrition                0.018125 -0.010290       0.162070      -0.031176   \n",
            "DistanceFromHome        -0.044173 -0.037329      -0.027893      -0.021607   \n",
            "Education               -0.016547  0.045746       0.024991       0.006410   \n",
            "Gender                   1.000000 -0.026854      -0.009132       0.007530   \n",
            "JobLevel                -0.026854  1.000000      -0.022021       0.047316   \n",
            "MaritalStatus           -0.009132 -0.022021       1.000000      -0.052383   \n",
            "MonthlyIncome            0.007530  0.047316      -0.052383       1.000000   \n",
            "NumCompaniesWorked      -0.066395 -0.008656      -0.035505      -0.020315   \n",
            "PercentSalaryHike        0.011841  0.010973       0.006378       0.004325   \n",
            "StandardHours                 NaN       NaN            NaN            NaN   \n",
            "StockOptionLevel         0.019237  0.000993       0.014745       0.026930   \n",
            "TotalWorkingYears       -0.026707 -0.037012      -0.077886      -0.033402   \n",
            "TrainingTimesLastYear   -0.030167 -0.032500       0.012798       0.050112   \n",
            "YearsAtCompany          -0.017277 -0.064219      -0.059986       0.000995   \n",
            "YearsSinceLastPromotion -0.021812 -0.060811      -0.030915       0.065219   \n",
            "YearsWithCurrManager     0.004438 -0.055251      -0.038570       0.024304   \n",
            "\n",
            "                         NumCompaniesWorked  PercentSalaryHike  StandardHours  \\\n",
            "Age                                0.299635          -0.033137            NaN   \n",
            "Attrition                          0.043494           0.032533            NaN   \n",
            "DistanceFromHome                  -0.013822           0.038125            NaN   \n",
            "Education                         -0.016569          -0.040531            NaN   \n",
            "Gender                            -0.066395           0.011841            NaN   \n",
            "JobLevel                          -0.008656           0.010973            NaN   \n",
            "MaritalStatus                     -0.035505           0.006378            NaN   \n",
            "MonthlyIncome                     -0.020315           0.004325            NaN   \n",
            "NumCompaniesWorked                 1.000000           0.031235            NaN   \n",
            "PercentSalaryHike                  0.031235           1.000000            NaN   \n",
            "StandardHours                           NaN                NaN            NaN   \n",
            "StockOptionLevel                   0.017922           0.012548            NaN   \n",
            "TotalWorkingYears                  0.237639          -0.019150            NaN   \n",
            "TrainingTimesLastYear             -0.032235          -0.037392            NaN   \n",
            "YearsAtCompany                    -0.118421          -0.029707            NaN   \n",
            "YearsSinceLastPromotion           -0.036814          -0.029542            NaN   \n",
            "YearsWithCurrManager              -0.110319          -0.040864            NaN   \n",
            "\n",
            "                         StockOptionLevel  TotalWorkingYears  \\\n",
            "Age                             -0.031753           0.680381   \n",
            "Attrition                       -0.006839          -0.171063   \n",
            "DistanceFromHome                 0.011169           0.010111   \n",
            "Education                        0.001261          -0.010440   \n",
            "Gender                           0.019237          -0.026707   \n",
            "JobLevel                         0.000993          -0.037012   \n",
            "MaritalStatus                    0.014745          -0.077886   \n",
            "MonthlyIncome                    0.026930          -0.033402   \n",
            "NumCompaniesWorked               0.017922           0.237639   \n",
            "PercentSalaryHike                0.012548          -0.019150   \n",
            "StandardHours                         NaN                NaN   \n",
            "StockOptionLevel                 1.000000           0.001922   \n",
            "TotalWorkingYears                0.001922           1.000000   \n",
            "TrainingTimesLastYear           -0.069902          -0.039394   \n",
            "YearsAtCompany                   0.007886           0.628133   \n",
            "YearsSinceLastPromotion          0.019063           0.404858   \n",
            "YearsWithCurrManager             0.017757           0.459188   \n",
            "\n",
            "                         TrainingTimesLastYear  YearsAtCompany  \\\n",
            "Age                                  -0.027308        0.311309   \n",
            "Attrition                            -0.049431       -0.134392   \n",
            "DistanceFromHome                     -0.009001        0.031684   \n",
            "Education                             0.010472        0.006080   \n",
            "Gender                               -0.030167       -0.017277   \n",
            "JobLevel                             -0.032500       -0.064219   \n",
            "MaritalStatus                         0.012798       -0.059986   \n",
            "MonthlyIncome                         0.050112        0.000995   \n",
            "NumCompaniesWorked                   -0.032235       -0.118421   \n",
            "PercentSalaryHike                    -0.037392       -0.029707   \n",
            "StandardHours                              NaN             NaN   \n",
            "StockOptionLevel                     -0.069902        0.007886   \n",
            "TotalWorkingYears                    -0.039394        0.628133   \n",
            "TrainingTimesLastYear                 1.000000       -0.007894   \n",
            "YearsAtCompany                       -0.007894        1.000000   \n",
            "YearsSinceLastPromotion               0.016121        0.618409   \n",
            "YearsWithCurrManager                 -0.013270        0.769212   \n",
            "\n",
            "                         YearsSinceLastPromotion  YearsWithCurrManager  \n",
            "Age                                     0.216513              0.202089  \n",
            "Attrition                              -0.033019             -0.156199  \n",
            "DistanceFromHome                        0.002290              0.021584  \n",
            "Education                               0.022490              0.005358  \n",
            "Gender                                 -0.021812              0.004438  \n",
            "JobLevel                               -0.060811             -0.055251  \n",
            "MaritalStatus                          -0.030915             -0.038570  \n",
            "MonthlyIncome                           0.065219              0.024304  \n",
            "NumCompaniesWorked                     -0.036814             -0.110319  \n",
            "PercentSalaryHike                      -0.029542             -0.040864  \n",
            "StandardHours                                NaN                   NaN  \n",
            "StockOptionLevel                        0.019063              0.017757  \n",
            "TotalWorkingYears                       0.404858              0.459188  \n",
            "TrainingTimesLastYear                   0.016121             -0.013270  \n",
            "YearsAtCompany                          0.618409              0.769212  \n",
            "YearsSinceLastPromotion                 1.000000              0.510224  \n",
            "YearsWithCurrManager                    0.510224              1.000000  \n"
          ]
        }
      ],
      "source": [
        "print(Correlation_matrix)"
      ]
    },
    {
      "cell_type": "code",
      "execution_count": null,
      "id": "a0d59f41",
      "metadata": {
        "id": "a0d59f41"
      },
      "outputs": [],
      "source": [
        "# u can also use logistic regression\n",
        "#use as a single predictor\n",
        "#classification \n",
        "Y = dataset3.Attrition#(binary_categorical)\n"
      ]
    },
    {
      "cell_type": "code",
      "execution_count": null,
      "id": "e9325513",
      "metadata": {
        "id": "e9325513"
      },
      "outputs": [],
      "source": [
        "X = dataset3.MonthlyIncome#(categorical and contionuous)"
      ]
    },
    {
      "cell_type": "code",
      "execution_count": null,
      "id": "e005b622",
      "metadata": {
        "id": "e005b622"
      },
      "outputs": [],
      "source": [
        "import statsmodels.api as sm"
      ]
    },
    {
      "cell_type": "code",
      "execution_count": null,
      "id": "a4d0dfb7",
      "metadata": {
        "id": "a4d0dfb7"
      },
      "outputs": [],
      "source": [
        "X1 = sm.add_constant(X)"
      ]
    },
    {
      "cell_type": "code",
      "execution_count": null,
      "id": "10478641",
      "metadata": {
        "id": "10478641"
      },
      "outputs": [],
      "source": [
        "single = sm.Logit(Y,X1)"
      ]
    },
    {
      "cell_type": "code",
      "execution_count": null,
      "id": "1446764f",
      "metadata": {
        "id": "1446764f",
        "outputId": "b77c2650-6f50-4c33-c2c7-80f42b8f5731"
      },
      "outputs": [
        {
          "name": "stdout",
          "output_type": "stream",
          "text": [
            "Optimization terminated successfully.\n",
            "         Current function value: 0.441195\n",
            "         Iterations 6\n"
          ]
        }
      ],
      "source": [
        "result = single.fit()"
      ]
    },
    {
      "cell_type": "code",
      "execution_count": null,
      "id": "bf5bd8d5",
      "metadata": {
        "id": "bf5bd8d5",
        "outputId": "dbad56a2-0d24-41ae-ca51-676f31fb9900"
      },
      "outputs": [
        {
          "data": {
            "text/html": [
              "<table class=\"simpletable\">\n",
              "<caption>Logit Regression Results</caption>\n",
              "<tr>\n",
              "  <th>Dep. Variable:</th>       <td>Attrition</td>    <th>  No. Observations:  </th>  <td>  1470</td> \n",
              "</tr>\n",
              "<tr>\n",
              "  <th>Model:</th>                 <td>Logit</td>      <th>  Df Residuals:      </th>  <td>  1468</td> \n",
              "</tr>\n",
              "<tr>\n",
              "  <th>Method:</th>                 <td>MLE</td>       <th>  Df Model:          </th>  <td>     1</td> \n",
              "</tr>\n",
              "<tr>\n",
              "  <th>Date:</th>            <td>Thu, 23 Mar 2023</td> <th>  Pseudo R-squ.:     </th> <td>0.001131</td>\n",
              "</tr>\n",
              "<tr>\n",
              "  <th>Time:</th>                <td>16:40:45</td>     <th>  Log-Likelihood:    </th> <td> -648.56</td>\n",
              "</tr>\n",
              "<tr>\n",
              "  <th>converged:</th>             <td>True</td>       <th>  LL-Null:           </th> <td> -649.29</td>\n",
              "</tr>\n",
              "<tr>\n",
              "  <th>Covariance Type:</th>     <td>nonrobust</td>    <th>  LLR p-value:       </th>  <td>0.2255</td> \n",
              "</tr>\n",
              "</table>\n",
              "<table class=\"simpletable\">\n",
              "<tr>\n",
              "        <td></td>           <th>coef</th>     <th>std err</th>      <th>z</th>      <th>P>|z|</th>  <th>[0.025</th>    <th>0.975]</th>  \n",
              "</tr>\n",
              "<tr>\n",
              "  <th>const</th>         <td>   -1.5295</td> <td>    0.121</td> <td>  -12.639</td> <td> 0.000</td> <td>   -1.767</td> <td>   -1.292</td>\n",
              "</tr>\n",
              "<tr>\n",
              "  <th>MonthlyIncome</th> <td> -1.88e-06</td> <td> 1.57e-06</td> <td>   -1.194</td> <td> 0.233</td> <td>-4.97e-06</td> <td> 1.21e-06</td>\n",
              "</tr>\n",
              "</table>"
            ],
            "text/plain": [
              "<class 'statsmodels.iolib.summary.Summary'>\n",
              "\"\"\"\n",
              "                           Logit Regression Results                           \n",
              "==============================================================================\n",
              "Dep. Variable:              Attrition   No. Observations:                 1470\n",
              "Model:                          Logit   Df Residuals:                     1468\n",
              "Method:                           MLE   Df Model:                            1\n",
              "Date:                Thu, 23 Mar 2023   Pseudo R-squ.:                0.001131\n",
              "Time:                        16:40:45   Log-Likelihood:                -648.56\n",
              "converged:                       True   LL-Null:                       -649.29\n",
              "Covariance Type:            nonrobust   LLR p-value:                    0.2255\n",
              "=================================================================================\n",
              "                    coef    std err          z      P>|z|      [0.025      0.975]\n",
              "---------------------------------------------------------------------------------\n",
              "const            -1.5295      0.121    -12.639      0.000      -1.767      -1.292\n",
              "MonthlyIncome  -1.88e-06   1.57e-06     -1.194      0.233   -4.97e-06    1.21e-06\n",
              "=================================================================================\n",
              "\"\"\""
            ]
          },
          "execution_count": 714,
          "metadata": {},
          "output_type": "execute_result"
        }
      ],
      "source": [
        "result.summary()  #monthly income dont have any significance impact z=-1,194"
      ]
    },
    {
      "cell_type": "code",
      "execution_count": null,
      "id": "6984f65f",
      "metadata": {
        "id": "6984f65f"
      },
      "outputs": [],
      "source": [
        "#can do multivariate also\n",
        "#multiple_logistic_Regression\n",
        "Y = dataset3[\"Attrition\"]"
      ]
    },
    {
      "cell_type": "code",
      "execution_count": null,
      "id": "935d6585",
      "metadata": {
        "id": "935d6585"
      },
      "outputs": [],
      "source": [
        "X= dataset3[['DistanceFromHome', 'MonthlyIncome', 'TotalWorkingYears', 'YearsAtCompany', 'YearsWithCurrManager']]"
      ]
    },
    {
      "cell_type": "code",
      "execution_count": null,
      "id": "55f4f2b5",
      "metadata": {
        "id": "55f4f2b5"
      },
      "outputs": [],
      "source": [
        "X1 = sm.add_constant(X)"
      ]
    },
    {
      "cell_type": "code",
      "execution_count": null,
      "id": "5d34798c",
      "metadata": {
        "id": "5d34798c"
      },
      "outputs": [],
      "source": [
        "Multiple = sm.Logit(Y,X1)"
      ]
    },
    {
      "cell_type": "code",
      "execution_count": null,
      "id": "16576036",
      "metadata": {
        "id": "16576036",
        "outputId": "87da03cf-3157-4bfa-e427-67e05440a3f7"
      },
      "outputs": [
        {
          "name": "stdout",
          "output_type": "stream",
          "text": [
            "Optimization terminated successfully.\n",
            "         Current function value: 0.419585\n",
            "         Iterations 6\n"
          ]
        }
      ],
      "source": [
        "result = Multiple.fit()"
      ]
    },
    {
      "cell_type": "code",
      "execution_count": null,
      "id": "dcbabb2f",
      "metadata": {
        "id": "dcbabb2f",
        "outputId": "7232b626-d8cc-4323-9af8-103fa321e724"
      },
      "outputs": [
        {
          "data": {
            "text/html": [
              "<table class=\"simpletable\">\n",
              "<caption>Logit Regression Results</caption>\n",
              "<tr>\n",
              "  <th>Dep. Variable:</th>       <td>Attrition</td>    <th>  No. Observations:  </th>  <td>  1470</td>  \n",
              "</tr>\n",
              "<tr>\n",
              "  <th>Model:</th>                 <td>Logit</td>      <th>  Df Residuals:      </th>  <td>  1464</td>  \n",
              "</tr>\n",
              "<tr>\n",
              "  <th>Method:</th>                 <td>MLE</td>       <th>  Df Model:          </th>  <td>     5</td>  \n",
              "</tr>\n",
              "<tr>\n",
              "  <th>Date:</th>            <td>Thu, 23 Mar 2023</td> <th>  Pseudo R-squ.:     </th>  <td>0.05006</td> \n",
              "</tr>\n",
              "<tr>\n",
              "  <th>Time:</th>                <td>16:40:45</td>     <th>  Log-Likelihood:    </th> <td> -616.79</td> \n",
              "</tr>\n",
              "<tr>\n",
              "  <th>converged:</th>             <td>True</td>       <th>  LL-Null:           </th> <td> -649.29</td> \n",
              "</tr>\n",
              "<tr>\n",
              "  <th>Covariance Type:</th>     <td>nonrobust</td>    <th>  LLR p-value:       </th> <td>1.119e-12</td>\n",
              "</tr>\n",
              "</table>\n",
              "<table class=\"simpletable\">\n",
              "<tr>\n",
              "            <td></td>              <th>coef</th>     <th>std err</th>      <th>z</th>      <th>P>|z|</th>  <th>[0.025</th>    <th>0.975]</th>  \n",
              "</tr>\n",
              "<tr>\n",
              "  <th>const</th>                <td>   -0.6310</td> <td>    0.183</td> <td>   -3.455</td> <td> 0.001</td> <td>   -0.989</td> <td>   -0.273</td>\n",
              "</tr>\n",
              "<tr>\n",
              "  <th>DistanceFromHome</th>     <td>   -0.0020</td> <td>    0.009</td> <td>   -0.226</td> <td> 0.821</td> <td>   -0.020</td> <td>    0.016</td>\n",
              "</tr>\n",
              "<tr>\n",
              "  <th>MonthlyIncome</th>        <td>-2.035e-06</td> <td> 1.61e-06</td> <td>   -1.266</td> <td> 0.205</td> <td>-5.18e-06</td> <td> 1.11e-06</td>\n",
              "</tr>\n",
              "<tr>\n",
              "  <th>TotalWorkingYears</th>    <td>   -0.0644</td> <td>    0.015</td> <td>   -4.302</td> <td> 0.000</td> <td>   -0.094</td> <td>   -0.035</td>\n",
              "</tr>\n",
              "<tr>\n",
              "  <th>YearsAtCompany</th>       <td>    0.0314</td> <td>    0.026</td> <td>    1.198</td> <td> 0.231</td> <td>   -0.020</td> <td>    0.083</td>\n",
              "</tr>\n",
              "<tr>\n",
              "  <th>YearsWithCurrManager</th> <td>   -0.1197</td> <td>    0.037</td> <td>   -3.230</td> <td> 0.001</td> <td>   -0.192</td> <td>   -0.047</td>\n",
              "</tr>\n",
              "</table>"
            ],
            "text/plain": [
              "<class 'statsmodels.iolib.summary.Summary'>\n",
              "\"\"\"\n",
              "                           Logit Regression Results                           \n",
              "==============================================================================\n",
              "Dep. Variable:              Attrition   No. Observations:                 1470\n",
              "Model:                          Logit   Df Residuals:                     1464\n",
              "Method:                           MLE   Df Model:                            5\n",
              "Date:                Thu, 23 Mar 2023   Pseudo R-squ.:                 0.05006\n",
              "Time:                        16:40:45   Log-Likelihood:                -616.79\n",
              "converged:                       True   LL-Null:                       -649.29\n",
              "Covariance Type:            nonrobust   LLR p-value:                 1.119e-12\n",
              "========================================================================================\n",
              "                           coef    std err          z      P>|z|      [0.025      0.975]\n",
              "----------------------------------------------------------------------------------------\n",
              "const                   -0.6310      0.183     -3.455      0.001      -0.989      -0.273\n",
              "DistanceFromHome        -0.0020      0.009     -0.226      0.821      -0.020       0.016\n",
              "MonthlyIncome        -2.035e-06   1.61e-06     -1.266      0.205   -5.18e-06    1.11e-06\n",
              "TotalWorkingYears       -0.0644      0.015     -4.302      0.000      -0.094      -0.035\n",
              "YearsAtCompany           0.0314      0.026      1.198      0.231      -0.020       0.083\n",
              "YearsWithCurrManager    -0.1197      0.037     -3.230      0.001      -0.192      -0.047\n",
              "========================================================================================\n",
              "\"\"\""
            ]
          },
          "execution_count": 720,
          "metadata": {},
          "output_type": "execute_result"
        }
      ],
      "source": [
        "result.summary()"
      ]
    },
    {
      "cell_type": "code",
      "execution_count": null,
      "id": "71027dc9",
      "metadata": {
        "id": "71027dc9"
      },
      "outputs": [],
      "source": [
        "#TotalWorkingYear and YearWithCurrManager are only 2 significant variable having som eimpact based on attrition "
      ]
    },
    {
      "cell_type": "code",
      "execution_count": null,
      "id": "80ca45ee",
      "metadata": {
        "id": "80ca45ee",
        "outputId": "19aed764-0dd5-4992-826d-f2e0b0439e34"
      },
      "outputs": [
        {
          "data": {
            "text/html": [
              "<div>\n",
              "<style scoped>\n",
              "    .dataframe tbody tr th:only-of-type {\n",
              "        vertical-align: middle;\n",
              "    }\n",
              "\n",
              "    .dataframe tbody tr th {\n",
              "        vertical-align: top;\n",
              "    }\n",
              "\n",
              "    .dataframe thead th {\n",
              "        text-align: right;\n",
              "    }\n",
              "</style>\n",
              "<table border=\"1\" class=\"dataframe\">\n",
              "  <thead>\n",
              "    <tr style=\"text-align: right;\">\n",
              "      <th></th>\n",
              "      <th>Age</th>\n",
              "      <th>Attrition</th>\n",
              "      <th>BusinessTravel</th>\n",
              "      <th>Department</th>\n",
              "      <th>DistanceFromHome</th>\n",
              "      <th>Education</th>\n",
              "      <th>EducationField</th>\n",
              "      <th>Gender</th>\n",
              "      <th>JobLevel</th>\n",
              "      <th>JobRole</th>\n",
              "      <th>...</th>\n",
              "      <th>MonthlyIncome</th>\n",
              "      <th>NumCompaniesWorked</th>\n",
              "      <th>PercentSalaryHike</th>\n",
              "      <th>StandardHours</th>\n",
              "      <th>StockOptionLevel</th>\n",
              "      <th>TotalWorkingYears</th>\n",
              "      <th>TrainingTimesLastYear</th>\n",
              "      <th>YearsAtCompany</th>\n",
              "      <th>YearsSinceLastPromotion</th>\n",
              "      <th>YearsWithCurrManager</th>\n",
              "    </tr>\n",
              "  </thead>\n",
              "  <tbody>\n",
              "    <tr>\n",
              "      <th>0</th>\n",
              "      <td>51</td>\n",
              "      <td>0</td>\n",
              "      <td>Travel_Rarely</td>\n",
              "      <td>Sales</td>\n",
              "      <td>6</td>\n",
              "      <td>2</td>\n",
              "      <td>Life Sciences</td>\n",
              "      <td>0</td>\n",
              "      <td>1</td>\n",
              "      <td>Healthcare Representative</td>\n",
              "      <td>...</td>\n",
              "      <td>131160</td>\n",
              "      <td>1.0</td>\n",
              "      <td>11</td>\n",
              "      <td>8</td>\n",
              "      <td>0</td>\n",
              "      <td>1.0</td>\n",
              "      <td>6</td>\n",
              "      <td>1</td>\n",
              "      <td>0</td>\n",
              "      <td>0</td>\n",
              "    </tr>\n",
              "    <tr>\n",
              "      <th>1</th>\n",
              "      <td>31</td>\n",
              "      <td>1</td>\n",
              "      <td>Travel_Frequently</td>\n",
              "      <td>Research &amp; Development</td>\n",
              "      <td>10</td>\n",
              "      <td>1</td>\n",
              "      <td>Life Sciences</td>\n",
              "      <td>0</td>\n",
              "      <td>1</td>\n",
              "      <td>Research Scientist</td>\n",
              "      <td>...</td>\n",
              "      <td>41890</td>\n",
              "      <td>0.0</td>\n",
              "      <td>23</td>\n",
              "      <td>8</td>\n",
              "      <td>1</td>\n",
              "      <td>6.0</td>\n",
              "      <td>3</td>\n",
              "      <td>5</td>\n",
              "      <td>1</td>\n",
              "      <td>4</td>\n",
              "    </tr>\n",
              "    <tr>\n",
              "      <th>2</th>\n",
              "      <td>32</td>\n",
              "      <td>0</td>\n",
              "      <td>Travel_Frequently</td>\n",
              "      <td>Research &amp; Development</td>\n",
              "      <td>17</td>\n",
              "      <td>4</td>\n",
              "      <td>Other</td>\n",
              "      <td>1</td>\n",
              "      <td>4</td>\n",
              "      <td>Sales Executive</td>\n",
              "      <td>...</td>\n",
              "      <td>193280</td>\n",
              "      <td>1.0</td>\n",
              "      <td>15</td>\n",
              "      <td>8</td>\n",
              "      <td>3</td>\n",
              "      <td>5.0</td>\n",
              "      <td>2</td>\n",
              "      <td>5</td>\n",
              "      <td>0</td>\n",
              "      <td>3</td>\n",
              "    </tr>\n",
              "    <tr>\n",
              "      <th>3</th>\n",
              "      <td>38</td>\n",
              "      <td>0</td>\n",
              "      <td>Non-Travel</td>\n",
              "      <td>Research &amp; Development</td>\n",
              "      <td>2</td>\n",
              "      <td>5</td>\n",
              "      <td>Life Sciences</td>\n",
              "      <td>1</td>\n",
              "      <td>3</td>\n",
              "      <td>Human Resources</td>\n",
              "      <td>...</td>\n",
              "      <td>83210</td>\n",
              "      <td>3.0</td>\n",
              "      <td>11</td>\n",
              "      <td>8</td>\n",
              "      <td>3</td>\n",
              "      <td>13.0</td>\n",
              "      <td>5</td>\n",
              "      <td>8</td>\n",
              "      <td>7</td>\n",
              "      <td>5</td>\n",
              "    </tr>\n",
              "    <tr>\n",
              "      <th>4</th>\n",
              "      <td>32</td>\n",
              "      <td>0</td>\n",
              "      <td>Travel_Rarely</td>\n",
              "      <td>Research &amp; Development</td>\n",
              "      <td>10</td>\n",
              "      <td>1</td>\n",
              "      <td>Medical</td>\n",
              "      <td>1</td>\n",
              "      <td>1</td>\n",
              "      <td>Sales Executive</td>\n",
              "      <td>...</td>\n",
              "      <td>23420</td>\n",
              "      <td>4.0</td>\n",
              "      <td>12</td>\n",
              "      <td>8</td>\n",
              "      <td>2</td>\n",
              "      <td>9.0</td>\n",
              "      <td>2</td>\n",
              "      <td>6</td>\n",
              "      <td>0</td>\n",
              "      <td>4</td>\n",
              "    </tr>\n",
              "    <tr>\n",
              "      <th>...</th>\n",
              "      <td>...</td>\n",
              "      <td>...</td>\n",
              "      <td>...</td>\n",
              "      <td>...</td>\n",
              "      <td>...</td>\n",
              "      <td>...</td>\n",
              "      <td>...</td>\n",
              "      <td>...</td>\n",
              "      <td>...</td>\n",
              "      <td>...</td>\n",
              "      <td>...</td>\n",
              "      <td>...</td>\n",
              "      <td>...</td>\n",
              "      <td>...</td>\n",
              "      <td>...</td>\n",
              "      <td>...</td>\n",
              "      <td>...</td>\n",
              "      <td>...</td>\n",
              "      <td>...</td>\n",
              "      <td>...</td>\n",
              "      <td>...</td>\n",
              "    </tr>\n",
              "    <tr>\n",
              "      <th>2117</th>\n",
              "      <td>29</td>\n",
              "      <td>0</td>\n",
              "      <td>Travel_Rarely</td>\n",
              "      <td>Research &amp; Development</td>\n",
              "      <td>3</td>\n",
              "      <td>3</td>\n",
              "      <td>Technical Degree</td>\n",
              "      <td>0</td>\n",
              "      <td>2</td>\n",
              "      <td>Healthcare Representative</td>\n",
              "      <td>...</td>\n",
              "      <td>48050</td>\n",
              "      <td>3.0</td>\n",
              "      <td>16</td>\n",
              "      <td>8</td>\n",
              "      <td>1</td>\n",
              "      <td>9.0</td>\n",
              "      <td>2</td>\n",
              "      <td>7</td>\n",
              "      <td>1</td>\n",
              "      <td>7</td>\n",
              "    </tr>\n",
              "    <tr>\n",
              "      <th>2269</th>\n",
              "      <td>29</td>\n",
              "      <td>1</td>\n",
              "      <td>Travel_Frequently</td>\n",
              "      <td>Research &amp; Development</td>\n",
              "      <td>28</td>\n",
              "      <td>3</td>\n",
              "      <td>Medical</td>\n",
              "      <td>0</td>\n",
              "      <td>5</td>\n",
              "      <td>Research Scientist</td>\n",
              "      <td>...</td>\n",
              "      <td>44340</td>\n",
              "      <td>5.0</td>\n",
              "      <td>17</td>\n",
              "      <td>8</td>\n",
              "      <td>3</td>\n",
              "      <td>7.0</td>\n",
              "      <td>1</td>\n",
              "      <td>5</td>\n",
              "      <td>0</td>\n",
              "      <td>0</td>\n",
              "    </tr>\n",
              "    <tr>\n",
              "      <th>2402</th>\n",
              "      <td>32</td>\n",
              "      <td>0</td>\n",
              "      <td>Travel_Rarely</td>\n",
              "      <td>Research &amp; Development</td>\n",
              "      <td>5</td>\n",
              "      <td>4</td>\n",
              "      <td>Technical Degree</td>\n",
              "      <td>1</td>\n",
              "      <td>5</td>\n",
              "      <td>Research Scientist</td>\n",
              "      <td>...</td>\n",
              "      <td>50030</td>\n",
              "      <td>0.0</td>\n",
              "      <td>13</td>\n",
              "      <td>8</td>\n",
              "      <td>0</td>\n",
              "      <td>10.0</td>\n",
              "      <td>5</td>\n",
              "      <td>9</td>\n",
              "      <td>1</td>\n",
              "      <td>6</td>\n",
              "    </tr>\n",
              "    <tr>\n",
              "      <th>2573</th>\n",
              "      <td>26</td>\n",
              "      <td>0</td>\n",
              "      <td>Travel_Frequently</td>\n",
              "      <td>Sales</td>\n",
              "      <td>16</td>\n",
              "      <td>2</td>\n",
              "      <td>Life Sciences</td>\n",
              "      <td>1</td>\n",
              "      <td>2</td>\n",
              "      <td>Healthcare Representative</td>\n",
              "      <td>...</td>\n",
              "      <td>83800</td>\n",
              "      <td>0.0</td>\n",
              "      <td>14</td>\n",
              "      <td>8</td>\n",
              "      <td>0</td>\n",
              "      <td>8.0</td>\n",
              "      <td>3</td>\n",
              "      <td>7</td>\n",
              "      <td>7</td>\n",
              "      <td>7</td>\n",
              "    </tr>\n",
              "    <tr>\n",
              "      <th>2782</th>\n",
              "      <td>37</td>\n",
              "      <td>1</td>\n",
              "      <td>Travel_Rarely</td>\n",
              "      <td>Human Resources</td>\n",
              "      <td>9</td>\n",
              "      <td>3</td>\n",
              "      <td>Human Resources</td>\n",
              "      <td>1</td>\n",
              "      <td>2</td>\n",
              "      <td>Healthcare Representative</td>\n",
              "      <td>...</td>\n",
              "      <td>54840</td>\n",
              "      <td>4.0</td>\n",
              "      <td>17</td>\n",
              "      <td>8</td>\n",
              "      <td>0</td>\n",
              "      <td>7.0</td>\n",
              "      <td>4</td>\n",
              "      <td>3</td>\n",
              "      <td>0</td>\n",
              "      <td>2</td>\n",
              "    </tr>\n",
              "  </tbody>\n",
              "</table>\n",
              "<p>1470 rows × 21 columns</p>\n",
              "</div>"
            ],
            "text/plain": [
              "      Age  Attrition     BusinessTravel              Department  \\\n",
              "0      51          0      Travel_Rarely                   Sales   \n",
              "1      31          1  Travel_Frequently  Research & Development   \n",
              "2      32          0  Travel_Frequently  Research & Development   \n",
              "3      38          0         Non-Travel  Research & Development   \n",
              "4      32          0      Travel_Rarely  Research & Development   \n",
              "...   ...        ...                ...                     ...   \n",
              "2117   29          0      Travel_Rarely  Research & Development   \n",
              "2269   29          1  Travel_Frequently  Research & Development   \n",
              "2402   32          0      Travel_Rarely  Research & Development   \n",
              "2573   26          0  Travel_Frequently                   Sales   \n",
              "2782   37          1      Travel_Rarely         Human Resources   \n",
              "\n",
              "      DistanceFromHome  Education    EducationField  Gender  JobLevel  \\\n",
              "0                    6          2     Life Sciences       0         1   \n",
              "1                   10          1     Life Sciences       0         1   \n",
              "2                   17          4             Other       1         4   \n",
              "3                    2          5     Life Sciences       1         3   \n",
              "4                   10          1           Medical       1         1   \n",
              "...                ...        ...               ...     ...       ...   \n",
              "2117                 3          3  Technical Degree       0         2   \n",
              "2269                28          3           Medical       0         5   \n",
              "2402                 5          4  Technical Degree       1         5   \n",
              "2573                16          2     Life Sciences       1         2   \n",
              "2782                 9          3   Human Resources       1         2   \n",
              "\n",
              "                        JobRole  ...  MonthlyIncome  NumCompaniesWorked  \\\n",
              "0     Healthcare Representative  ...         131160                 1.0   \n",
              "1            Research Scientist  ...          41890                 0.0   \n",
              "2               Sales Executive  ...         193280                 1.0   \n",
              "3               Human Resources  ...          83210                 3.0   \n",
              "4               Sales Executive  ...          23420                 4.0   \n",
              "...                         ...  ...            ...                 ...   \n",
              "2117  Healthcare Representative  ...          48050                 3.0   \n",
              "2269         Research Scientist  ...          44340                 5.0   \n",
              "2402         Research Scientist  ...          50030                 0.0   \n",
              "2573  Healthcare Representative  ...          83800                 0.0   \n",
              "2782  Healthcare Representative  ...          54840                 4.0   \n",
              "\n",
              "      PercentSalaryHike  StandardHours  StockOptionLevel  TotalWorkingYears  \\\n",
              "0                    11              8                 0                1.0   \n",
              "1                    23              8                 1                6.0   \n",
              "2                    15              8                 3                5.0   \n",
              "3                    11              8                 3               13.0   \n",
              "4                    12              8                 2                9.0   \n",
              "...                 ...            ...               ...                ...   \n",
              "2117                 16              8                 1                9.0   \n",
              "2269                 17              8                 3                7.0   \n",
              "2402                 13              8                 0               10.0   \n",
              "2573                 14              8                 0                8.0   \n",
              "2782                 17              8                 0                7.0   \n",
              "\n",
              "      TrainingTimesLastYear  YearsAtCompany  YearsSinceLastPromotion  \\\n",
              "0                         6               1                        0   \n",
              "1                         3               5                        1   \n",
              "2                         2               5                        0   \n",
              "3                         5               8                        7   \n",
              "4                         2               6                        0   \n",
              "...                     ...             ...                      ...   \n",
              "2117                      2               7                        1   \n",
              "2269                      1               5                        0   \n",
              "2402                      5               9                        1   \n",
              "2573                      3               7                        7   \n",
              "2782                      4               3                        0   \n",
              "\n",
              "      YearsWithCurrManager  \n",
              "0                        0  \n",
              "1                        4  \n",
              "2                        3  \n",
              "3                        5  \n",
              "4                        4  \n",
              "...                    ...  \n",
              "2117                     7  \n",
              "2269                     0  \n",
              "2402                     6  \n",
              "2573                     7  \n",
              "2782                     2  \n",
              "\n",
              "[1470 rows x 21 columns]"
            ]
          },
          "execution_count": 722,
          "metadata": {},
          "output_type": "execute_result"
        }
      ],
      "source": [
        "#decision_Tree_Analysis\n",
        "dataset3"
      ]
    },
    {
      "cell_type": "code",
      "execution_count": null,
      "id": "4570f9bd",
      "metadata": {
        "id": "4570f9bd"
      },
      "outputs": [],
      "source": [
        "# Terminology\n",
        "# 1-preprocesss the data\n",
        "# 2-identify the impoertant varuiables\n",
        "# 3-drw the decision tree\n",
        "# 4- draw the random forest\n",
        "\n",
        "\n",
        "#output of random forest we give in desicion tree"
      ]
    },
    {
      "cell_type": "code",
      "execution_count": null,
      "id": "e3b4619d",
      "metadata": {
        "id": "e3b4619d"
      },
      "outputs": [],
      "source": []
    },
    {
      "cell_type": "code",
      "execution_count": null,
      "id": "10a612d3",
      "metadata": {
        "id": "10a612d3"
      },
      "outputs": [],
      "source": []
    },
    {
      "cell_type": "code",
      "execution_count": null,
      "id": "f2320535",
      "metadata": {
        "id": "f2320535"
      },
      "outputs": [],
      "source": []
    },
    {
      "cell_type": "code",
      "execution_count": null,
      "id": "4595f822",
      "metadata": {
        "id": "4595f822"
      },
      "outputs": [],
      "source": []
    },
    {
      "cell_type": "code",
      "execution_count": null,
      "id": "a17a0bc8",
      "metadata": {
        "id": "a17a0bc8"
      },
      "outputs": [],
      "source": []
    },
    {
      "cell_type": "code",
      "execution_count": null,
      "id": "e1894e06",
      "metadata": {
        "id": "e1894e06"
      },
      "outputs": [],
      "source": []
    },
    {
      "cell_type": "code",
      "execution_count": null,
      "id": "6f1847fd",
      "metadata": {
        "id": "6f1847fd"
      },
      "outputs": [],
      "source": []
    },
    {
      "cell_type": "code",
      "execution_count": null,
      "id": "02da5670",
      "metadata": {
        "id": "02da5670"
      },
      "outputs": [],
      "source": []
    },
    {
      "cell_type": "code",
      "execution_count": null,
      "id": "e88f0965",
      "metadata": {
        "id": "e88f0965"
      },
      "outputs": [],
      "source": []
    },
    {
      "cell_type": "code",
      "execution_count": null,
      "id": "cb7b3af5",
      "metadata": {
        "id": "cb7b3af5"
      },
      "outputs": [],
      "source": []
    },
    {
      "cell_type": "code",
      "execution_count": null,
      "id": "baed5b7a",
      "metadata": {
        "id": "baed5b7a"
      },
      "outputs": [],
      "source": []
    },
    {
      "cell_type": "code",
      "execution_count": null,
      "id": "4da420b6",
      "metadata": {
        "id": "4da420b6"
      },
      "outputs": [],
      "source": []
    },
    {
      "cell_type": "code",
      "execution_count": null,
      "id": "ce0305ef",
      "metadata": {
        "id": "ce0305ef"
      },
      "outputs": [],
      "source": []
    },
    {
      "cell_type": "code",
      "execution_count": null,
      "id": "3ea18b5f",
      "metadata": {
        "id": "3ea18b5f"
      },
      "outputs": [],
      "source": []
    },
    {
      "cell_type": "code",
      "execution_count": null,
      "id": "cbc07d33",
      "metadata": {
        "id": "cbc07d33"
      },
      "outputs": [],
      "source": [
        "#  dataset1= pd.get_dummies(dataset1, columns=['Age'], drop_first=True)"
      ]
    },
    {
      "cell_type": "code",
      "execution_count": null,
      "id": "1eaa6895",
      "metadata": {
        "id": "1eaa6895"
      },
      "outputs": [],
      "source": []
    },
    {
      "cell_type": "code",
      "execution_count": null,
      "id": "9dc97ed9",
      "metadata": {
        "id": "9dc97ed9"
      },
      "outputs": [],
      "source": [
        "# apply logistic again\n"
      ]
    },
    {
      "cell_type": "code",
      "execution_count": null,
      "id": "49116214",
      "metadata": {
        "id": "49116214"
      },
      "outputs": [],
      "source": []
    },
    {
      "cell_type": "code",
      "execution_count": null,
      "id": "cfe18bf5",
      "metadata": {
        "scrolled": false,
        "id": "cfe18bf5"
      },
      "outputs": [],
      "source": []
    },
    {
      "cell_type": "code",
      "execution_count": null,
      "id": "b2f73f10",
      "metadata": {
        "id": "b2f73f10"
      },
      "outputs": [],
      "source": []
    },
    {
      "cell_type": "code",
      "execution_count": null,
      "id": "195cedec",
      "metadata": {
        "id": "195cedec"
      },
      "outputs": [],
      "source": []
    },
    {
      "cell_type": "code",
      "execution_count": null,
      "id": "b832cbac",
      "metadata": {
        "id": "b832cbac"
      },
      "outputs": [],
      "source": []
    }
  ],
  "metadata": {
    "kernelspec": {
      "display_name": "Python 3 (ipykernel)",
      "language": "python",
      "name": "python3"
    },
    "language_info": {
      "codemirror_mode": {
        "name": "ipython",
        "version": 3
      },
      "file_extension": ".py",
      "mimetype": "text/x-python",
      "name": "python",
      "nbconvert_exporter": "python",
      "pygments_lexer": "ipython3",
      "version": "3.10.9"
    },
    "colab": {
      "provenance": [],
      "include_colab_link": true
    }
  },
  "nbformat": 4,
  "nbformat_minor": 5
}