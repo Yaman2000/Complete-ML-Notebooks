{
 "cells": [
  {
   "cell_type": "code",
   "execution_count": 1,
   "id": "e85f08ba",
   "metadata": {},
   "outputs": [
    {
     "data": {
      "text/plain": [
       "array([ 2,  3,  4,  5,  6,  7,  8,  9, 10, 11, 12, 13, 14, 15, 16, 17, 18,\n",
       "       19])"
      ]
     },
     "execution_count": 1,
     "metadata": {},
     "output_type": "execute_result"
    }
   ],
   "source": [
    "import numpy as np\n",
    "np.arange(2,20)"
   ]
  },
  {
   "cell_type": "code",
   "execution_count": 2,
   "id": "7705426e",
   "metadata": {},
   "outputs": [
    {
     "data": {
      "text/plain": [
       "array([[0.17905895, 0.22011941],\n",
       "       [0.44658735, 0.93722288],\n",
       "       [0.43327035, 0.80115933]])"
      ]
     },
     "execution_count": 2,
     "metadata": {},
     "output_type": "execute_result"
    }
   ],
   "source": [
    "np.random.rand(3,2)"
   ]
  },
  {
   "cell_type": "code",
   "execution_count": 6,
   "id": "7c50b677",
   "metadata": {},
   "outputs": [
    {
     "data": {
      "text/plain": [
       "array([ 0,  1,  2,  3,  4,  5,  6,  7,  8,  9, 10, 11, 12, 13, 14, 15, 16,\n",
       "       17, 18, 19])"
      ]
     },
     "execution_count": 6,
     "metadata": {},
     "output_type": "execute_result"
    }
   ],
   "source": [
    "s1 = np.arange(20)\n",
    "s1"
   ]
  },
  {
   "cell_type": "code",
   "execution_count": 8,
   "id": "e82b7221",
   "metadata": {},
   "outputs": [
    {
     "data": {
      "text/plain": [
       "array([[ 0,  1,  2,  3,  4],\n",
       "       [ 5,  6,  7,  8,  9],\n",
       "       [10, 11, 12, 13, 14],\n",
       "       [15, 16, 17, 18, 19]])"
      ]
     },
     "execution_count": 8,
     "metadata": {},
     "output_type": "execute_result"
    }
   ],
   "source": [
    "s1.reshape(4,5)"
   ]
  },
  {
   "cell_type": "code",
   "execution_count": 9,
   "id": "dcc0f17c",
   "metadata": {},
   "outputs": [],
   "source": [
    "import pandas as pd\n"
   ]
  },
  {
   "cell_type": "code",
   "execution_count": 17,
   "id": "464322be",
   "metadata": {},
   "outputs": [
    {
     "name": "stdout",
     "output_type": "stream",
     "text": [
      "  Product  Sales\n",
      "0       a   1000\n",
      "1       b   2000\n",
      "2       c   3000\n",
      "3       d   8999\n"
     ]
    }
   ],
   "source": [
    "ex1 = pd.DataFrame({'Product' : ['a', 'b', 'c', 'd'] , 'Sales' : [1000,2000,3000,8999]})\n",
    "print(ex1)"
   ]
  },
  {
   "cell_type": "code",
   "execution_count": 23,
   "id": "fedb72a5",
   "metadata": {},
   "outputs": [],
   "source": [
    "import os"
   ]
  },
  {
   "cell_type": "code",
   "execution_count": 27,
   "id": "60865b0f",
   "metadata": {},
   "outputs": [
    {
     "data": {
      "text/plain": [
       "'C:\\\\Users\\\\Dell'"
      ]
     },
     "execution_count": 27,
     "metadata": {},
     "output_type": "execute_result"
    }
   ],
   "source": [
    "os.getcwd()"
   ]
  },
  {
   "cell_type": "code",
   "execution_count": 31,
   "id": "6c812284",
   "metadata": {},
   "outputs": [],
   "source": [
    "os.chdir('D:\\\\Python Programming\\\\Data')\n"
   ]
  },
  {
   "cell_type": "code",
   "execution_count": 32,
   "id": "762292be",
   "metadata": {},
   "outputs": [
    {
     "data": {
      "text/plain": [
       "'D:\\\\Python Programming\\\\Data'"
      ]
     },
     "execution_count": 32,
     "metadata": {},
     "output_type": "execute_result"
    }
   ],
   "source": [
    "os.getcwd()"
   ]
  },
  {
   "cell_type": "code",
   "execution_count": 37,
   "id": "2f59df3c",
   "metadata": {},
   "outputs": [
    {
     "data": {
      "text/html": [
       "<div>\n",
       "<style scoped>\n",
       "    .dataframe tbody tr th:only-of-type {\n",
       "        vertical-align: middle;\n",
       "    }\n",
       "\n",
       "    .dataframe tbody tr th {\n",
       "        vertical-align: top;\n",
       "    }\n",
       "\n",
       "    .dataframe thead th {\n",
       "        text-align: right;\n",
       "    }\n",
       "</style>\n",
       "<table border=\"1\" class=\"dataframe\">\n",
       "  <thead>\n",
       "    <tr style=\"text-align: right;\">\n",
       "      <th></th>\n",
       "      <th>Ac_No</th>\n",
       "      <th>Age</th>\n",
       "      <th>Years of Experience</th>\n",
       "      <th>Number of Vehicles</th>\n",
       "      <th>Gender</th>\n",
       "      <th>Married</th>\n",
       "      <th>Losses in Thousands</th>\n",
       "      <th>Acct_Open_Dt</th>\n",
       "      <th>Defaulted</th>\n",
       "    </tr>\n",
       "  </thead>\n",
       "  <tbody>\n",
       "    <tr>\n",
       "      <th>0</th>\n",
       "      <td>150024</td>\n",
       "      <td>24</td>\n",
       "      <td>5</td>\n",
       "      <td>1</td>\n",
       "      <td>M</td>\n",
       "      <td>Married</td>\n",
       "      <td>203.319595</td>\n",
       "      <td>22-07-2019</td>\n",
       "      <td>22-12-2019</td>\n",
       "    </tr>\n",
       "    <tr>\n",
       "      <th>1</th>\n",
       "      <td>144880</td>\n",
       "      <td>31</td>\n",
       "      <td>10</td>\n",
       "      <td>1</td>\n",
       "      <td>F</td>\n",
       "      <td>Single</td>\n",
       "      <td>402.197302</td>\n",
       "      <td>21-07-2019</td>\n",
       "      <td>21-12-2019</td>\n",
       "    </tr>\n",
       "    <tr>\n",
       "      <th>2</th>\n",
       "      <td>133742</td>\n",
       "      <td>56</td>\n",
       "      <td>37</td>\n",
       "      <td>1</td>\n",
       "      <td>M</td>\n",
       "      <td>Married</td>\n",
       "      <td>553.132096</td>\n",
       "      <td>20-07-2019</td>\n",
       "      <td>20-12-2019</td>\n",
       "    </tr>\n",
       "    <tr>\n",
       "      <th>3</th>\n",
       "      <td>151282</td>\n",
       "      <td>52</td>\n",
       "      <td>31</td>\n",
       "      <td>1</td>\n",
       "      <td>F</td>\n",
       "      <td>Married</td>\n",
       "      <td>292.430579</td>\n",
       "      <td>19-07-2019</td>\n",
       "      <td>19-12-2019</td>\n",
       "    </tr>\n",
       "    <tr>\n",
       "      <th>4</th>\n",
       "      <td>174407</td>\n",
       "      <td>20</td>\n",
       "      <td>3</td>\n",
       "      <td>1</td>\n",
       "      <td>M</td>\n",
       "      <td>Single</td>\n",
       "      <td>246.540576</td>\n",
       "      <td>18-07-2019</td>\n",
       "      <td>18-12-2019</td>\n",
       "    </tr>\n",
       "    <tr>\n",
       "      <th>...</th>\n",
       "      <td>...</td>\n",
       "      <td>...</td>\n",
       "      <td>...</td>\n",
       "      <td>...</td>\n",
       "      <td>...</td>\n",
       "      <td>...</td>\n",
       "      <td>...</td>\n",
       "      <td>...</td>\n",
       "      <td>...</td>\n",
       "    </tr>\n",
       "    <tr>\n",
       "      <th>15285</th>\n",
       "      <td>189499</td>\n",
       "      <td>61</td>\n",
       "      <td>43</td>\n",
       "      <td>4</td>\n",
       "      <td>F</td>\n",
       "      <td>Divorced</td>\n",
       "      <td>58.426429</td>\n",
       "      <td>16-09-1978</td>\n",
       "      <td>16-09-1980</td>\n",
       "    </tr>\n",
       "    <tr>\n",
       "      <th>15286</th>\n",
       "      <td>142111</td>\n",
       "      <td>69</td>\n",
       "      <td>48</td>\n",
       "      <td>4</td>\n",
       "      <td>F</td>\n",
       "      <td>Divorced</td>\n",
       "      <td>304.519134</td>\n",
       "      <td>15-09-1978</td>\n",
       "      <td>15-09-1980</td>\n",
       "    </tr>\n",
       "    <tr>\n",
       "      <th>15287</th>\n",
       "      <td>176444</td>\n",
       "      <td>69</td>\n",
       "      <td>51</td>\n",
       "      <td>4</td>\n",
       "      <td>F</td>\n",
       "      <td>Divorced</td>\n",
       "      <td>282.149148</td>\n",
       "      <td>14-09-1978</td>\n",
       "      <td>14-09-1980</td>\n",
       "    </tr>\n",
       "    <tr>\n",
       "      <th>15288</th>\n",
       "      <td>180420</td>\n",
       "      <td>22</td>\n",
       "      <td>4</td>\n",
       "      <td>4</td>\n",
       "      <td>M</td>\n",
       "      <td>Divorced</td>\n",
       "      <td>822.470554</td>\n",
       "      <td>13-09-1978</td>\n",
       "      <td>13-09-1980</td>\n",
       "    </tr>\n",
       "    <tr>\n",
       "      <th>15289</th>\n",
       "      <td>157201</td>\n",
       "      <td>20</td>\n",
       "      <td>2</td>\n",
       "      <td>4</td>\n",
       "      <td>F</td>\n",
       "      <td>Divorced</td>\n",
       "      <td>406.924740</td>\n",
       "      <td>12-09-1978</td>\n",
       "      <td>12-09-1980</td>\n",
       "    </tr>\n",
       "  </tbody>\n",
       "</table>\n",
       "<p>15290 rows × 9 columns</p>\n",
       "</div>"
      ],
      "text/plain": [
       "        Ac_No  Age  Years of Experience  Number of Vehicles Gender   Married  \\\n",
       "0      150024   24                    5                   1      M   Married   \n",
       "1      144880   31                   10                   1      F    Single   \n",
       "2      133742   56                   37                   1      M   Married   \n",
       "3      151282   52                   31                   1      F   Married   \n",
       "4      174407   20                    3                   1      M    Single   \n",
       "...       ...  ...                  ...                 ...    ...       ...   \n",
       "15285  189499   61                   43                   4      F  Divorced   \n",
       "15286  142111   69                   48                   4      F  Divorced   \n",
       "15287  176444   69                   51                   4      F  Divorced   \n",
       "15288  180420   22                    4                   4      M  Divorced   \n",
       "15289  157201   20                    2                   4      F  Divorced   \n",
       "\n",
       "       Losses in Thousands Acct_Open_Dt   Defaulted  \n",
       "0               203.319595   22-07-2019  22-12-2019  \n",
       "1               402.197302   21-07-2019  21-12-2019  \n",
       "2               553.132096   20-07-2019  20-12-2019  \n",
       "3               292.430579   19-07-2019  19-12-2019  \n",
       "4               246.540576   18-07-2019  18-12-2019  \n",
       "...                    ...          ...         ...  \n",
       "15285            58.426429   16-09-1978  16-09-1980  \n",
       "15286           304.519134   15-09-1978  15-09-1980  \n",
       "15287           282.149148   14-09-1978  14-09-1980  \n",
       "15288           822.470554   13-09-1978  13-09-1980  \n",
       "15289           406.924740   12-09-1978  12-09-1980  \n",
       "\n",
       "[15290 rows x 9 columns]"
      ]
     },
     "execution_count": 37,
     "metadata": {},
     "output_type": "execute_result"
    }
   ],
   "source": [
    "df = pd.read_csv('LGD.csv')\n",
    "df"
   ]
  },
  {
   "cell_type": "code",
   "execution_count": 38,
   "id": "023b4bfb",
   "metadata": {},
   "outputs": [
    {
     "data": {
      "text/plain": [
       "pandas.core.frame.DataFrame"
      ]
     },
     "execution_count": 38,
     "metadata": {},
     "output_type": "execute_result"
    }
   ],
   "source": [
    "type(df)"
   ]
  },
  {
   "cell_type": "code",
   "execution_count": 40,
   "id": "37d352bc",
   "metadata": {},
   "outputs": [
    {
     "data": {
      "text/html": [
       "<div>\n",
       "<style scoped>\n",
       "    .dataframe tbody tr th:only-of-type {\n",
       "        vertical-align: middle;\n",
       "    }\n",
       "\n",
       "    .dataframe tbody tr th {\n",
       "        vertical-align: top;\n",
       "    }\n",
       "\n",
       "    .dataframe thead th {\n",
       "        text-align: right;\n",
       "    }\n",
       "</style>\n",
       "<table border=\"1\" class=\"dataframe\">\n",
       "  <thead>\n",
       "    <tr style=\"text-align: right;\">\n",
       "      <th></th>\n",
       "      <th>Ac_No</th>\n",
       "      <th>Age</th>\n",
       "      <th>Years of Experience</th>\n",
       "      <th>Number of Vehicles</th>\n",
       "      <th>Gender</th>\n",
       "      <th>Married</th>\n",
       "      <th>Losses in Thousands</th>\n",
       "      <th>Acct_Open_Dt</th>\n",
       "      <th>Defaulted</th>\n",
       "    </tr>\n",
       "  </thead>\n",
       "  <tbody>\n",
       "    <tr>\n",
       "      <th>0</th>\n",
       "      <td>150024</td>\n",
       "      <td>24</td>\n",
       "      <td>5</td>\n",
       "      <td>1</td>\n",
       "      <td>M</td>\n",
       "      <td>Married</td>\n",
       "      <td>203.319595</td>\n",
       "      <td>22-07-2019</td>\n",
       "      <td>22-12-2019</td>\n",
       "    </tr>\n",
       "    <tr>\n",
       "      <th>1</th>\n",
       "      <td>144880</td>\n",
       "      <td>31</td>\n",
       "      <td>10</td>\n",
       "      <td>1</td>\n",
       "      <td>F</td>\n",
       "      <td>Single</td>\n",
       "      <td>402.197302</td>\n",
       "      <td>21-07-2019</td>\n",
       "      <td>21-12-2019</td>\n",
       "    </tr>\n",
       "    <tr>\n",
       "      <th>2</th>\n",
       "      <td>133742</td>\n",
       "      <td>56</td>\n",
       "      <td>37</td>\n",
       "      <td>1</td>\n",
       "      <td>M</td>\n",
       "      <td>Married</td>\n",
       "      <td>553.132096</td>\n",
       "      <td>20-07-2019</td>\n",
       "      <td>20-12-2019</td>\n",
       "    </tr>\n",
       "    <tr>\n",
       "      <th>3</th>\n",
       "      <td>151282</td>\n",
       "      <td>52</td>\n",
       "      <td>31</td>\n",
       "      <td>1</td>\n",
       "      <td>F</td>\n",
       "      <td>Married</td>\n",
       "      <td>292.430579</td>\n",
       "      <td>19-07-2019</td>\n",
       "      <td>19-12-2019</td>\n",
       "    </tr>\n",
       "    <tr>\n",
       "      <th>4</th>\n",
       "      <td>174407</td>\n",
       "      <td>20</td>\n",
       "      <td>3</td>\n",
       "      <td>1</td>\n",
       "      <td>M</td>\n",
       "      <td>Single</td>\n",
       "      <td>246.540576</td>\n",
       "      <td>18-07-2019</td>\n",
       "      <td>18-12-2019</td>\n",
       "    </tr>\n",
       "    <tr>\n",
       "      <th>5</th>\n",
       "      <td>142548</td>\n",
       "      <td>29</td>\n",
       "      <td>8</td>\n",
       "      <td>1</td>\n",
       "      <td>M</td>\n",
       "      <td>Married</td>\n",
       "      <td>384.676395</td>\n",
       "      <td>17-07-2019</td>\n",
       "      <td>17-12-2019</td>\n",
       "    </tr>\n",
       "    <tr>\n",
       "      <th>6</th>\n",
       "      <td>183396</td>\n",
       "      <td>36</td>\n",
       "      <td>19</td>\n",
       "      <td>1</td>\n",
       "      <td>F</td>\n",
       "      <td>Single</td>\n",
       "      <td>462.158856</td>\n",
       "      <td>16-07-2019</td>\n",
       "      <td>16-12-2019</td>\n",
       "    </tr>\n",
       "    <tr>\n",
       "      <th>7</th>\n",
       "      <td>106838</td>\n",
       "      <td>67</td>\n",
       "      <td>49</td>\n",
       "      <td>1</td>\n",
       "      <td>F</td>\n",
       "      <td>Married</td>\n",
       "      <td>168.934036</td>\n",
       "      <td>15-07-2019</td>\n",
       "      <td>15-12-2019</td>\n",
       "    </tr>\n",
       "    <tr>\n",
       "      <th>8</th>\n",
       "      <td>137434</td>\n",
       "      <td>69</td>\n",
       "      <td>48</td>\n",
       "      <td>1</td>\n",
       "      <td>M</td>\n",
       "      <td>Single</td>\n",
       "      <td>69.893041</td>\n",
       "      <td>14-07-2019</td>\n",
       "      <td>14-12-2019</td>\n",
       "    </tr>\n",
       "    <tr>\n",
       "      <th>9</th>\n",
       "      <td>192628</td>\n",
       "      <td>16</td>\n",
       "      <td>0</td>\n",
       "      <td>1</td>\n",
       "      <td>F</td>\n",
       "      <td>Single</td>\n",
       "      <td>242.772576</td>\n",
       "      <td>13-07-2019</td>\n",
       "      <td>13-12-2019</td>\n",
       "    </tr>\n",
       "  </tbody>\n",
       "</table>\n",
       "</div>"
      ],
      "text/plain": [
       "    Ac_No  Age  Years of Experience  Number of Vehicles Gender  Married  \\\n",
       "0  150024   24                    5                   1      M  Married   \n",
       "1  144880   31                   10                   1      F   Single   \n",
       "2  133742   56                   37                   1      M  Married   \n",
       "3  151282   52                   31                   1      F  Married   \n",
       "4  174407   20                    3                   1      M   Single   \n",
       "5  142548   29                    8                   1      M  Married   \n",
       "6  183396   36                   19                   1      F   Single   \n",
       "7  106838   67                   49                   1      F  Married   \n",
       "8  137434   69                   48                   1      M   Single   \n",
       "9  192628   16                    0                   1      F   Single   \n",
       "\n",
       "   Losses in Thousands Acct_Open_Dt   Defaulted  \n",
       "0           203.319595   22-07-2019  22-12-2019  \n",
       "1           402.197302   21-07-2019  21-12-2019  \n",
       "2           553.132096   20-07-2019  20-12-2019  \n",
       "3           292.430579   19-07-2019  19-12-2019  \n",
       "4           246.540576   18-07-2019  18-12-2019  \n",
       "5           384.676395   17-07-2019  17-12-2019  \n",
       "6           462.158856   16-07-2019  16-12-2019  \n",
       "7           168.934036   15-07-2019  15-12-2019  \n",
       "8            69.893041   14-07-2019  14-12-2019  \n",
       "9           242.772576   13-07-2019  13-12-2019  "
      ]
     },
     "execution_count": 40,
     "metadata": {},
     "output_type": "execute_result"
    }
   ],
   "source": [
    "df.head(10)"
   ]
  },
  {
   "cell_type": "code",
   "execution_count": 41,
   "id": "cd3767cf",
   "metadata": {},
   "outputs": [
    {
     "data": {
      "text/html": [
       "<div>\n",
       "<style scoped>\n",
       "    .dataframe tbody tr th:only-of-type {\n",
       "        vertical-align: middle;\n",
       "    }\n",
       "\n",
       "    .dataframe tbody tr th {\n",
       "        vertical-align: top;\n",
       "    }\n",
       "\n",
       "    .dataframe thead th {\n",
       "        text-align: right;\n",
       "    }\n",
       "</style>\n",
       "<table border=\"1\" class=\"dataframe\">\n",
       "  <thead>\n",
       "    <tr style=\"text-align: right;\">\n",
       "      <th></th>\n",
       "      <th>Ac_No</th>\n",
       "      <th>Age</th>\n",
       "      <th>Years of Experience</th>\n",
       "      <th>Number of Vehicles</th>\n",
       "      <th>Gender</th>\n",
       "      <th>Married</th>\n",
       "      <th>Losses in Thousands</th>\n",
       "      <th>Acct_Open_Dt</th>\n",
       "      <th>Defaulted</th>\n",
       "    </tr>\n",
       "  </thead>\n",
       "  <tbody>\n",
       "    <tr>\n",
       "      <th>15280</th>\n",
       "      <td>169309</td>\n",
       "      <td>47</td>\n",
       "      <td>26</td>\n",
       "      <td>4</td>\n",
       "      <td>M</td>\n",
       "      <td>Divorced</td>\n",
       "      <td>327.005494</td>\n",
       "      <td>21-09-1978</td>\n",
       "      <td>21-09-1980</td>\n",
       "    </tr>\n",
       "    <tr>\n",
       "      <th>15281</th>\n",
       "      <td>102285</td>\n",
       "      <td>17</td>\n",
       "      <td>0</td>\n",
       "      <td>4</td>\n",
       "      <td>F</td>\n",
       "      <td>Divorced</td>\n",
       "      <td>376.158182</td>\n",
       "      <td>20-09-1978</td>\n",
       "      <td>20-09-1980</td>\n",
       "    </tr>\n",
       "    <tr>\n",
       "      <th>15282</th>\n",
       "      <td>175296</td>\n",
       "      <td>30</td>\n",
       "      <td>11</td>\n",
       "      <td>4</td>\n",
       "      <td>M</td>\n",
       "      <td>Divorced</td>\n",
       "      <td>472.252075</td>\n",
       "      <td>19-09-1978</td>\n",
       "      <td>19-09-1980</td>\n",
       "    </tr>\n",
       "    <tr>\n",
       "      <th>15283</th>\n",
       "      <td>140800</td>\n",
       "      <td>52</td>\n",
       "      <td>31</td>\n",
       "      <td>4</td>\n",
       "      <td>F</td>\n",
       "      <td>Divorced</td>\n",
       "      <td>666.040877</td>\n",
       "      <td>18-09-1978</td>\n",
       "      <td>18-09-1980</td>\n",
       "    </tr>\n",
       "    <tr>\n",
       "      <th>15284</th>\n",
       "      <td>176376</td>\n",
       "      <td>36</td>\n",
       "      <td>19</td>\n",
       "      <td>4</td>\n",
       "      <td>M</td>\n",
       "      <td>Divorced</td>\n",
       "      <td>204.462118</td>\n",
       "      <td>17-09-1978</td>\n",
       "      <td>17-09-1980</td>\n",
       "    </tr>\n",
       "    <tr>\n",
       "      <th>15285</th>\n",
       "      <td>189499</td>\n",
       "      <td>61</td>\n",
       "      <td>43</td>\n",
       "      <td>4</td>\n",
       "      <td>F</td>\n",
       "      <td>Divorced</td>\n",
       "      <td>58.426429</td>\n",
       "      <td>16-09-1978</td>\n",
       "      <td>16-09-1980</td>\n",
       "    </tr>\n",
       "    <tr>\n",
       "      <th>15286</th>\n",
       "      <td>142111</td>\n",
       "      <td>69</td>\n",
       "      <td>48</td>\n",
       "      <td>4</td>\n",
       "      <td>F</td>\n",
       "      <td>Divorced</td>\n",
       "      <td>304.519134</td>\n",
       "      <td>15-09-1978</td>\n",
       "      <td>15-09-1980</td>\n",
       "    </tr>\n",
       "    <tr>\n",
       "      <th>15287</th>\n",
       "      <td>176444</td>\n",
       "      <td>69</td>\n",
       "      <td>51</td>\n",
       "      <td>4</td>\n",
       "      <td>F</td>\n",
       "      <td>Divorced</td>\n",
       "      <td>282.149148</td>\n",
       "      <td>14-09-1978</td>\n",
       "      <td>14-09-1980</td>\n",
       "    </tr>\n",
       "    <tr>\n",
       "      <th>15288</th>\n",
       "      <td>180420</td>\n",
       "      <td>22</td>\n",
       "      <td>4</td>\n",
       "      <td>4</td>\n",
       "      <td>M</td>\n",
       "      <td>Divorced</td>\n",
       "      <td>822.470554</td>\n",
       "      <td>13-09-1978</td>\n",
       "      <td>13-09-1980</td>\n",
       "    </tr>\n",
       "    <tr>\n",
       "      <th>15289</th>\n",
       "      <td>157201</td>\n",
       "      <td>20</td>\n",
       "      <td>2</td>\n",
       "      <td>4</td>\n",
       "      <td>F</td>\n",
       "      <td>Divorced</td>\n",
       "      <td>406.924740</td>\n",
       "      <td>12-09-1978</td>\n",
       "      <td>12-09-1980</td>\n",
       "    </tr>\n",
       "  </tbody>\n",
       "</table>\n",
       "</div>"
      ],
      "text/plain": [
       "        Ac_No  Age  Years of Experience  Number of Vehicles Gender   Married  \\\n",
       "15280  169309   47                   26                   4      M  Divorced   \n",
       "15281  102285   17                    0                   4      F  Divorced   \n",
       "15282  175296   30                   11                   4      M  Divorced   \n",
       "15283  140800   52                   31                   4      F  Divorced   \n",
       "15284  176376   36                   19                   4      M  Divorced   \n",
       "15285  189499   61                   43                   4      F  Divorced   \n",
       "15286  142111   69                   48                   4      F  Divorced   \n",
       "15287  176444   69                   51                   4      F  Divorced   \n",
       "15288  180420   22                    4                   4      M  Divorced   \n",
       "15289  157201   20                    2                   4      F  Divorced   \n",
       "\n",
       "       Losses in Thousands Acct_Open_Dt   Defaulted  \n",
       "15280           327.005494   21-09-1978  21-09-1980  \n",
       "15281           376.158182   20-09-1978  20-09-1980  \n",
       "15282           472.252075   19-09-1978  19-09-1980  \n",
       "15283           666.040877   18-09-1978  18-09-1980  \n",
       "15284           204.462118   17-09-1978  17-09-1980  \n",
       "15285            58.426429   16-09-1978  16-09-1980  \n",
       "15286           304.519134   15-09-1978  15-09-1980  \n",
       "15287           282.149148   14-09-1978  14-09-1980  \n",
       "15288           822.470554   13-09-1978  13-09-1980  \n",
       "15289           406.924740   12-09-1978  12-09-1980  "
      ]
     },
     "execution_count": 41,
     "metadata": {},
     "output_type": "execute_result"
    }
   ],
   "source": [
    "df.tail(10)"
   ]
  },
  {
   "cell_type": "code",
   "execution_count": 42,
   "id": "0c83923b",
   "metadata": {},
   "outputs": [
    {
     "data": {
      "text/html": [
       "<div>\n",
       "<style scoped>\n",
       "    .dataframe tbody tr th:only-of-type {\n",
       "        vertical-align: middle;\n",
       "    }\n",
       "\n",
       "    .dataframe tbody tr th {\n",
       "        vertical-align: top;\n",
       "    }\n",
       "\n",
       "    .dataframe thead th {\n",
       "        text-align: right;\n",
       "    }\n",
       "</style>\n",
       "<table border=\"1\" class=\"dataframe\">\n",
       "  <thead>\n",
       "    <tr style=\"text-align: right;\">\n",
       "      <th></th>\n",
       "      <th>Ac_No</th>\n",
       "      <th>Age</th>\n",
       "      <th>Years of Experience</th>\n",
       "      <th>Number of Vehicles</th>\n",
       "      <th>Gender</th>\n",
       "      <th>Married</th>\n",
       "      <th>Losses in Thousands</th>\n",
       "      <th>Acct_Open_Dt</th>\n",
       "      <th>Defaulted</th>\n",
       "    </tr>\n",
       "  </thead>\n",
       "  <tbody>\n",
       "    <tr>\n",
       "      <th>9</th>\n",
       "      <td>192628</td>\n",
       "      <td>16</td>\n",
       "      <td>0</td>\n",
       "      <td>1</td>\n",
       "      <td>F</td>\n",
       "      <td>Single</td>\n",
       "      <td>242.772576</td>\n",
       "      <td>13-07-2019</td>\n",
       "      <td>13-12-2019</td>\n",
       "    </tr>\n",
       "    <tr>\n",
       "      <th>10</th>\n",
       "      <td>154894</td>\n",
       "      <td>19</td>\n",
       "      <td>1</td>\n",
       "      <td>1</td>\n",
       "      <td>M</td>\n",
       "      <td>Single</td>\n",
       "      <td>763.729857</td>\n",
       "      <td>12-07-2019</td>\n",
       "      <td>12-12-2019</td>\n",
       "    </tr>\n",
       "    <tr>\n",
       "      <th>11</th>\n",
       "      <td>187293</td>\n",
       "      <td>29</td>\n",
       "      <td>8</td>\n",
       "      <td>1</td>\n",
       "      <td>F</td>\n",
       "      <td>Single</td>\n",
       "      <td>407.389374</td>\n",
       "      <td>11-07-2019</td>\n",
       "      <td>11-12-2019</td>\n",
       "    </tr>\n",
       "    <tr>\n",
       "      <th>12</th>\n",
       "      <td>173214</td>\n",
       "      <td>20</td>\n",
       "      <td>1</td>\n",
       "      <td>1</td>\n",
       "      <td>F</td>\n",
       "      <td>Married</td>\n",
       "      <td>161.579521</td>\n",
       "      <td>10-07-2019</td>\n",
       "      <td>10-12-2019</td>\n",
       "    </tr>\n",
       "    <tr>\n",
       "      <th>13</th>\n",
       "      <td>163905</td>\n",
       "      <td>67</td>\n",
       "      <td>49</td>\n",
       "      <td>1</td>\n",
       "      <td>M</td>\n",
       "      <td>Married</td>\n",
       "      <td>242.888776</td>\n",
       "      <td>09-07-2019</td>\n",
       "      <td>09-12-2019</td>\n",
       "    </tr>\n",
       "    <tr>\n",
       "      <th>14</th>\n",
       "      <td>157356</td>\n",
       "      <td>46</td>\n",
       "      <td>27</td>\n",
       "      <td>1</td>\n",
       "      <td>M</td>\n",
       "      <td>Married</td>\n",
       "      <td>358.521705</td>\n",
       "      <td>08-07-2019</td>\n",
       "      <td>08-12-2019</td>\n",
       "    </tr>\n",
       "    <tr>\n",
       "      <th>15</th>\n",
       "      <td>160387</td>\n",
       "      <td>57</td>\n",
       "      <td>40</td>\n",
       "      <td>1</td>\n",
       "      <td>M</td>\n",
       "      <td>Married</td>\n",
       "      <td>314.662097</td>\n",
       "      <td>07-07-2019</td>\n",
       "      <td>07-12-2019</td>\n",
       "    </tr>\n",
       "    <tr>\n",
       "      <th>16</th>\n",
       "      <td>127360</td>\n",
       "      <td>65</td>\n",
       "      <td>48</td>\n",
       "      <td>1</td>\n",
       "      <td>M</td>\n",
       "      <td>Single</td>\n",
       "      <td>306.739501</td>\n",
       "      <td>06-07-2019</td>\n",
       "      <td>06-12-2019</td>\n",
       "    </tr>\n",
       "    <tr>\n",
       "      <th>17</th>\n",
       "      <td>108345</td>\n",
       "      <td>20</td>\n",
       "      <td>1</td>\n",
       "      <td>1</td>\n",
       "      <td>M</td>\n",
       "      <td>Single</td>\n",
       "      <td>772.644820</td>\n",
       "      <td>05-07-2019</td>\n",
       "      <td>05-12-2019</td>\n",
       "    </tr>\n",
       "    <tr>\n",
       "      <th>18</th>\n",
       "      <td>122164</td>\n",
       "      <td>67</td>\n",
       "      <td>49</td>\n",
       "      <td>1</td>\n",
       "      <td>M</td>\n",
       "      <td>Single</td>\n",
       "      <td>593.427411</td>\n",
       "      <td>04-07-2019</td>\n",
       "      <td>04-12-2019</td>\n",
       "    </tr>\n",
       "    <tr>\n",
       "      <th>19</th>\n",
       "      <td>103555</td>\n",
       "      <td>62</td>\n",
       "      <td>45</td>\n",
       "      <td>1</td>\n",
       "      <td>M</td>\n",
       "      <td>Married</td>\n",
       "      <td>275.214409</td>\n",
       "      <td>03-07-2019</td>\n",
       "      <td>03-12-2019</td>\n",
       "    </tr>\n",
       "  </tbody>\n",
       "</table>\n",
       "</div>"
      ],
      "text/plain": [
       "     Ac_No  Age  Years of Experience  Number of Vehicles Gender  Married  \\\n",
       "9   192628   16                    0                   1      F   Single   \n",
       "10  154894   19                    1                   1      M   Single   \n",
       "11  187293   29                    8                   1      F   Single   \n",
       "12  173214   20                    1                   1      F  Married   \n",
       "13  163905   67                   49                   1      M  Married   \n",
       "14  157356   46                   27                   1      M  Married   \n",
       "15  160387   57                   40                   1      M  Married   \n",
       "16  127360   65                   48                   1      M   Single   \n",
       "17  108345   20                    1                   1      M   Single   \n",
       "18  122164   67                   49                   1      M   Single   \n",
       "19  103555   62                   45                   1      M  Married   \n",
       "\n",
       "    Losses in Thousands Acct_Open_Dt   Defaulted  \n",
       "9            242.772576   13-07-2019  13-12-2019  \n",
       "10           763.729857   12-07-2019  12-12-2019  \n",
       "11           407.389374   11-07-2019  11-12-2019  \n",
       "12           161.579521   10-07-2019  10-12-2019  \n",
       "13           242.888776   09-07-2019  09-12-2019  \n",
       "14           358.521705   08-07-2019  08-12-2019  \n",
       "15           314.662097   07-07-2019  07-12-2019  \n",
       "16           306.739501   06-07-2019  06-12-2019  \n",
       "17           772.644820   05-07-2019  05-12-2019  \n",
       "18           593.427411   04-07-2019  04-12-2019  \n",
       "19           275.214409   03-07-2019  03-12-2019  "
      ]
     },
     "execution_count": 42,
     "metadata": {},
     "output_type": "execute_result"
    }
   ],
   "source": [
    "df[9:20]"
   ]
  },
  {
   "cell_type": "code",
   "execution_count": 43,
   "id": "85e63081",
   "metadata": {},
   "outputs": [
    {
     "data": {
      "text/html": [
       "<div>\n",
       "<style scoped>\n",
       "    .dataframe tbody tr th:only-of-type {\n",
       "        vertical-align: middle;\n",
       "    }\n",
       "\n",
       "    .dataframe tbody tr th {\n",
       "        vertical-align: top;\n",
       "    }\n",
       "\n",
       "    .dataframe thead th {\n",
       "        text-align: right;\n",
       "    }\n",
       "</style>\n",
       "<table border=\"1\" class=\"dataframe\">\n",
       "  <thead>\n",
       "    <tr style=\"text-align: right;\">\n",
       "      <th></th>\n",
       "      <th>Ac_No</th>\n",
       "      <th>Age</th>\n",
       "      <th>Years of Experience</th>\n",
       "    </tr>\n",
       "  </thead>\n",
       "  <tbody>\n",
       "    <tr>\n",
       "      <th>9</th>\n",
       "      <td>192628</td>\n",
       "      <td>16</td>\n",
       "      <td>0</td>\n",
       "    </tr>\n",
       "    <tr>\n",
       "      <th>10</th>\n",
       "      <td>154894</td>\n",
       "      <td>19</td>\n",
       "      <td>1</td>\n",
       "    </tr>\n",
       "    <tr>\n",
       "      <th>11</th>\n",
       "      <td>187293</td>\n",
       "      <td>29</td>\n",
       "      <td>8</td>\n",
       "    </tr>\n",
       "    <tr>\n",
       "      <th>12</th>\n",
       "      <td>173214</td>\n",
       "      <td>20</td>\n",
       "      <td>1</td>\n",
       "    </tr>\n",
       "    <tr>\n",
       "      <th>13</th>\n",
       "      <td>163905</td>\n",
       "      <td>67</td>\n",
       "      <td>49</td>\n",
       "    </tr>\n",
       "    <tr>\n",
       "      <th>14</th>\n",
       "      <td>157356</td>\n",
       "      <td>46</td>\n",
       "      <td>27</td>\n",
       "    </tr>\n",
       "    <tr>\n",
       "      <th>15</th>\n",
       "      <td>160387</td>\n",
       "      <td>57</td>\n",
       "      <td>40</td>\n",
       "    </tr>\n",
       "    <tr>\n",
       "      <th>16</th>\n",
       "      <td>127360</td>\n",
       "      <td>65</td>\n",
       "      <td>48</td>\n",
       "    </tr>\n",
       "    <tr>\n",
       "      <th>17</th>\n",
       "      <td>108345</td>\n",
       "      <td>20</td>\n",
       "      <td>1</td>\n",
       "    </tr>\n",
       "    <tr>\n",
       "      <th>18</th>\n",
       "      <td>122164</td>\n",
       "      <td>67</td>\n",
       "      <td>49</td>\n",
       "    </tr>\n",
       "    <tr>\n",
       "      <th>19</th>\n",
       "      <td>103555</td>\n",
       "      <td>62</td>\n",
       "      <td>45</td>\n",
       "    </tr>\n",
       "  </tbody>\n",
       "</table>\n",
       "</div>"
      ],
      "text/plain": [
       "     Ac_No  Age  Years of Experience\n",
       "9   192628   16                    0\n",
       "10  154894   19                    1\n",
       "11  187293   29                    8\n",
       "12  173214   20                    1\n",
       "13  163905   67                   49\n",
       "14  157356   46                   27\n",
       "15  160387   57                   40\n",
       "16  127360   65                   48\n",
       "17  108345   20                    1\n",
       "18  122164   67                   49\n",
       "19  103555   62                   45"
      ]
     },
     "execution_count": 43,
     "metadata": {},
     "output_type": "execute_result"
    }
   ],
   "source": [
    "df.iloc[9:20,0:3]"
   ]
  },
  {
   "cell_type": "code",
   "execution_count": 46,
   "id": "96a03b26",
   "metadata": {},
   "outputs": [
    {
     "data": {
      "text/html": [
       "<div>\n",
       "<style scoped>\n",
       "    .dataframe tbody tr th:only-of-type {\n",
       "        vertical-align: middle;\n",
       "    }\n",
       "\n",
       "    .dataframe tbody tr th {\n",
       "        vertical-align: top;\n",
       "    }\n",
       "\n",
       "    .dataframe thead th {\n",
       "        text-align: right;\n",
       "    }\n",
       "</style>\n",
       "<table border=\"1\" class=\"dataframe\">\n",
       "  <thead>\n",
       "    <tr style=\"text-align: right;\">\n",
       "      <th></th>\n",
       "      <th>Ac_No</th>\n",
       "      <th>Age</th>\n",
       "    </tr>\n",
       "  </thead>\n",
       "  <tbody>\n",
       "    <tr>\n",
       "      <th>9</th>\n",
       "      <td>192628</td>\n",
       "      <td>16</td>\n",
       "    </tr>\n",
       "    <tr>\n",
       "      <th>10</th>\n",
       "      <td>154894</td>\n",
       "      <td>19</td>\n",
       "    </tr>\n",
       "    <tr>\n",
       "      <th>11</th>\n",
       "      <td>187293</td>\n",
       "      <td>29</td>\n",
       "    </tr>\n",
       "    <tr>\n",
       "      <th>12</th>\n",
       "      <td>173214</td>\n",
       "      <td>20</td>\n",
       "    </tr>\n",
       "    <tr>\n",
       "      <th>13</th>\n",
       "      <td>163905</td>\n",
       "      <td>67</td>\n",
       "    </tr>\n",
       "    <tr>\n",
       "      <th>14</th>\n",
       "      <td>157356</td>\n",
       "      <td>46</td>\n",
       "    </tr>\n",
       "    <tr>\n",
       "      <th>15</th>\n",
       "      <td>160387</td>\n",
       "      <td>57</td>\n",
       "    </tr>\n",
       "    <tr>\n",
       "      <th>16</th>\n",
       "      <td>127360</td>\n",
       "      <td>65</td>\n",
       "    </tr>\n",
       "    <tr>\n",
       "      <th>17</th>\n",
       "      <td>108345</td>\n",
       "      <td>20</td>\n",
       "    </tr>\n",
       "    <tr>\n",
       "      <th>18</th>\n",
       "      <td>122164</td>\n",
       "      <td>67</td>\n",
       "    </tr>\n",
       "    <tr>\n",
       "      <th>19</th>\n",
       "      <td>103555</td>\n",
       "      <td>62</td>\n",
       "    </tr>\n",
       "    <tr>\n",
       "      <th>20</th>\n",
       "      <td>165177</td>\n",
       "      <td>44</td>\n",
       "    </tr>\n",
       "  </tbody>\n",
       "</table>\n",
       "</div>"
      ],
      "text/plain": [
       "     Ac_No  Age\n",
       "9   192628   16\n",
       "10  154894   19\n",
       "11  187293   29\n",
       "12  173214   20\n",
       "13  163905   67\n",
       "14  157356   46\n",
       "15  160387   57\n",
       "16  127360   65\n",
       "17  108345   20\n",
       "18  122164   67\n",
       "19  103555   62\n",
       "20  165177   44"
      ]
     },
     "execution_count": 46,
     "metadata": {},
     "output_type": "execute_result"
    }
   ],
   "source": [
    "df.loc[9:20,['Ac_No', 'Age']]"
   ]
  },
  {
   "cell_type": "code",
   "execution_count": 47,
   "id": "a381072d",
   "metadata": {},
   "outputs": [
    {
     "name": "stdout",
     "output_type": "stream",
     "text": [
      "<class 'pandas.core.frame.DataFrame'>\n",
      "RangeIndex: 15290 entries, 0 to 15289\n",
      "Data columns (total 9 columns):\n",
      " #   Column               Non-Null Count  Dtype  \n",
      "---  ------               --------------  -----  \n",
      " 0   Ac_No                15290 non-null  int64  \n",
      " 1   Age                  15290 non-null  int64  \n",
      " 2   Years of Experience  15290 non-null  int64  \n",
      " 3   Number of Vehicles   15290 non-null  int64  \n",
      " 4   Gender               15290 non-null  object \n",
      " 5   Married              15290 non-null  object \n",
      " 6   Losses in Thousands  15290 non-null  float64\n",
      " 7   Acct_Open_Dt         15290 non-null  object \n",
      " 8   Defaulted            15290 non-null  object \n",
      "dtypes: float64(1), int64(4), object(4)\n",
      "memory usage: 1.1+ MB\n"
     ]
    }
   ],
   "source": [
    "df.info()"
   ]
  },
  {
   "cell_type": "code",
   "execution_count": 48,
   "id": "ee7cffd9",
   "metadata": {},
   "outputs": [
    {
     "data": {
      "text/plain": [
       "3"
      ]
     },
     "execution_count": 48,
     "metadata": {},
     "output_type": "execute_result"
    }
   ],
   "source": [
    "df['Married'].nunique()"
   ]
  },
  {
   "cell_type": "code",
   "execution_count": 49,
   "id": "dbc7e7d5",
   "metadata": {},
   "outputs": [
    {
     "data": {
      "text/plain": [
       "2"
      ]
     },
     "execution_count": 49,
     "metadata": {},
     "output_type": "execute_result"
    }
   ],
   "source": [
    "df['Gender'].nunique()"
   ]
  },
  {
   "cell_type": "code",
   "execution_count": 51,
   "id": "2fb53bf0",
   "metadata": {},
   "outputs": [
    {
     "data": {
      "text/plain": [
       "F    7747\n",
       "M    7543\n",
       "Name: Gender, dtype: int64"
      ]
     },
     "execution_count": 51,
     "metadata": {},
     "output_type": "execute_result"
    }
   ],
   "source": [
    "df['Gender'].value_counts()\n"
   ]
  },
  {
   "cell_type": "code",
   "execution_count": 54,
   "id": "56282920",
   "metadata": {},
   "outputs": [],
   "source": [
    "data4 = df[df['Gender']=='M']\n"
   ]
  },
  {
   "cell_type": "code",
   "execution_count": 55,
   "id": "8c6de7c0",
   "metadata": {},
   "outputs": [
    {
     "data": {
      "text/plain": [
       "array(['M'], dtype=object)"
      ]
     },
     "execution_count": 55,
     "metadata": {},
     "output_type": "execute_result"
    }
   ],
   "source": [
    "data4['Gender'].unique()"
   ]
  },
  {
   "cell_type": "code",
   "execution_count": 56,
   "id": "630ba0d8",
   "metadata": {},
   "outputs": [
    {
     "data": {
      "text/plain": [
       "M    7543\n",
       "Name: Gender, dtype: int64"
      ]
     },
     "execution_count": 56,
     "metadata": {},
     "output_type": "execute_result"
    }
   ],
   "source": [
    "data4['Gender'].value_counts()"
   ]
  },
  {
   "cell_type": "code",
   "execution_count": 57,
   "id": "e6b12d44",
   "metadata": {},
   "outputs": [],
   "source": [
    "data5 = df[df['Gender']!='M']"
   ]
  },
  {
   "cell_type": "code",
   "execution_count": 58,
   "id": "c45ba350",
   "metadata": {},
   "outputs": [
    {
     "data": {
      "text/plain": [
       "F    7747\n",
       "Name: Gender, dtype: int64"
      ]
     },
     "execution_count": 58,
     "metadata": {},
     "output_type": "execute_result"
    }
   ],
   "source": [
    "data5['Gender'].value_counts()"
   ]
  },
  {
   "cell_type": "code",
   "execution_count": 60,
   "id": "fdf3adea",
   "metadata": {},
   "outputs": [],
   "source": [
    "data6 = df[(df['Gender']=='M') & (df['Age'] > 30)]"
   ]
  },
  {
   "cell_type": "code",
   "execution_count": 61,
   "id": "3bdcc3a5",
   "metadata": {},
   "outputs": [
    {
     "data": {
      "text/plain": [
       "M    4827\n",
       "Name: Gender, dtype: int64"
      ]
     },
     "execution_count": 61,
     "metadata": {},
     "output_type": "execute_result"
    }
   ],
   "source": [
    "data6['Gender'].value_counts()"
   ]
  },
  {
   "cell_type": "code",
   "execution_count": 62,
   "id": "b045cb11",
   "metadata": {},
   "outputs": [
    {
     "data": {
      "text/plain": [
       "31"
      ]
     },
     "execution_count": 62,
     "metadata": {},
     "output_type": "execute_result"
    }
   ],
   "source": [
    "np.min(data6['Age'])"
   ]
  },
  {
   "cell_type": "code",
   "execution_count": 64,
   "id": "2277043c",
   "metadata": {},
   "outputs": [],
   "source": [
    "data7 = df[df['Age'].isin([31,32])]"
   ]
  },
  {
   "cell_type": "code",
   "execution_count": 65,
   "id": "a8c4439b",
   "metadata": {},
   "outputs": [
    {
     "data": {
      "text/plain": [
       "array([31, 32], dtype=int64)"
      ]
     },
     "execution_count": 65,
     "metadata": {},
     "output_type": "execute_result"
    }
   ],
   "source": [
    "data7['Age'].unique()"
   ]
  },
  {
   "cell_type": "code",
   "execution_count": 68,
   "id": "5b801aa3",
   "metadata": {},
   "outputs": [],
   "source": [
    "data8 = df[(df['Gender']=='M') & (df['Age'].isin([31,32]))]"
   ]
  },
  {
   "cell_type": "code",
   "execution_count": 69,
   "id": "9a3b8a2b",
   "metadata": {},
   "outputs": [
    {
     "data": {
      "text/html": [
       "<div>\n",
       "<style scoped>\n",
       "    .dataframe tbody tr th:only-of-type {\n",
       "        vertical-align: middle;\n",
       "    }\n",
       "\n",
       "    .dataframe tbody tr th {\n",
       "        vertical-align: top;\n",
       "    }\n",
       "\n",
       "    .dataframe thead th {\n",
       "        text-align: right;\n",
       "    }\n",
       "</style>\n",
       "<table border=\"1\" class=\"dataframe\">\n",
       "  <thead>\n",
       "    <tr style=\"text-align: right;\">\n",
       "      <th>Age</th>\n",
       "      <th>31</th>\n",
       "      <th>32</th>\n",
       "    </tr>\n",
       "    <tr>\n",
       "      <th>Gender</th>\n",
       "      <th></th>\n",
       "      <th></th>\n",
       "    </tr>\n",
       "  </thead>\n",
       "  <tbody>\n",
       "    <tr>\n",
       "      <th>M</th>\n",
       "      <td>91</td>\n",
       "      <td>82</td>\n",
       "    </tr>\n",
       "  </tbody>\n",
       "</table>\n",
       "</div>"
      ],
      "text/plain": [
       "Age     31  32\n",
       "Gender        \n",
       "M       91  82"
      ]
     },
     "execution_count": 69,
     "metadata": {},
     "output_type": "execute_result"
    }
   ],
   "source": [
    "pd.crosstab(data8.Gender, data8.Age)"
   ]
  },
  {
   "cell_type": "code",
   "execution_count": null,
   "id": "1112bdeb",
   "metadata": {},
   "outputs": [],
   "source": []
  }
 ],
 "metadata": {
  "kernelspec": {
   "display_name": "Python 3 (ipykernel)",
   "language": "python",
   "name": "python3"
  },
  "language_info": {
   "codemirror_mode": {
    "name": "ipython",
    "version": 3
   },
   "file_extension": ".py",
   "mimetype": "text/x-python",
   "name": "python",
   "nbconvert_exporter": "python",
   "pygments_lexer": "ipython3",
   "version": "3.10.5"
  }
 },
 "nbformat": 4,
 "nbformat_minor": 5
}
