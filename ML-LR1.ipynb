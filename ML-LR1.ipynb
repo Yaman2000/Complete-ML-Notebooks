{
 "cells": [
  {
   "cell_type": "code",
   "execution_count": 82,
   "id": "f9dc0cfe",
   "metadata": {},
   "outputs": [],
   "source": [
    "import pandas as pd\n",
    "import numpy as np\n",
    "import statsmodels.api as sm\n"
   ]
  },
  {
   "cell_type": "code",
   "execution_count": 83,
   "id": "f027aff0",
   "metadata": {},
   "outputs": [
    {
     "data": {
      "text/plain": [
       "'D:\\\\Python Programming\\\\Data'"
      ]
     },
     "execution_count": 83,
     "metadata": {},
     "output_type": "execute_result"
    }
   ],
   "source": [
    "import os\n",
    "os.getcwd()"
   ]
  },
  {
   "cell_type": "code",
   "execution_count": 84,
   "id": "015e1f82",
   "metadata": {},
   "outputs": [],
   "source": [
    "os.chdir('D:\\Python Programming\\Data')"
   ]
  },
  {
   "cell_type": "code",
   "execution_count": 85,
   "id": "7a2c7de8",
   "metadata": {},
   "outputs": [
    {
     "data": {
      "text/plain": [
       "'D:\\\\Python Programming\\\\Data'"
      ]
     },
     "execution_count": 85,
     "metadata": {},
     "output_type": "execute_result"
    }
   ],
   "source": [
    "os.getcwd()"
   ]
  },
  {
   "cell_type": "code",
   "execution_count": 86,
   "id": "1e8acebb",
   "metadata": {},
   "outputs": [],
   "source": [
    "ex1 = pd.read_csv('D:\\Python Programming\\Data\\Regression1.csv')"
   ]
  },
  {
   "cell_type": "code",
   "execution_count": 87,
   "id": "80725d76",
   "metadata": {},
   "outputs": [
    {
     "data": {
      "text/html": [
       "<div>\n",
       "<style scoped>\n",
       "    .dataframe tbody tr th:only-of-type {\n",
       "        vertical-align: middle;\n",
       "    }\n",
       "\n",
       "    .dataframe tbody tr th {\n",
       "        vertical-align: top;\n",
       "    }\n",
       "\n",
       "    .dataframe thead th {\n",
       "        text-align: right;\n",
       "    }\n",
       "</style>\n",
       "<table border=\"1\" class=\"dataframe\">\n",
       "  <thead>\n",
       "    <tr style=\"text-align: right;\">\n",
       "      <th></th>\n",
       "      <th>Respondent Number</th>\n",
       "      <th>Attitude_towards_the_city</th>\n",
       "      <th>Duration_of_Residence</th>\n",
       "      <th>Importance_attached_to_Weather</th>\n",
       "    </tr>\n",
       "  </thead>\n",
       "  <tbody>\n",
       "    <tr>\n",
       "      <th>0</th>\n",
       "      <td>1.0</td>\n",
       "      <td>6.0</td>\n",
       "      <td>10.0</td>\n",
       "      <td>3.0</td>\n",
       "    </tr>\n",
       "    <tr>\n",
       "      <th>1</th>\n",
       "      <td>2.0</td>\n",
       "      <td>9.0</td>\n",
       "      <td>12.0</td>\n",
       "      <td>11.0</td>\n",
       "    </tr>\n",
       "    <tr>\n",
       "      <th>2</th>\n",
       "      <td>3.0</td>\n",
       "      <td>8.0</td>\n",
       "      <td>12.0</td>\n",
       "      <td>4.0</td>\n",
       "    </tr>\n",
       "    <tr>\n",
       "      <th>3</th>\n",
       "      <td>4.0</td>\n",
       "      <td>3.0</td>\n",
       "      <td>4.0</td>\n",
       "      <td>1.0</td>\n",
       "    </tr>\n",
       "    <tr>\n",
       "      <th>4</th>\n",
       "      <td>NaN</td>\n",
       "      <td>NaN</td>\n",
       "      <td>NaN</td>\n",
       "      <td>NaN</td>\n",
       "    </tr>\n",
       "    <tr>\n",
       "      <th>5</th>\n",
       "      <td>6.0</td>\n",
       "      <td>4.0</td>\n",
       "      <td>6.0</td>\n",
       "      <td>1.0</td>\n",
       "    </tr>\n",
       "    <tr>\n",
       "      <th>6</th>\n",
       "      <td>7.0</td>\n",
       "      <td>5.0</td>\n",
       "      <td>8.0</td>\n",
       "      <td>7.0</td>\n",
       "    </tr>\n",
       "    <tr>\n",
       "      <th>7</th>\n",
       "      <td>8.0</td>\n",
       "      <td>2.0</td>\n",
       "      <td>2.0</td>\n",
       "      <td>4.0</td>\n",
       "    </tr>\n",
       "    <tr>\n",
       "      <th>8</th>\n",
       "      <td>9.0</td>\n",
       "      <td>11.0</td>\n",
       "      <td>18.0</td>\n",
       "      <td>8.0</td>\n",
       "    </tr>\n",
       "    <tr>\n",
       "      <th>9</th>\n",
       "      <td>10.0</td>\n",
       "      <td>9.0</td>\n",
       "      <td>9.0</td>\n",
       "      <td>10.0</td>\n",
       "    </tr>\n",
       "    <tr>\n",
       "      <th>10</th>\n",
       "      <td>11.0</td>\n",
       "      <td>10.0</td>\n",
       "      <td>17.0</td>\n",
       "      <td>8.0</td>\n",
       "    </tr>\n",
       "    <tr>\n",
       "      <th>11</th>\n",
       "      <td>12.0</td>\n",
       "      <td>2.0</td>\n",
       "      <td>2.0</td>\n",
       "      <td>5.0</td>\n",
       "    </tr>\n",
       "  </tbody>\n",
       "</table>\n",
       "</div>"
      ],
      "text/plain": [
       "    Respondent Number  Attitude_towards_the_city  Duration_of_Residence  \\\n",
       "0                 1.0                        6.0                   10.0   \n",
       "1                 2.0                        9.0                   12.0   \n",
       "2                 3.0                        8.0                   12.0   \n",
       "3                 4.0                        3.0                    4.0   \n",
       "4                 NaN                        NaN                    NaN   \n",
       "5                 6.0                        4.0                    6.0   \n",
       "6                 7.0                        5.0                    8.0   \n",
       "7                 8.0                        2.0                    2.0   \n",
       "8                 9.0                       11.0                   18.0   \n",
       "9                10.0                        9.0                    9.0   \n",
       "10               11.0                       10.0                   17.0   \n",
       "11               12.0                        2.0                    2.0   \n",
       "\n",
       "    Importance_attached_to_Weather  \n",
       "0                              3.0  \n",
       "1                             11.0  \n",
       "2                              4.0  \n",
       "3                              1.0  \n",
       "4                              NaN  \n",
       "5                              1.0  \n",
       "6                              7.0  \n",
       "7                              4.0  \n",
       "8                              8.0  \n",
       "9                             10.0  \n",
       "10                             8.0  \n",
       "11                             5.0  "
      ]
     },
     "execution_count": 87,
     "metadata": {},
     "output_type": "execute_result"
    }
   ],
   "source": [
    "ex1"
   ]
  },
  {
   "cell_type": "code",
   "execution_count": 88,
   "id": "c97538b3",
   "metadata": {},
   "outputs": [],
   "source": [
    "ex1.head()\n",
    "ex1.drop([4], axis=0, inplace=True)"
   ]
  },
  {
   "cell_type": "code",
   "execution_count": 89,
   "id": "a842b0e0",
   "metadata": {},
   "outputs": [
    {
     "data": {
      "text/html": [
       "<div>\n",
       "<style scoped>\n",
       "    .dataframe tbody tr th:only-of-type {\n",
       "        vertical-align: middle;\n",
       "    }\n",
       "\n",
       "    .dataframe tbody tr th {\n",
       "        vertical-align: top;\n",
       "    }\n",
       "\n",
       "    .dataframe thead th {\n",
       "        text-align: right;\n",
       "    }\n",
       "</style>\n",
       "<table border=\"1\" class=\"dataframe\">\n",
       "  <thead>\n",
       "    <tr style=\"text-align: right;\">\n",
       "      <th></th>\n",
       "      <th>Respondent Number</th>\n",
       "      <th>Attitude_towards_the_city</th>\n",
       "      <th>Duration_of_Residence</th>\n",
       "      <th>Importance_attached_to_Weather</th>\n",
       "    </tr>\n",
       "  </thead>\n",
       "  <tbody>\n",
       "    <tr>\n",
       "      <th>0</th>\n",
       "      <td>1.0</td>\n",
       "      <td>6.0</td>\n",
       "      <td>10.0</td>\n",
       "      <td>3.0</td>\n",
       "    </tr>\n",
       "    <tr>\n",
       "      <th>1</th>\n",
       "      <td>2.0</td>\n",
       "      <td>9.0</td>\n",
       "      <td>12.0</td>\n",
       "      <td>11.0</td>\n",
       "    </tr>\n",
       "    <tr>\n",
       "      <th>2</th>\n",
       "      <td>3.0</td>\n",
       "      <td>8.0</td>\n",
       "      <td>12.0</td>\n",
       "      <td>4.0</td>\n",
       "    </tr>\n",
       "    <tr>\n",
       "      <th>3</th>\n",
       "      <td>4.0</td>\n",
       "      <td>3.0</td>\n",
       "      <td>4.0</td>\n",
       "      <td>1.0</td>\n",
       "    </tr>\n",
       "    <tr>\n",
       "      <th>5</th>\n",
       "      <td>6.0</td>\n",
       "      <td>4.0</td>\n",
       "      <td>6.0</td>\n",
       "      <td>1.0</td>\n",
       "    </tr>\n",
       "    <tr>\n",
       "      <th>6</th>\n",
       "      <td>7.0</td>\n",
       "      <td>5.0</td>\n",
       "      <td>8.0</td>\n",
       "      <td>7.0</td>\n",
       "    </tr>\n",
       "    <tr>\n",
       "      <th>7</th>\n",
       "      <td>8.0</td>\n",
       "      <td>2.0</td>\n",
       "      <td>2.0</td>\n",
       "      <td>4.0</td>\n",
       "    </tr>\n",
       "    <tr>\n",
       "      <th>8</th>\n",
       "      <td>9.0</td>\n",
       "      <td>11.0</td>\n",
       "      <td>18.0</td>\n",
       "      <td>8.0</td>\n",
       "    </tr>\n",
       "    <tr>\n",
       "      <th>9</th>\n",
       "      <td>10.0</td>\n",
       "      <td>9.0</td>\n",
       "      <td>9.0</td>\n",
       "      <td>10.0</td>\n",
       "    </tr>\n",
       "    <tr>\n",
       "      <th>10</th>\n",
       "      <td>11.0</td>\n",
       "      <td>10.0</td>\n",
       "      <td>17.0</td>\n",
       "      <td>8.0</td>\n",
       "    </tr>\n",
       "    <tr>\n",
       "      <th>11</th>\n",
       "      <td>12.0</td>\n",
       "      <td>2.0</td>\n",
       "      <td>2.0</td>\n",
       "      <td>5.0</td>\n",
       "    </tr>\n",
       "  </tbody>\n",
       "</table>\n",
       "</div>"
      ],
      "text/plain": [
       "    Respondent Number  Attitude_towards_the_city  Duration_of_Residence  \\\n",
       "0                 1.0                        6.0                   10.0   \n",
       "1                 2.0                        9.0                   12.0   \n",
       "2                 3.0                        8.0                   12.0   \n",
       "3                 4.0                        3.0                    4.0   \n",
       "5                 6.0                        4.0                    6.0   \n",
       "6                 7.0                        5.0                    8.0   \n",
       "7                 8.0                        2.0                    2.0   \n",
       "8                 9.0                       11.0                   18.0   \n",
       "9                10.0                        9.0                    9.0   \n",
       "10               11.0                       10.0                   17.0   \n",
       "11               12.0                        2.0                    2.0   \n",
       "\n",
       "    Importance_attached_to_Weather  \n",
       "0                              3.0  \n",
       "1                             11.0  \n",
       "2                              4.0  \n",
       "3                              1.0  \n",
       "5                              1.0  \n",
       "6                              7.0  \n",
       "7                              4.0  \n",
       "8                              8.0  \n",
       "9                             10.0  \n",
       "10                             8.0  \n",
       "11                             5.0  "
      ]
     },
     "execution_count": 89,
     "metadata": {},
     "output_type": "execute_result"
    }
   ],
   "source": [
    "ex1"
   ]
  },
  {
   "cell_type": "code",
   "execution_count": 90,
   "id": "a13f108c",
   "metadata": {},
   "outputs": [],
   "source": [
    "Y = ex1.Attitude_towards_the_city"
   ]
  },
  {
   "cell_type": "code",
   "execution_count": 91,
   "id": "a3bbe2c2",
   "metadata": {},
   "outputs": [],
   "source": [
    "X = ex1.Duration_of_Residence"
   ]
  },
  {
   "cell_type": "code",
   "execution_count": 92,
   "id": "7e0ea335",
   "metadata": {},
   "outputs": [],
   "source": [
    "X1 = sm.add_constant(X) #y = Beta_not + Beta1(x1) - Calculated value, X1 independent "
   ]
  },
  {
   "cell_type": "code",
   "execution_count": 93,
   "id": "da05b7ae",
   "metadata": {},
   "outputs": [],
   "source": [
    "simple=sm.OLS(Y, X1) #Ordinary least square we have to minimize the square sigma(y-y^)^2"
   ]
  },
  {
   "cell_type": "code",
   "execution_count": 94,
   "id": "432832e4",
   "metadata": {},
   "outputs": [],
   "source": [
    "result = simple.fit()"
   ]
  },
  {
   "cell_type": "code",
   "execution_count": 95,
   "id": "6bc96520",
   "metadata": {},
   "outputs": [
    {
     "name": "stderr",
     "output_type": "stream",
     "text": [
      "C:\\Users\\Dell\\AppData\\Local\\Programs\\Python\\Python310\\lib\\site-packages\\scipy\\stats\\_stats_py.py:1477: UserWarning: kurtosistest only valid for n>=20 ... continuing anyway, n=11\n",
      "  warnings.warn(\"kurtosistest only valid for n>=20 ... continuing \"\n"
     ]
    },
    {
     "data": {
      "text/html": [
       "<table class=\"simpletable\">\n",
       "<caption>OLS Regression Results</caption>\n",
       "<tr>\n",
       "  <th>Dep. Variable:</th>    <td>Attitude_towards_the_city</td> <th>  R-squared:         </th> <td>   0.897</td>\n",
       "</tr>\n",
       "<tr>\n",
       "  <th>Model:</th>                       <td>OLS</td>            <th>  Adj. R-squared:    </th> <td>   0.885</td>\n",
       "</tr>\n",
       "<tr>\n",
       "  <th>Method:</th>                 <td>Least Squares</td>       <th>  F-statistic:       </th> <td>   78.26</td>\n",
       "</tr>\n",
       "<tr>\n",
       "  <th>Date:</th>                 <td>Sat, 23 Jul 2022</td>      <th>  Prob (F-statistic):</th> <td>9.83e-06</td>\n",
       "</tr>\n",
       "<tr>\n",
       "  <th>Time:</th>                     <td>02:29:58</td>          <th>  Log-Likelihood:    </th> <td> -15.687</td>\n",
       "</tr>\n",
       "<tr>\n",
       "  <th>No. Observations:</th>          <td>    11</td>           <th>  AIC:               </th> <td>   35.37</td>\n",
       "</tr>\n",
       "<tr>\n",
       "  <th>Df Residuals:</th>              <td>     9</td>           <th>  BIC:               </th> <td>   36.17</td>\n",
       "</tr>\n",
       "<tr>\n",
       "  <th>Df Model:</th>                  <td>     1</td>           <th>                     </th>     <td> </td>   \n",
       "</tr>\n",
       "<tr>\n",
       "  <th>Covariance Type:</th>          <td>nonrobust</td>         <th>                     </th>     <td> </td>   \n",
       "</tr>\n",
       "</table>\n",
       "<table class=\"simpletable\">\n",
       "<tr>\n",
       "            <td></td>               <th>coef</th>     <th>std err</th>      <th>t</th>      <th>P>|t|</th>  <th>[0.025</th>    <th>0.975]</th>  \n",
       "</tr>\n",
       "<tr>\n",
       "  <th>const</th>                 <td>    1.0759</td> <td>    0.677</td> <td>    1.590</td> <td> 0.146</td> <td>   -0.455</td> <td>    2.607</td>\n",
       "</tr>\n",
       "<tr>\n",
       "  <th>Duration_of_Residence</th> <td>    0.5716</td> <td>    0.065</td> <td>    8.847</td> <td> 0.000</td> <td>    0.425</td> <td>    0.718</td>\n",
       "</tr>\n",
       "</table>\n",
       "<table class=\"simpletable\">\n",
       "<tr>\n",
       "  <th>Omnibus:</th>       <td>15.796</td> <th>  Durbin-Watson:     </th> <td>   2.497</td>\n",
       "</tr>\n",
       "<tr>\n",
       "  <th>Prob(Omnibus):</th> <td> 0.000</td> <th>  Jarque-Bera (JB):  </th> <td>   9.316</td>\n",
       "</tr>\n",
       "<tr>\n",
       "  <th>Skew:</th>          <td> 1.883</td> <th>  Prob(JB):          </th> <td> 0.00949</td>\n",
       "</tr>\n",
       "<tr>\n",
       "  <th>Kurtosis:</th>      <td> 5.480</td> <th>  Cond. No.          </th> <td>    21.2</td>\n",
       "</tr>\n",
       "</table><br/><br/>Notes:<br/>[1] Standard Errors assume that the covariance matrix of the errors is correctly specified."
      ],
      "text/plain": [
       "<class 'statsmodels.iolib.summary.Summary'>\n",
       "\"\"\"\n",
       "                                OLS Regression Results                               \n",
       "=====================================================================================\n",
       "Dep. Variable:     Attitude_towards_the_city   R-squared:                       0.897\n",
       "Model:                                   OLS   Adj. R-squared:                  0.885\n",
       "Method:                        Least Squares   F-statistic:                     78.26\n",
       "Date:                       Sat, 23 Jul 2022   Prob (F-statistic):           9.83e-06\n",
       "Time:                               02:29:58   Log-Likelihood:                -15.687\n",
       "No. Observations:                         11   AIC:                             35.37\n",
       "Df Residuals:                              9   BIC:                             36.17\n",
       "Df Model:                                  1                                         \n",
       "Covariance Type:                   nonrobust                                         \n",
       "=========================================================================================\n",
       "                            coef    std err          t      P>|t|      [0.025      0.975]\n",
       "-----------------------------------------------------------------------------------------\n",
       "const                     1.0759      0.677      1.590      0.146      -0.455       2.607\n",
       "Duration_of_Residence     0.5716      0.065      8.847      0.000       0.425       0.718\n",
       "==============================================================================\n",
       "Omnibus:                       15.796   Durbin-Watson:                   2.497\n",
       "Prob(Omnibus):                  0.000   Jarque-Bera (JB):                9.316\n",
       "Skew:                           1.883   Prob(JB):                      0.00949\n",
       "Kurtosis:                       5.480   Cond. No.                         21.2\n",
       "==============================================================================\n",
       "\n",
       "Notes:\n",
       "[1] Standard Errors assume that the covariance matrix of the errors is correctly specified.\n",
       "\"\"\""
      ]
     },
     "execution_count": 95,
     "metadata": {},
     "output_type": "execute_result"
    }
   ],
   "source": [
    "result.summary()"
   ]
  },
  {
   "cell_type": "code",
   "execution_count": null,
   "id": "0bbe1539",
   "metadata": {},
   "outputs": [],
   "source": [
    "#see we hve r^2 value = 89% how independent(Duration of residence) affecting\n",
    "#dependent(Attitude) variable , we can go for regression\n",
    "#y = 1.073 + .5716*(0.00000) duration must be less than .05"
   ]
  }
 ],
 "metadata": {
  "kernelspec": {
   "display_name": "Python 3 (ipykernel)",
   "language": "python",
   "name": "python3"
  },
  "language_info": {
   "codemirror_mode": {
    "name": "ipython",
    "version": 3
   },
   "file_extension": ".py",
   "mimetype": "text/x-python",
   "name": "python",
   "nbconvert_exporter": "python",
   "pygments_lexer": "ipython3",
   "version": "3.10.5"
  }
 },
 "nbformat": 4,
 "nbformat_minor": 5
}
